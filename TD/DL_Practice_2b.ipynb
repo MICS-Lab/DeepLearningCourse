{
  "cells": [
    {
      "attachments": {},
      "cell_type": "markdown",
      "metadata": {
        "id": "0QnY5MVW08Ea"
      },
      "source": [
        "\n",
        "<svg\n",
        "   width=\"200mm\"\n",
        "   height=\"200mm\"\n",
        "   viewBox=\"0 0 200 200\"\n",
        "   version=\"1.1\"\n",
        "   id=\"svg5\"\n",
        "   xml:space=\"preserve\"\n",
        "   inkscape:version=\"1.2.1 (9c6d41e410, 2022-07-14)\"\n",
        "   sodipodi:docname=\"just_torchèit.svg\"\n",
        "   xmlns:inkscape=\"http://www.inkscape.org/namespaces/inkscape\"\n",
        "   xmlns:sodipodi=\"http://sodipodi.sourceforge.net/DTD/sodipodi-0.dtd\"\n",
        "   xmlns=\"http://www.w3.org/2000/svg\"\n",
        "   xmlns:svg=\"http://www.w3.org/2000/svg\"><sodipodi:namedview\n",
        "     id=\"namedview7\"\n",
        "     pagecolor=\"#ffffff\"\n",
        "     bordercolor=\"#000000\"\n",
        "     borderopacity=\"0.25\"\n",
        "     inkscape:showpageshadow=\"2\"\n",
        "     inkscape:pageopacity=\"0.0\"\n",
        "     inkscape:pagecheckerboard=\"0\"\n",
        "     inkscape:deskcolor=\"#d1d1d1\"\n",
        "     inkscape:document-units=\"mm\"\n",
        "     showgrid=\"false\"\n",
        "     inkscape:zoom=\"0.50646226\"\n",
        "     inkscape:cx=\"-119.45609\"\n",
        "     inkscape:cy=\"518.30121\"\n",
        "     inkscape:window-width=\"1920\"\n",
        "     inkscape:window-height=\"991\"\n",
        "     inkscape:window-x=\"-9\"\n",
        "     inkscape:window-y=\"-9\"\n",
        "     inkscape:window-maximized=\"1\"\n",
        "     inkscape:current-layer=\"layer1\" /><defs\n",
        "     id=\"defs2\" /><g\n",
        "     inkscape:label=\"Layer 1\"\n",
        "     inkscape:groupmode=\"layer\"\n",
        "     id=\"layer1\"\n",
        "     transform=\"translate(-20.896588,-4.1793177)\"><path\n",
        "       style=\"fill:#000000;stroke-width:0.211886\"\n",
        "       d=\"M 20.896588,4.1793177 H 220.89659 V 204.17932 H 20.896588 Z\"\n",
        "       id=\"path302\"\n",
        "       sodipodi:nodetypes=\"ccccc\" /><text\n",
        "       xml:space=\"preserve\"\n",
        "       style=\"font-style:normal;font-variant:normal;font-weight:bold;font-stretch:normal;font-size:35.2777px;font-family:sans-serif;-inkscape-font-specification:'sans-serif Bold';fill:#800000;stroke:none;stroke-width:3;stroke-linecap:round\"\n",
        "       x=\"196.70709\"\n",
        "       y=\"21.794775\"\n",
        "       id=\"text1576\"><tspan\n",
        "         sodipodi:role=\"line\"\n",
        "         id=\"tspan1574\"\n",
        "         style=\"stroke-width:3\"\n",
        "         x=\"196.70709\"\n",
        "         y=\"21.794775\" /></text><path\n",
        "       style=\"fill:#000000;stroke-width:0.304468\"\n",
        "       d=\"m 125.36055,92.926981 v -7.126505 l 0.68505,0.166674 c 1.92026,0.4672 2.81634,2.67254 2.81634,6.931327 0,1.674579 -0.10817,3.554438 -0.24047,4.177476 -0.31542,1.485925 -1.58124,2.977537 -2.52681,2.977537 h -0.73411 z\"\n",
        "       id=\"path489\" /><path\n",
        "       style=\"fill:#000000;stroke-width:0.304468\"\n",
        "       d=\"m 148.01575,100.36354 c -1.2242,-0.489592 -1.49464,-1.89546 -1.49464,-7.769527 0,-4.603217 0.0835,-5.633113 0.52219,-6.434286 1.03794,-1.895924 3.15835,-1.510988 3.93698,0.714718 0.51449,1.470654 0.5212,9.768309 0.009,11.545108 -0.50712,1.760367 -1.61772,2.486347 -2.97386,1.943987 z\"\n",
        "       id=\"path487\" /><path\n",
        "       style=\"fill:#ed4b2a;stroke:none;stroke-width:0.106708\"\n",
        "       d=\"m 109.63903,136.36646 -9.710385,9.71039 c -1.817662,1.81766 -3.797499,3.56403 -5.433113,5.54878 -8.436527,10.23754 -3.74384,26.56934 8.847758,30.76732 1.89811,0.63289 3.86367,1.03154 5.86891,1.03154 2.02745,0 4.02405,-0.14554 5.97562,-0.74962 2.86627,-0.88727 5.42801,-2.31086 7.68294,-4.29605 2.30457,-2.02904 3.98553,-4.70633 5.10031,-7.54582 1.26117,-3.21222 1.45165,-6.74807 0.98202,-10.13722 -0.55157,-3.98072 -2.62692,-7.74856 -5.44207,-10.56405 h -0.10668 l -2.34756,2.34757 c -0.26688,0.26697 -0.81769,0.65326 -0.83584,1.06707 -0.0213,0.48659 0.68421,1.03849 0.96305,1.3872 0.75644,0.94587 1.36393,1.99512 1.86727,3.09452 1.60221,3.49915 1.66795,7.63952 0.24638,11.20429 -0.68858,1.72665 -1.68651,3.35937 -2.98941,4.69514 -7.36367,7.54914 -20.24723,5.26944 -24.221008,-4.69514 -0.652842,-1.637 -1.097065,-3.56316 -1.053313,-5.33537 0.17542,-7.10587 5.351591,-11.34099 10.016751,-16.00614 l 3.09451,-3.09452 c 0.47859,-0.47858 1.18478,-0.98832 1.49091,-1.60061 0.24841,-0.49673 0.10967,-1.27227 0.10967,-1.81402 0,-1.4142 0.43825,-3.71673 -0.10668,-5.01526 m 6.29575,7.84609 c -3.2725,0.75657 -1.86205,5.75197 1.3872,4.90354 3.14413,-0.82101 1.73976,-5.62638 -1.3872,-4.90354 z\"\n",
        "       id=\"path412\" /><path\n",
        "       id=\"path563\"\n",
        "       style=\"fill:#ffffff;stroke-width:3.45224\"\n",
        "       d=\"m 202.14869,93.061368 c 0,2.531623 -2.05229,4.583909 -4.58391,4.583904 -2.53162,-1e-6 -4.5839,-2.052285 -4.5839,-4.583904 0,-2.531614 2.05229,-4.583892 4.5839,-4.583893 2.53162,-4e-6 4.58391,2.052274 4.58391,4.583893 z M 98.558795,126.08843 c 2.596345,-0.82592 49.850065,-20.98505 49.505655,-21.11982 -0.11219,-0.044 -3.76125,0.87126 -8.10904,2.0337 -4.3478,1.16244 -14.61862,3.90951 -22.82404,6.10461 -14.16657,3.78984 -17.996581,4.66883 -19.243887,4.41657 -0.300609,-0.0608 -1.063278,-0.19336 -1.694831,-0.29458 -1.36917,-0.21944 -3.188604,-1.71997 -3.768581,-3.10803 -0.807053,-1.93155 -0.339516,-5.35683 1.155189,-8.46352 l 0.585949,-1.21787 -1.403301,1.52234 c -5.626945,6.10428 -8.516528,12.41383 -7.459866,16.28905 0.469125,1.72049 2.755417,4.03511 4.460364,4.51565 1.86093,0.52451 6.025057,0.2035 8.796389,-0.6781 z M 48.209596,96.615699 c 1.673519,-0.703943 2.770215,-1.775875 3.521032,-3.441535 0.493774,-1.09543 0.558285,-2.434681 0.641184,-13.320497 l 0.09218,-12.102604 h -3.974189 -3.974185 l -0.0069,9.8191 c -0.0069,9.720639 -0.179321,11.951822 -0.960241,12.446962 -0.619712,0.392911 -1.833048,0.308757 -2.79704,-0.19399 -0.479654,-0.250149 -0.924935,-0.454832 -0.989515,-0.454832 -0.06456,0 -0.117434,1.579016 -0.117434,3.508922 v 3.508923 l 0.837283,0.322267 c 2.490918,0.958733 5.308844,0.924935 7.728151,-0.09275 z m 23.207087,-2.062342 c 2.119365,-2.145936 2.106706,-3.075336 2.253634,-15.613084 l 0.131127,-11.189198 h -4.138741 -4.13873 v 10.284171 c 0,11.364587 -0.04281,11.637544 -1.82681,11.637544 -1.783968,0 -1.826811,-0.272957 -1.826811,-11.637544 V 67.751075 H 57.740046 53.60974 l 0.102531,11.341442 c 0.09839,10.884841 0.129735,11.40936 0.779194,13.028426 1.500827,3.741481 6.586679,5.439312 9.679495,5.377195 3.092816,-0.06214 5.126358,-0.79886 7.245723,-2.944781 z m 83.951317,0.06718 c 4.7847,-5.449473 4.8069,-19.035263 0.0399,-24.464483 -0.51551,-0.587146 -1.66604,-1.46459 -2.55673,-1.949883 -1.33947,-0.729815 -2.0668,-0.903095 -4.2074,-1.002404 -3.35327,-0.155569 -5.37094,0.549965 -7.41321,2.59223 -2.76646,2.766461 -3.94516,6.557895 -3.95502,12.721763 -0.009,5.836699 1.14992,9.599465 3.78589,12.288565 2.11589,2.158521 3.56869,2.718359 7.15313,2.756438 2.71024,-0.1956 5.3225,-0.849143 7.15341,-2.942226 z m -8.12196,-4.637714 c -1.2242,-0.489596 -1.49465,-1.895464 -1.49465,-7.769528 0,-4.603213 0.0836,-5.633109 0.5222,-6.434282 1.03794,-1.895924 3.15835,-1.510988 3.93698,0.714718 0.51449,1.470651 0.5212,9.768302 0.009,11.545101 -0.50712,1.760367 -1.61772,2.486346 -2.97386,1.943991 z m -61.633227,6.789365 c 1.836373,-0.593083 4.326267,-2.679234 5.161962,-4.32494 0.910816,-1.793658 1.292519,-4.230407 0.947583,-6.049265 -0.535178,-2.821996 -1.535108,-4.144757 -5.23301,-6.922498 -2.47651,-1.860259 -3.001734,-2.46859 -3.001734,-3.476633 0,-1.188008 0.533026,-1.549503 2.284796,-1.549503 1.181978,0 1.878168,0.205638 2.907672,0.858917 l 1.353601,0.858929 -0.08918,-3.370791 c -0.04914,-1.85393 -0.142071,-3.527783 -0.20664,-3.719682 -0.250828,-0.745361 -3.297856,-1.478157 -6.09798,-1.466546 -3.137131,0.013 -4.82851,0.601427 -6.48226,2.255176 -1.758203,1.758203 -2.042851,2.587854 -2.042851,5.95411 0,3.737427 0.484775,4.819934 3.225278,7.20198 4.40125,3.825562 4.843137,4.288197 4.843137,5.070555 0,2.55676 -3.752885,2.555586 -7.383364,-0.0023 l -0.837284,-0.589918 v 4.093939 4.093931 l 1.750689,0.630813 c 2.325372,0.837882 2.609387,0.889297 5.141007,0.930448 1.298768,0.02117 2.810331,-0.170702 3.758627,-0.476962 z m 19.733247,-10.753227 -0.089,-10.961029 2.35962,1.73e-4 2.35963,1.84e-4 v -3.653617 -3.653621 h -8.82958 -8.82959 v 3.653621 3.653617 h 2.435751 2.43574 v 10.960856 10.960856 h 4.123169 4.12316 z m 24.82106,9.793761 c 4.53859,-2.234624 6.56517,-7.09984 6.22409,-14.94236 -0.29419,-6.764316 -2.45421,-10.266576 -7.49014,-12.144514 -1.78503,-0.665649 -2.65303,-0.773405 -7.2788,-0.903635 l -5.25208,-0.147871 v 14.685122 14.685118 l 5.86765,-0.1084 5.86765,-0.1084 z m -5.57628,-13.266458 v -7.126502 l 0.68505,0.166674 c 1.92025,0.467192 2.81634,2.672537 2.81634,6.931324 0,1.674575 -0.10817,3.554435 -0.24047,4.177472 -0.31542,1.485925 -1.58124,2.977534 -2.52681,2.977534 h -0.73411 z m 49.01942,-0.180736 V 67.751052 h -4.11033 -4.11032 v 14.614477 14.614473 h 4.11032 4.11033 z m 14.00537,4.186436 c -0.008,-5.735422 -0.0115,-10.667807 -0.007,-10.960856 0.007,-0.459424 0.32208,-0.532819 2.29101,-0.532819 h 2.28352 v -3.653617 -3.653621 h -8.82959 -8.82958 v 3.653621 3.653617 h 2.43574 2.43575 v 10.960856 10.960856 h 4.11767 4.11766 l -0.0148,-10.428037 z\"\n",
        "       sodipodi:nodetypes=\"sssssscsscssscsssscssccccsssscsccsscccssscccsscscsssscscccscsccccsssssscccsssssscccsccccccccccccccccccccsssscccccsccsscscccccccccccccsccccccccccccccc\" /><path\n",
        "       id=\"path621-5\"\n",
        "       style=\"fill:none;stroke:#ed4b2a;stroke-width:4.60299;stroke-linecap:round;stroke-dasharray:none;stroke-opacity:1\"\n",
        "       d=\"m 85.409086,130.89831 49.345314,-25.5992 m -49.345315,0 49.345315,25.5992\" /><path\n",
        "       style=\"fill:none;fill-opacity:1;stroke:#ed4b2a;stroke-width:7.47985;stroke-linecap:round;stroke-dasharray:none;stroke-opacity:1\"\n",
        "       d=\"M 114.5905,95.930682 160.88035,70.681669\"\n",
        "       id=\"path1308\" /><text\n",
        "       xml:space=\"preserve\"\n",
        "       style=\"font-style:normal;font-variant:normal;font-weight:bold;font-stretch:normal;font-size:40.5958px;font-family:sans-serif;-inkscape-font-specification:'sans-serif Bold';letter-spacing:-3.95809px;fill:#ed4b2a;fill-opacity:1;stroke:none;stroke-width:3.45224;stroke-linecap:round\"\n",
        "       x=\"61.899269\"\n",
        "       y=\"55.063835\"\n",
        "       id=\"text1364\"><tspan\n",
        "         sodipodi:role=\"line\"\n",
        "         id=\"tspan1362\"\n",
        "         style=\"font-style:normal;font-variant:normal;font-weight:bold;font-stretch:normal;font-size:40.5958px;font-family:sans-serif;-inkscape-font-specification:'sans-serif Bold';fill:#ed4b2a;fill-opacity:1;stroke:none;stroke-width:3.45224\"\n",
        "         x=\"61.899269\"\n",
        "         y=\"55.063835\">TORCH</tspan></text><path\n",
        "       style=\"fill:none;fill-opacity:1;stroke:#ed4b2a;stroke-width:2.87687;stroke-linecap:round;stroke-dasharray:none;stroke-opacity:1\"\n",
        "       d=\"m 111.71193,60.635276 c 15.41576,2.758634 21.99973,7.127035 27.79549,12.709057 7.05969,-7.970759 15.09665,-12.274437 26.2513,-14.167472\"\n",
        "       id=\"path2675\"\n",
        "       sodipodi:nodetypes=\"ccc\" /></g></svg>"
      ]
    },
    {
      "cell_type": "markdown",
      "metadata": {
        "id": "k5e4BjKq1B0D"
      },
      "source": [
        "# Deep Learning with PyTorch"
      ]
    },
    {
      "cell_type": "markdown",
      "metadata": {
        "id": "UnghrM6i1hZN"
      },
      "source": [
        "[use PyTorch for all questions]"
      ]
    },
    {
      "cell_type": "code",
      "execution_count": 1,
      "metadata": {
        "id": "Ka-VVFiCuOb5"
      },
      "outputs": [],
      "source": [
        "import torch\n",
        "import torch.nn as nn\n",
        "import numpy as np\n",
        "import matplotlib.pyplot as plt"
      ]
    },
    {
      "cell_type": "markdown",
      "metadata": {
        "id": "aythUwT31n-p"
      },
      "source": [
        "## $XOR$\n",
        "**Fitting the $XOR$ function (again!)**"
      ]
    },
    {
      "cell_type": "markdown",
      "metadata": {
        "id": "4EWFDHbs2STt"
      },
      "source": [
        "Define the $XOR$ function & generate training data"
      ]
    },
    {
      "cell_type": "code",
      "execution_count": 1,
      "metadata": {
        "id": "UnnBGrp21nax"
      },
      "outputs": [],
      "source": []
    },
    {
      "cell_type": "markdown",
      "metadata": {
        "id": "PAGBIn0m2bEH"
      },
      "source": [
        "Convert training data to tensors"
      ]
    },
    {
      "cell_type": "code",
      "execution_count": 1,
      "metadata": {
        "id": "FsGk_lSu2ZPt"
      },
      "outputs": [],
      "source": []
    },
    {
      "cell_type": "markdown",
      "metadata": {
        "id": "2kZWGBW-2gJ_"
      },
      "source": [
        "Define the neural network using the nn.Module class with:\n",
        "- two fully connected layers\n",
        "- relu activation for the hidden layer; no activation for the output layer\n",
        "- the number of hidden units as a parameter, set to $6$ by default"
      ]
    },
    {
      "cell_type": "code",
      "execution_count": 1,
      "metadata": {
        "id": "piIat5Fi2mxY"
      },
      "outputs": [],
      "source": []
    },
    {
      "cell_type": "markdown",
      "metadata": {
        "id": "QUMin_Wv2oXH"
      },
      "source": [
        "Create an instance of the neural network and test its outputs (should be random noise)"
      ]
    },
    {
      "cell_type": "code",
      "execution_count": 1,
      "metadata": {
        "id": "s-sEWe-92o1R"
      },
      "outputs": [],
      "source": []
    },
    {
      "cell_type": "markdown",
      "metadata": {
        "id": "mhSbWwZ-4a0m"
      },
      "source": [
        "Define the loss function (MSE) and optimizer (SGD) with learning rate $0.01$"
      ]
    },
    {
      "cell_type": "code",
      "execution_count": 1,
      "metadata": {
        "id": "uNXPzwjV2pdY"
      },
      "outputs": [],
      "source": []
    },
    {
      "cell_type": "markdown",
      "metadata": {
        "id": "5D9k2CNC5CJU"
      },
      "source": [
        "Train the neural network for $5000$ epochs;\n",
        "in addition:\n",
        "- print the loss every $500$ epochs\n",
        "- save the losses and plot them in a semilogy"
      ]
    },
    {
      "cell_type": "code",
      "execution_count": 1,
      "metadata": {
        "id": "0izoD6Qb2pgp"
      },
      "outputs": [],
      "source": []
    },
    {
      "cell_type": "markdown",
      "metadata": {
        "id": "-ZAMfSjK7G93"
      },
      "source": [
        "Test your model & plot its outputs"
      ]
    },
    {
      "cell_type": "code",
      "execution_count": 1,
      "metadata": {
        "id": "slUWPGN22pja"
      },
      "outputs": [],
      "source": []
    },
    {
      "cell_type": "markdown",
      "metadata": {
        "id": "P8n46Kl5PMxi"
      },
      "source": [
        "-----"
      ]
    },
    {
      "cell_type": "markdown",
      "metadata": {
        "id": "OAgSJ1jiPNHp"
      },
      "source": [
        "## $\\sin(x)$\n",
        "**Fitting $\\sin(x)$ on $[-2\\pi, 2\\pi]$**"
      ]
    },
    {
      "cell_type": "markdown",
      "metadata": {
        "id": "SbQlxmUDQdhU"
      },
      "source": [
        "Define the function we want to fit"
      ]
    },
    {
      "cell_type": "code",
      "execution_count": 1,
      "metadata": {
        "id": "AQo88pR0Qfhw"
      },
      "outputs": [],
      "source": []
    },
    {
      "cell_type": "markdown",
      "metadata": {
        "id": "oo6IHZidQg_L"
      },
      "source": [
        "Define the bounds of the interval"
      ]
    },
    {
      "cell_type": "code",
      "execution_count": 1,
      "metadata": {
        "id": "LkVNakSCQhJt"
      },
      "outputs": [],
      "source": []
    },
    {
      "cell_type": "markdown",
      "metadata": {
        "id": "nq29oNYrQsCt"
      },
      "source": [
        "Generate some training data: $1000$ equispaced points on our interval."
      ]
    },
    {
      "cell_type": "code",
      "execution_count": 1,
      "metadata": {
        "id": "7V7TLsMTQsIu"
      },
      "outputs": [],
      "source": []
    },
    {
      "cell_type": "markdown",
      "metadata": {
        "id": "wxfASrp4Qwu4"
      },
      "source": [
        "Define the neural network with:\n",
        "- two dense layers\n",
        "- $ReLU$ activation for the hidden layer (no activation for the output)\n",
        "- sizes of input, hidden and output layers as parameters (default to $1$, $10$, $1$)"
      ]
    },
    {
      "cell_type": "code",
      "execution_count": 1,
      "metadata": {
        "id": "GkXxP7MBQxF-"
      },
      "outputs": [],
      "source": []
    },
    {
      "cell_type": "markdown",
      "metadata": {
        "id": "n3_gzSNuS6Y_"
      },
      "source": [
        "Create the nework to fit the $\\sin$ function with a hidden layer of $100$ neurons; plot its current output on the interval"
      ]
    },
    {
      "cell_type": "code",
      "execution_count": 1,
      "metadata": {
        "id": "l_dGW4enS6fw"
      },
      "outputs": [],
      "source": []
    },
    {
      "cell_type": "markdown",
      "metadata": {
        "id": "tkyMqR1xS7Jn"
      },
      "source": [
        "Define the loss function (MSE) and optimizer (SGD) with learning rate of $0.005$"
      ]
    },
    {
      "cell_type": "code",
      "execution_count": 1,
      "metadata": {
        "id": "r9aIL2YZS7Th"
      },
      "outputs": [],
      "source": []
    },
    {
      "cell_type": "markdown",
      "metadata": {
        "id": "e8bdJJWeTfLV"
      },
      "source": [
        "Train the network on $25000$ epochs printing the loss every $2500$ epochs & plot the loss in a semilogy"
      ]
    },
    {
      "cell_type": "code",
      "execution_count": 1,
      "metadata": {
        "id": "tUT-pmgbPNU5"
      },
      "outputs": [],
      "source": []
    },
    {
      "cell_type": "markdown",
      "metadata": {
        "id": "krgt2wVWTshS"
      },
      "source": [
        "Test the network on some unseen data (generate points on $[-2\\pi, 2\\pi]$ that are different of your training ones) & plot the result\n"
      ]
    },
    {
      "cell_type": "code",
      "execution_count": 1,
      "metadata": {
        "id": "e5eRJLMITqPl"
      },
      "outputs": [],
      "source": []
    },
    {
      "cell_type": "markdown",
      "metadata": {
        "id": "m2isnSDzZ05y"
      },
      "source": [
        "Start over on $[-\\pi, \\pi]$ with learning rate of $0.01$, it should converge faster; explain the differences"
      ]
    },
    {
      "cell_type": "code",
      "execution_count": 1,
      "metadata": {
        "id": "E--5iVRvZ1J0"
      },
      "outputs": [],
      "source": []
    },
    {
      "attachments": {},
      "cell_type": "markdown",
      "metadata": {},
      "source": [
        "Start over on $[-\\pi, \\pi]$ with learning rate of $0.1$, what is happening?\n",
        "explain the differences"
      ]
    },
    {
      "cell_type": "code",
      "execution_count": null,
      "metadata": {},
      "outputs": [],
      "source": []
    },
    {
      "cell_type": "markdown",
      "metadata": {
        "id": "CaV6gfygfTKP"
      },
      "source": [
        "Experiment other intervals/functions/architectures/learning rates on your own."
      ]
    }
  ],
  "metadata": {
    "colab": {
      "provenance": []
    },
    "kernelspec": {
      "display_name": "Python 3",
      "language": "python",
      "name": "python3"
    },
    "language_info": {
      "name": "python",
      "version": "3.10.7 (tags/v3.10.7:6cc6b13, Sep  5 2022, 14:08:36) [MSC v.1933 64 bit (AMD64)]"
    },
    "vscode": {
      "interpreter": {
        "hash": "689ffbb94fe8f58a5045b4f3f0726e738a118a8a590ae859861904a2cad8ac3d"
      }
    }
  },
  "nbformat": 4,
  "nbformat_minor": 0
}
