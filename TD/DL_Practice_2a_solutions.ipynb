{
  "cells": [
    {
      "cell_type": "markdown",
      "metadata": {
        "id": "lTlXEkt9M90K"
      },
      "source": [
        "This notebook was (heavily) inspired from [PyTorch Documentation](https://pytorch.org/docs/stable/index.html) and [this post](https://pytorch.org/tutorials/beginner/blitz/autograd_tutorial.html\n",
        ")."
      ]
    },
    {
      "cell_type": "markdown",
      "metadata": {
        "id": "3PiPSSok0b-r"
      },
      "source": [
        "# PyTorch in practice"
      ]
    },
    {
      "attachments": {},
      "cell_type": "markdown",
      "metadata": {
        "id": "Uwp9_ZkQ0jUS"
      },
      "source": [
        "![just torch it](../images/just_torch_it.svg)"
      ]
    },
    {
      "cell_type": "markdown",
      "metadata": {
        "id": "vcCSNZIw0XL2"
      },
      "source": [
        "## Getting familiar with PyTorch"
      ]
    },
    {
      "cell_type": "code",
      "execution_count": null,
      "metadata": {
        "id": "_V5mMvYH0W_b"
      },
      "outputs": [],
      "source": [
        "from __future__ import annotations  # if you don't have Python >3.10 (Google \n",
        "# colab is Python 3.8 so we need it)\n",
        "\n",
        "import numpy as np\n",
        "import torch"
      ]
    },
    {
      "cell_type": "markdown",
      "metadata": {
        "id": "7SRckPLk0qEW"
      },
      "source": [
        "Directly from a list"
      ]
    },
    {
      "cell_type": "code",
      "execution_count": null,
      "metadata": {
        "colab": {
          "base_uri": "https://localhost:8080/"
        },
        "id": "i_fpeRcI0W9N",
        "outputId": "6b00d717-208b-4c3f-dd7a-6136071ed793"
      },
      "outputs": [
        {
          "data": {
            "text/plain": [
              "tensor([[1, 2],\n",
              "        [3, 4]])"
            ]
          },
          "execution_count": 2,
          "metadata": {},
          "output_type": "execute_result"
        }
      ],
      "source": [
        "data: list[list[int]] = [[1, 2],[3, 4]]\n",
        "x_data: torch.Tensor = torch.tensor(data)\n",
        "x_data"
      ]
    },
    {
      "cell_type": "markdown",
      "metadata": {
        "id": "Q58pjAaAcrmC"
      },
      "source": [
        "From a NumPy array"
      ]
    },
    {
      "cell_type": "code",
      "execution_count": null,
      "metadata": {
        "colab": {
          "base_uri": "https://localhost:8080/"
        },
        "id": "bEv4_OOz0W6k",
        "outputId": "04de7308-a7e5-44e6-9feb-4ddcad727314"
      },
      "outputs": [
        {
          "data": {
            "text/plain": [
              "tensor([[1, 2],\n",
              "        [3, 4]])"
            ]
          },
          "execution_count": 3,
          "metadata": {},
          "output_type": "execute_result"
        }
      ],
      "source": [
        "np_array: np.ndarray = np.array(data)\n",
        "x_np: torch.Tensor = torch.from_numpy(np_array)\n",
        "x_np"
      ]
    },
    {
      "cell_type": "markdown",
      "metadata": {
        "id": "JyJy87Pk02re"
      },
      "source": [
        "From another tensor"
      ]
    },
    {
      "cell_type": "code",
      "execution_count": null,
      "metadata": {
        "colab": {
          "base_uri": "https://localhost:8080/"
        },
        "id": "-3DsaWr10W4B",
        "outputId": "cb729a62-0d9b-423f-a1ba-1fb0e0d1fb0d"
      },
      "outputs": [
        {
          "data": {
            "text/plain": [
              "tensor([[1, 1],\n",
              "        [1, 1]])"
            ]
          },
          "execution_count": 4,
          "metadata": {},
          "output_type": "execute_result"
        }
      ],
      "source": [
        "x_ones: torch.Tensor = torch.ones_like(x_data)\n",
        "x_ones"
      ]
    },
    {
      "cell_type": "code",
      "execution_count": null,
      "metadata": {
        "colab": {
          "base_uri": "https://localhost:8080/"
        },
        "id": "hG6yfFk21K5Q",
        "outputId": "9b60fb5b-46f3-4a62-d944-e0998ceebe40"
      },
      "outputs": [
        {
          "data": {
            "text/plain": [
              "tensor([[0., 0.],\n",
              "        [0., 0.]])"
            ]
          },
          "execution_count": 5,
          "metadata": {},
          "output_type": "execute_result"
        }
      ],
      "source": [
        "x_zeros: torch.Tensor = torch.zeros_like(x_data, dtype=torch.float)\n",
        "x_zeros"
      ]
    },
    {
      "cell_type": "code",
      "execution_count": null,
      "metadata": {
        "colab": {
          "base_uri": "https://localhost:8080/"
        },
        "id": "nLe_2zj30W1S",
        "outputId": "575ac3d5-db2e-494f-ceed-97cf7f196c53"
      },
      "outputs": [
        {
          "data": {
            "text/plain": [
              "tensor([[0.2827, 0.9940],\n",
              "        [0.4554, 0.8837]])"
            ]
          },
          "execution_count": 6,
          "metadata": {},
          "output_type": "execute_result"
        }
      ],
      "source": [
        "x_rand: torch.Tensor = torch.rand_like(x_data, dtype=torch.float)\n",
        "x_rand"
      ]
    },
    {
      "cell_type": "markdown",
      "metadata": {
        "id": "RFG-uwI81VzK"
      },
      "source": [
        "tensor attributes: shape, dtype, *device*"
      ]
    },
    {
      "cell_type": "code",
      "execution_count": null,
      "metadata": {
        "id": "rLsPBeN40Wyo"
      },
      "outputs": [],
      "source": [
        "tensor: torch.Tensor = torch.rand(3,4)"
      ]
    },
    {
      "cell_type": "code",
      "execution_count": null,
      "metadata": {
        "colab": {
          "base_uri": "https://localhost:8080/"
        },
        "id": "v0leeYcI0Wvj",
        "outputId": "862d00c7-0210-4558-fff5-f0b03ed373c5"
      },
      "outputs": [
        {
          "data": {
            "text/plain": [
              "(torch.Size([3, 4]), torch.float32, device(type='cpu'))"
            ]
          },
          "execution_count": 8,
          "metadata": {},
          "output_type": "execute_result"
        }
      ],
      "source": [
        "tensor.shape, tensor.dtype, tensor.device"
      ]
    },
    {
      "cell_type": "markdown",
      "metadata": {
        "id": "sTbWFxmx1lg0"
      },
      "source": [
        "Moving to gpu (if possible) (locally: go to PyTorch website to set it up. Ask us if you need help. On Colab: click on `RAM Disk`, top right of Colab, then `Change runtime type`, then select `GPU` in the hardware accelerator dropdown menu). Don't sweat it for now, it's mostly useless for small/amateur neural networks. We'll talk about it later... when you'll actually need it."
      ]
    },
    {
      "cell_type": "code",
      "execution_count": null,
      "metadata": {
        "colab": {
          "base_uri": "https://localhost:8080/"
        },
        "id": "IpTLKhhg0Wsx",
        "outputId": "9ea02c4c-7b26-4c80-8eec-9e4062d48d46"
      },
      "outputs": [
        {
          "data": {
            "text/plain": [
              "device(type='cuda', index=0)"
            ]
          },
          "execution_count": 9,
          "metadata": {},
          "output_type": "execute_result"
        }
      ],
      "source": [
        "if torch.cuda.is_available():\n",
        "    tensor = tensor.to(\"cuda\")\n",
        "tensor.device"
      ]
    },
    {
      "cell_type": "markdown",
      "metadata": {
        "id": "XC04lJafX_QV"
      },
      "source": [
        "slicing & concat like in numpy"
      ]
    },
    {
      "cell_type": "code",
      "execution_count": null,
      "metadata": {
        "colab": {
          "base_uri": "https://localhost:8080/"
        },
        "id": "FNCdo1zu1pxc",
        "outputId": "625336ab-db44-41bc-f364-4d5e901e061e"
      },
      "outputs": [
        {
          "data": {
            "text/plain": [
              "tensor([[ 1.,  0.,  1.,  1.],\n",
              "        [ 1.,  0.,  1.,  1.],\n",
              "        [-1., -1., -1., -1.],\n",
              "        [ 1.,  0.,  1.,  1.]])"
            ]
          },
          "execution_count": 10,
          "metadata": {},
          "output_type": "execute_result"
        }
      ],
      "source": [
        "tensor = torch.ones(4, 4)\n",
        "tensor[:,1] = 0\n",
        "tensor[2,:] = -1\n",
        "tensor"
      ]
    },
    {
      "cell_type": "code",
      "execution_count": null,
      "metadata": {
        "colab": {
          "base_uri": "https://localhost:8080/"
        },
        "id": "OLubqeYj1p0o",
        "outputId": "d253d58a-e5ac-4a6c-f7ba-cebe966c2140"
      },
      "outputs": [
        {
          "name": "stdout",
          "output_type": "stream",
          "text": [
            "First row: tensor([1., 0., 1., 1.])\n",
            "First column: tensor([ 1.,  1., -1.,  1.])\n",
            "Last column: tensor([1., 0., 1., 1.])\n"
          ]
        }
      ],
      "source": [
        "print(f\"First row: {tensor[0]}\")\n",
        "print(f\"First column: {tensor[:, 0]}\")  # careful that's a line vector!\n",
        "print(f\"Last column: {tensor[-1, ...]}\")  # careful that's a line vector!"
      ]
    },
    {
      "cell_type": "code",
      "execution_count": null,
      "metadata": {
        "colab": {
          "base_uri": "https://localhost:8080/"
        },
        "id": "XSjQt5vL1p2q",
        "outputId": "6a71af3e-9c1e-4c6a-97fa-bf2f71e95ebb"
      },
      "outputs": [
        {
          "name": "stdout",
          "output_type": "stream",
          "text": [
            "tensor([[ 1.,  0.,  1.,  1.,  1.,  0.,  1.,  1.,  1.,  0.,  1.,  1.],\n",
            "        [ 1.,  0.,  1.,  1.,  1.,  0.,  1.,  1.,  1.,  0.,  1.,  1.],\n",
            "        [-1., -1., -1., -1., -1., -1., -1., -1., -1., -1., -1., -1.],\n",
            "        [ 1.,  0.,  1.,  1.,  1.,  0.,  1.,  1.,  1.,  0.,  1.,  1.]])\n"
          ]
        }
      ],
      "source": [
        "concatenated_tensor = torch.cat([tensor, tensor, tensor], dim=1)\n",
        "print(concatenated_tensor)"
      ]
    },
    {
      "cell_type": "markdown",
      "metadata": {
        "id": "teIR6gdoZI15"
      },
      "source": [
        "operations on tensors: matrix multiplication, dot product, sum"
      ]
    },
    {
      "cell_type": "code",
      "execution_count": null,
      "metadata": {
        "colab": {
          "base_uri": "https://localhost:8080/"
        },
        "id": "p9CkzP4B1p5G",
        "outputId": "a3db3705-00bd-4b47-d766-9007ee9afa70"
      },
      "outputs": [
        {
          "data": {
            "text/plain": [
              "tensor([[ 3.,  3., -3.,  3.],\n",
              "        [ 3.,  3., -3.,  3.],\n",
              "        [-3., -3.,  4., -3.],\n",
              "        [ 3.,  3., -3.,  3.]])"
            ]
          },
          "execution_count": 13,
          "metadata": {},
          "output_type": "execute_result"
        }
      ],
      "source": [
        "y1 = tensor @ tensor.T\n",
        "y1"
      ]
    },
    {
      "cell_type": "code",
      "execution_count": null,
      "metadata": {
        "colab": {
          "base_uri": "https://localhost:8080/"
        },
        "id": "W5DsXWhZ1p7x",
        "outputId": "4f31ebe6-3050-48b1-8d70-8f228c37eb3c"
      },
      "outputs": [
        {
          "data": {
            "text/plain": [
              "tensor([[ 3.,  3., -3.,  3.],\n",
              "        [ 3.,  3., -3.,  3.],\n",
              "        [-3., -3.,  4., -3.],\n",
              "        [ 3.,  3., -3.,  3.]])"
            ]
          },
          "execution_count": 14,
          "metadata": {},
          "output_type": "execute_result"
        }
      ],
      "source": [
        "y2 = tensor.matmul(tensor.T)\n",
        "y2"
      ]
    },
    {
      "cell_type": "code",
      "execution_count": null,
      "metadata": {
        "colab": {
          "base_uri": "https://localhost:8080/"
        },
        "id": "G2nhC3wv1p-C",
        "outputId": "22dc8e39-e7ad-46d7-aba7-3986a06a2d82"
      },
      "outputs": [
        {
          "data": {
            "text/plain": [
              "tensor([[1., 0., 1., 1.],\n",
              "        [1., 0., 1., 1.],\n",
              "        [1., 1., 1., 1.],\n",
              "        [1., 0., 1., 1.]])"
            ]
          },
          "execution_count": 15,
          "metadata": {},
          "output_type": "execute_result"
        }
      ],
      "source": [
        "z1 = tensor * tensor\n",
        "z1"
      ]
    },
    {
      "cell_type": "code",
      "execution_count": null,
      "metadata": {
        "colab": {
          "base_uri": "https://localhost:8080/"
        },
        "id": "Y147qCsV1qAv",
        "outputId": "6dfe30e7-a24c-4d33-efb3-c12cb0912cfe"
      },
      "outputs": [
        {
          "data": {
            "text/plain": [
              "tensor([[1., 0., 1., 1.],\n",
              "        [1., 0., 1., 1.],\n",
              "        [1., 1., 1., 1.],\n",
              "        [1., 0., 1., 1.]])"
            ]
          },
          "execution_count": 16,
          "metadata": {},
          "output_type": "execute_result"
        }
      ],
      "source": [
        "z2 = tensor.mul(tensor)\n",
        "z2"
      ]
    },
    {
      "cell_type": "code",
      "execution_count": null,
      "metadata": {
        "colab": {
          "base_uri": "https://localhost:8080/"
        },
        "id": "6fbnbxz5YrKh",
        "outputId": "263b5af9-bcc7-449d-c4b9-270b00da9f0d"
      },
      "outputs": [
        {
          "data": {
            "text/plain": [
              "tensor(5.)"
            ]
          },
          "execution_count": 17,
          "metadata": {},
          "output_type": "execute_result"
        }
      ],
      "source": [
        "tensor.sum()"
      ]
    },
    {
      "cell_type": "markdown",
      "metadata": {
        "id": "YB-fVRR_cJea"
      },
      "source": [
        "translating back to numpy"
      ]
    },
    {
      "cell_type": "code",
      "execution_count": null,
      "metadata": {
        "colab": {
          "base_uri": "https://localhost:8080/"
        },
        "id": "Mrdv33hQYrNI",
        "outputId": "8f6de731-dd4a-4377-b09f-6d5215a9d5e2"
      },
      "outputs": [
        {
          "data": {
            "text/plain": [
              "tensor([1., 1., 1., 1., 1.])"
            ]
          },
          "execution_count": 18,
          "metadata": {},
          "output_type": "execute_result"
        }
      ],
      "source": [
        "t: torch.Tensor = torch.ones(5)\n",
        "t"
      ]
    },
    {
      "cell_type": "code",
      "execution_count": null,
      "metadata": {
        "colab": {
          "base_uri": "https://localhost:8080/"
        },
        "id": "GSEtqjN1YrP2",
        "outputId": "69eb6bf6-c214-4c5e-dced-9bb39b65be48"
      },
      "outputs": [
        {
          "data": {
            "text/plain": [
              "array([1., 1., 1., 1., 1.], dtype=float32)"
            ]
          },
          "execution_count": 19,
          "metadata": {},
          "output_type": "execute_result"
        }
      ],
      "source": [
        "n: np.ndarray = t.numpy()\n",
        "n"
      ]
    },
    {
      "cell_type": "markdown",
      "metadata": {
        "id": "fWQIc4Si1nBH"
      },
      "source": [
        "What is the added value to using usual numpy arrays? Gradient!"
      ]
    },
    {
      "cell_type": "code",
      "execution_count": null,
      "metadata": {
        "colab": {
          "base_uri": "https://localhost:8080/"
        },
        "id": "q3xQasOO1ttF",
        "outputId": "3abecf1f-7c2c-4fe6-bfb3-1e6b43896ad0"
      },
      "outputs": [
        {
          "data": {
            "text/plain": [
              "(tensor([-2.4132,  1.1730,  0.8128,  1.6652,  0.8712]),\n",
              " tensor([ 1.0736, -1.4303, -0.5168, -1.6997, -0.4258], requires_grad=True))"
            ]
          },
          "execution_count": 20,
          "metadata": {},
          "output_type": "execute_result"
        }
      ],
      "source": [
        "a = torch.randn(5)\n",
        "x = torch.randn(5, requires_grad=True)\n",
        "a,x"
      ]
    },
    {
      "cell_type": "code",
      "execution_count": null,
      "metadata": {
        "colab": {
          "base_uri": "https://localhost:8080/"
        },
        "id": "1lFSmrKo1yxj",
        "outputId": "18ef0ba6-00e0-4e43-99e7-76ea872d1a0d"
      },
      "outputs": [
        {
          "data": {
            "text/plain": [
              "tensor(-7.8901, grad_fn=<SumBackward0>)"
            ]
          },
          "execution_count": 21,
          "metadata": {},
          "output_type": "execute_result"
        }
      ],
      "source": [
        "y = torch.sum(a*x)\n",
        "y"
      ]
    },
    {
      "cell_type": "code",
      "execution_count": null,
      "metadata": {
        "id": "1j2xfuWW2VjI"
      },
      "outputs": [],
      "source": [
        "x.grad #no gradient yet"
      ]
    },
    {
      "cell_type": "code",
      "execution_count": null,
      "metadata": {
        "id": "7HYE1EAC2ah4"
      },
      "outputs": [],
      "source": [
        "y.backward() # computes gradient"
      ]
    },
    {
      "cell_type": "code",
      "execution_count": null,
      "metadata": {
        "colab": {
          "base_uri": "https://localhost:8080/"
        },
        "id": "NIj8QwHA2qmf",
        "outputId": "4600b3de-5920-495b-b277-a708d363000c"
      },
      "outputs": [
        {
          "data": {
            "text/plain": [
              "tensor([-2.4132,  1.1730,  0.8128,  1.6652,  0.8712])"
            ]
          },
          "execution_count": 24,
          "metadata": {},
          "output_type": "execute_result"
        }
      ],
      "source": [
        "x.grad # gradient"
      ]
    },
    {
      "cell_type": "code",
      "execution_count": null,
      "metadata": {
        "colab": {
          "base_uri": "https://localhost:8080/"
        },
        "id": "LTpmyZ732rVx",
        "outputId": "c1c58e8e-2c02-4fbf-d5ea-4afe8a79ef45"
      },
      "outputs": [
        {
          "name": "stdout",
          "output_type": "stream",
          "text": [
            "error\n"
          ]
        }
      ],
      "source": [
        "try:\n",
        "  y.backward() # computes gradient again... bug!\n",
        "except:\n",
        "  print('error')"
      ]
    },
    {
      "cell_type": "markdown",
      "metadata": {
        "id": "ckC31yGKcN4k"
      },
      "source": [
        "## Torching a linear regression"
      ]
    },
    {
      "cell_type": "markdown",
      "metadata": {
        "id": "mE2Fhb2Z3g4l"
      },
      "source": [
        "linear regression with numpy:"
      ]
    },
    {
      "cell_type": "code",
      "execution_count": null,
      "metadata": {
        "colab": {
          "base_uri": "https://localhost:8080/",
          "height": 301
        },
        "id": "q96hSJKGYrSX",
        "outputId": "4961f4a5-fde1-4f37-8dcf-84936eaf4282"
      },
      "outputs": [
        {
          "name": "stdout",
          "output_type": "stream",
          "text": [
            "Numpy:   [1.02151009] [1.95402174]\n",
            "SKlearn: [1.02150962] [1.95402268]\n"
          ]
        },
        {
          "data": {
            "image/png": "[encoded data removed]",
            "text/plain": [
              "<Figure size 432x288 with 1 Axes>"
            ]
          },
          "metadata": {
            "needs_background": "light"
          },
          "output_type": "display_data"
        }
      ],
      "source": [
        "import numpy as np\n",
        "import matplotlib.pyplot as plt\n",
        "\n",
        "# Data Generation\n",
        "np.random.seed(42)\n",
        "xs = np.random.rand(100, 1)\n",
        "ys = 1 + 2 * xs + .1 * np.random.randn(100, 1)\n",
        "plt.plot(xs, ys, '.', label='data')\n",
        "\n",
        "np.random.seed(42)\n",
        "a = np.random.randn(1)  # a + b * xs\n",
        "b = np.random.randn(1)  # a + b * xs\n",
        "\n",
        "lr = 1e-1\n",
        "n_epochs = 1000\n",
        "for epoch in range(n_epochs):\n",
        "    # compute our model's predicted output\n",
        "    yhat = a + b * xs\n",
        "    \n",
        "    # compute the error\n",
        "    error = (ys - yhat)\n",
        "    # compute the loss (MSE)\n",
        "    loss = (error ** 2).mean()\n",
        "    \n",
        "    # compute gradients for both a and b parameters\n",
        "    a_grad = -2 * error.mean()\n",
        "    b_grad = -2 * (xs * error).mean()\n",
        "    \n",
        "    # update parameters using gradients and the learning rate\n",
        "    a = a - lr * a_grad\n",
        "    b = b - lr * b_grad\n",
        "print('Numpy:  ', a, b)\n",
        "plt.plot([np.min(xs), np.max(xs)], [a+np.min(xs)*b,a+np.max(xs)*b], \"-\", label='Greadient Descent')\n",
        "\n",
        "\n",
        "from sklearn.linear_model import LinearRegression\n",
        "linr = LinearRegression()\n",
        "linr.fit(xs, ys)\n",
        "skl_a = linr.intercept_\n",
        "skl_b = linr.coef_[0]\n",
        "plt.plot([np.min(xs), np.max(xs)], [skl_a+np.min(xs)*skl_b,skl_a+np.max(xs)*skl_b], \"--\", label='SKlearn')\n",
        "plt.legend()\n",
        "plt.plot()\n",
        "\n",
        "print('SKlearn:', skl_a, skl_b)"
      ]
    },
    {
      "cell_type": "markdown",
      "metadata": {
        "id": "HQZFTTMU4Xda"
      },
      "source": [
        "*(imports)*"
      ]
    },
    {
      "cell_type": "code",
      "execution_count": null,
      "metadata": {
        "colab": {
          "base_uri": "https://localhost:8080/"
        },
        "id": "7Hn9v5bBYrVS",
        "outputId": "25e8d6df-407d-455a-d07f-2aa879d3310d"
      },
      "outputs": [
        {
          "name": "stdout",
          "output_type": "stream",
          "text": [
            "Looking in indexes: https://pypi.org/simple, https://us-python.pkg.dev/colab-wheels/public/simple/\n",
            "Collecting torchviz\n",
            "  Downloading torchviz-0.0.2.tar.gz (4.9 kB)\n",
            "  Preparing metadata (setup.py) ... \u001b[?25l\u001b[?25hdone\n",
            "Requirement already satisfied: torch in /usr/local/lib/python3.8/dist-packages (from torchviz) (1.13.0+cu116)\n",
            "Requirement already satisfied: graphviz in /usr/local/lib/python3.8/dist-packages (from torchviz) (0.10.1)\n",
            "Requirement already satisfied: typing-extensions in /usr/local/lib/python3.8/dist-packages (from torch->torchviz) (4.4.0)\n",
            "Building wheels for collected packages: torchviz\n",
            "  Building wheel for torchviz (setup.py) ... \u001b[?25l\u001b[?25hdone\n",
            "  Created wheel for torchviz: filename=torchviz-0.0.2-py3-none-any.whl size=4151 sha256=12794125f5934e4e52e0c75569e0b699547bca77f0a0ea3f6a06176e5b533e13\n",
            "  Stored in directory: /root/.cache/pip/wheels/05/7d/1b/8306781244e42ede119edbb053bdcda1c1f424ca226165a417\n",
            "Successfully built torchviz\n",
            "Installing collected packages: torchviz\n",
            "Successfully installed torchviz-0.0.2\n"
          ]
        }
      ],
      "source": [
        "!pip install torchviz\n",
        "import torch\n",
        "import torch.optim as optim\n",
        "import torch.nn as nn\n",
        "from torchviz import make_dot"
      ]
    },
    {
      "cell_type": "markdown",
      "metadata": {
        "id": "FLQmdzuO4hxq"
      },
      "source": [
        "best device"
      ]
    },
    {
      "cell_type": "code",
      "execution_count": null,
      "metadata": {
        "id": "VB54yfjxYrX-"
      },
      "outputs": [],
      "source": [
        "device = 'cuda' if torch.cuda.is_available() else 'cpu'"
      ]
    },
    {
      "cell_type": "markdown",
      "metadata": {
        "id": "eJULM4Jf4ock"
      },
      "source": [
        "transform numpy arrays data to torch tensors (and send to best device)"
      ]
    },
    {
      "cell_type": "code",
      "execution_count": null,
      "metadata": {
        "id": "t3yVaeVtYrae"
      },
      "outputs": [],
      "source": [
        "xs_tensor = torch.from_numpy(xs).float().to(device)\n",
        "ys_tensor = torch.from_numpy(ys).float().to(device)"
      ]
    },
    {
      "cell_type": "code",
      "execution_count": null,
      "metadata": {
        "colab": {
          "base_uri": "https://localhost:8080/"
        },
        "id": "bNwqDrSeYrdX",
        "outputId": "b733ee2f-404f-49e8-84f5-7477ae9e9b11"
      },
      "outputs": [
        {
          "data": {
            "text/plain": [
              "(numpy.ndarray, torch.Tensor, 'torch.cuda.FloatTensor')"
            ]
          },
          "execution_count": 30,
          "metadata": {},
          "output_type": "execute_result"
        }
      ],
      "source": [
        "type(xs), type(xs_tensor), xs_tensor.type()"
      ]
    },
    {
      "cell_type": "markdown",
      "metadata": {
        "id": "p1jmJQMl5NFV"
      },
      "source": [
        "initialize parameters \"a\" and \"b\" randomly; since we want to apply gradient descent on these parameters, set `REQUIRES_GRAD = TRUE`"
      ]
    },
    {
      "cell_type": "code",
      "execution_count": null,
      "metadata": {
        "colab": {
          "base_uri": "https://localhost:8080/"
        },
        "id": "KH8wf2NpYrgI",
        "outputId": "4fb6d1d2-62c5-419b-a4bd-f94aa9f0fb19"
      },
      "outputs": [
        {
          "data": {
            "text/plain": [
              "(tensor([0.1940], device='cuda:0', requires_grad=True),\n",
              " tensor([0.1391], device='cuda:0', requires_grad=True))"
            ]
          },
          "execution_count": 31,
          "metadata": {},
          "output_type": "execute_result"
        }
      ],
      "source": [
        "torch.manual_seed(42)\n",
        "a = torch.randn(1, requires_grad=True, dtype=torch.float, device=device)\n",
        "b = torch.randn(1, requires_grad=True, dtype=torch.float, device=device)\n",
        "a,b"
      ]
    },
    {
      "cell_type": "markdown",
      "metadata": {
        "id": "qQwH1tZS5nnd"
      },
      "source": [
        "update the main gradient descent loop\n",
        "- use `.backward()` to calculate the gradient\n",
        "- use `torch.no_grad()` when updating the parameters (else, pytorch will give an error)\n",
        "- use `.zero_()` to zero out the gradient of $a$ and $b$ after updating them"
      ]
    },
    {
      "cell_type": "code",
      "execution_count": null,
      "metadata": {
        "colab": {
          "base_uri": "https://localhost:8080/"
        },
        "id": "ybcOCvBnrRgU",
        "outputId": "e7247868-9760-41b3-e0e9-4d34b50fb388"
      },
      "outputs": [
        {
          "name": "stdout",
          "output_type": "stream",
          "text": [
            "1.0215120315551758 1.9540181159973145\n",
            "1.0215096157546748 1.954022677287697\n"
          ]
        }
      ],
      "source": [
        "lr = 1e-1\n",
        "n_epochs = 1000\n",
        "\n",
        "torch.manual_seed(42)\n",
        "a = torch.randn(1, requires_grad=True, dtype=torch.float, device=device)\n",
        "b = torch.randn(1, requires_grad=True, dtype=torch.float, device=device)\n",
        "\n",
        "for epoch in range(n_epochs):\n",
        "    yhat = a + b * xs_tensor\n",
        "    error = ys_tensor - yhat\n",
        "    loss = (error ** 2).mean()\n",
        "    loss.backward()\n",
        "    \n",
        "    with torch.no_grad():\n",
        "        a -= lr * a.grad\n",
        "        b -= lr * b.grad\n",
        "    a.grad.zero_()\n",
        "    b.grad.zero_()\n",
        "    \n",
        "print(float(a), float(b))\n",
        "print(float(skl_a), float(skl_b))"
      ]
    },
    {
      "cell_type": "markdown",
      "metadata": {
        "id": "31PLZR5f9_Gl"
      },
      "source": [
        "-----\n",
        "### Interlude: digging into PyTorch's internal system"
      ]
    },
    {
      "cell_type": "markdown",
      "metadata": {
        "id": "hg7wg9WP-L9m"
      },
      "source": [
        "We will try to understand this part of the code:\n",
        "```\n",
        "torch.manual_seed(42)\n",
        "a = torch.randn(1, requires_grad=True, dtype=torch.float, device=device)\n",
        "b = torch.randn(1, requires_grad=True, dtype=torch.float, device=device)\n",
        "yhat = a + b * xs_tensor\n",
        "error = ys_tensor - yhat\n",
        "loss = (error ** 2).mean()\n",
        "```\n",
        "use the `make_dot()` function on `yhat` to see the computational graph PyTorch constructed to get `yhat`"
      ]
    },
    {
      "cell_type": "code",
      "execution_count": null,
      "metadata": {
        "id": "eA5kLQn79o0d"
      },
      "outputs": [],
      "source": [
        "torch.manual_seed(42)\n",
        "a = torch.randn(1, requires_grad=True, dtype=torch.float, device=device)\n",
        "b = torch.randn(1, requires_grad=True, dtype=torch.float, device=device)\n",
        "yhat = a + b * xs_tensor\n",
        "error = ys_tensor - yhat\n",
        "loss = (error ** 2).mean()"
      ]
    },
    {
      "cell_type": "code",
      "execution_count": null,
      "metadata": {
        "colab": {
          "base_uri": "https://localhost:8080/",
          "height": 398
        },
        "id": "gLsEa5_G9o2-",
        "outputId": "1c60f34a-65ac-4a59-8eaa-ef11c41761b7"
      },
      "outputs": [
        {
          "data": {
            "image/svg+xml": "<?xml version=\"1.0\" encoding=\"UTF-8\" standalone=\"no\"?>\n<!DOCTYPE svg PUBLIC \"-//W3C//DTD SVG 1.1//EN\"\n \"http://www.w3.org/Graphics/SVG/1.1/DTD/svg11.dtd\">\n<!-- Generated by graphviz version 2.40.1 (20161225.0304)\n -->\n<!-- Title: %3 Pages: 1 -->\n<svg width=\"222pt\" height=\"283pt\"\n viewBox=\"0.00 0.00 222.00 283.00\" xmlns=\"http://www.w3.org/2000/svg\" xmlns:xlink=\"http://www.w3.org/1999/xlink\">\n<g id=\"graph0\" class=\"graph\" transform=\"scale(1 1) rotate(0) translate(4 279)\">\n<title>%3</title>\n<polygon fill=\"#ffffff\" stroke=\"transparent\" points=\"-4,4 -4,-279 218,-279 218,4 -4,4\"/>\n<!-- 139743631123536 -->\n<g id=\"node1\" class=\"node\">\n<title>139743631123536</title>\n<polygon fill=\"#caff70\" stroke=\"#000000\" points=\"142,-31 71,-31 71,0 142,0 142,-31\"/>\n<text text-anchor=\"middle\" x=\"106.5\" y=\"-7\" font-family=\"monospace\" font-size=\"10.00\" fill=\"#000000\"> (100, 1)</text>\n</g>\n<!-- 139743644707712 -->\n<g id=\"node2\" class=\"node\">\n<title>139743644707712</title>\n<polygon fill=\"#d3d3d3\" stroke=\"#000000\" points=\"151,-86 62,-86 62,-67 151,-67 151,-86\"/>\n<text text-anchor=\"middle\" x=\"106.5\" y=\"-74\" font-family=\"monospace\" font-size=\"10.00\" fill=\"#000000\">AddBackward0</text>\n</g>\n<!-- 139743644707712&#45;&gt;139743631123536 -->\n<g id=\"edge6\" class=\"edge\">\n<title>139743644707712&#45;&gt;139743631123536</title>\n<path fill=\"none\" stroke=\"#000000\" d=\"M106.5,-66.9688C106.5,-60.1289 106.5,-50.5621 106.5,-41.5298\"/>\n<polygon fill=\"#000000\" stroke=\"#000000\" points=\"110.0001,-41.3678 106.5,-31.3678 103.0001,-41.3678 110.0001,-41.3678\"/>\n</g>\n<!-- 139743644706032 -->\n<g id=\"node3\" class=\"node\">\n<title>139743644706032</title>\n<polygon fill=\"#d3d3d3\" stroke=\"#000000\" points=\"101,-141 0,-141 0,-122 101,-122 101,-141\"/>\n<text text-anchor=\"middle\" x=\"50.5\" y=\"-129\" font-family=\"monospace\" font-size=\"10.00\" fill=\"#000000\">AccumulateGrad</text>\n</g>\n<!-- 139743644706032&#45;&gt;139743644707712 -->\n<g id=\"edge1\" class=\"edge\">\n<title>139743644706032&#45;&gt;139743644707712</title>\n<path fill=\"none\" stroke=\"#000000\" d=\"M60.2545,-121.9197C68.1865,-114.1293 79.5788,-102.9405 89.0712,-93.6176\"/>\n<polygon fill=\"#000000\" stroke=\"#000000\" points=\"91.7982,-95.845 96.4802,-86.3408 86.8932,-90.8509 91.7982,-95.845\"/>\n</g>\n<!-- 139744780127184 -->\n<g id=\"node4\" class=\"node\">\n<title>139744780127184</title>\n<polygon fill=\"#add8e6\" stroke=\"#000000\" points=\"77.5,-208 23.5,-208 23.5,-177 77.5,-177 77.5,-208\"/>\n<text text-anchor=\"middle\" x=\"50.5\" y=\"-184\" font-family=\"monospace\" font-size=\"10.00\" fill=\"#000000\"> (1)</text>\n</g>\n<!-- 139744780127184&#45;&gt;139743644706032 -->\n<g id=\"edge2\" class=\"edge\">\n<title>139744780127184&#45;&gt;139743644706032</title>\n<path fill=\"none\" stroke=\"#000000\" d=\"M50.5,-176.791C50.5,-169.0249 50.5,-159.5706 50.5,-151.3129\"/>\n<polygon fill=\"#000000\" stroke=\"#000000\" points=\"54.0001,-151.0647 50.5,-141.0648 47.0001,-151.0648 54.0001,-151.0647\"/>\n</g>\n<!-- 139743644707856 -->\n<g id=\"node5\" class=\"node\">\n<title>139743644707856</title>\n<polygon fill=\"#d3d3d3\" stroke=\"#000000\" points=\"208,-141 119,-141 119,-122 208,-122 208,-141\"/>\n<text text-anchor=\"middle\" x=\"163.5\" y=\"-129\" font-family=\"monospace\" font-size=\"10.00\" fill=\"#000000\">MulBackward0</text>\n</g>\n<!-- 139743644707856&#45;&gt;139743644707712 -->\n<g id=\"edge3\" class=\"edge\">\n<title>139743644707856&#45;&gt;139743644707712</title>\n<path fill=\"none\" stroke=\"#000000\" d=\"M153.5714,-121.9197C145.4169,-114.0514 133.6697,-102.7164 123.9508,-93.3385\"/>\n<polygon fill=\"#000000\" stroke=\"#000000\" points=\"126.3252,-90.7659 116.6987,-86.3408 121.4646,-95.8032 126.3252,-90.7659\"/>\n</g>\n<!-- 139743644708480 -->\n<g id=\"node6\" class=\"node\">\n<title>139743644708480</title>\n<polygon fill=\"#d3d3d3\" stroke=\"#000000\" points=\"214,-202 113,-202 113,-183 214,-183 214,-202\"/>\n<text text-anchor=\"middle\" x=\"163.5\" y=\"-190\" font-family=\"monospace\" font-size=\"10.00\" fill=\"#000000\">AccumulateGrad</text>\n</g>\n<!-- 139743644708480&#45;&gt;139743644707856 -->\n<g id=\"edge4\" class=\"edge\">\n<title>139743644708480&#45;&gt;139743644707856</title>\n<path fill=\"none\" stroke=\"#000000\" d=\"M163.5,-182.9688C163.5,-174.5131 163.5,-161.8901 163.5,-151.2615\"/>\n<polygon fill=\"#000000\" stroke=\"#000000\" points=\"167.0001,-151.1656 163.5,-141.1656 160.0001,-151.1657 167.0001,-151.1656\"/>\n</g>\n<!-- 139743631166976 -->\n<g id=\"node7\" class=\"node\">\n<title>139743631166976</title>\n<polygon fill=\"#add8e6\" stroke=\"#000000\" points=\"190.5,-275 136.5,-275 136.5,-244 190.5,-244 190.5,-275\"/>\n<text text-anchor=\"middle\" x=\"163.5\" y=\"-251\" font-family=\"monospace\" font-size=\"10.00\" fill=\"#000000\"> (1)</text>\n</g>\n<!-- 139743631166976&#45;&gt;139743644708480 -->\n<g id=\"edge5\" class=\"edge\">\n<title>139743631166976&#45;&gt;139743644708480</title>\n<path fill=\"none\" stroke=\"#000000\" d=\"M163.5,-243.9604C163.5,-234.6356 163.5,-222.6748 163.5,-212.6317\"/>\n<polygon fill=\"#000000\" stroke=\"#000000\" points=\"167.0001,-212.35 163.5,-202.3501 160.0001,-212.3501 167.0001,-212.35\"/>\n</g>\n</g>\n</svg>\n",
            "text/plain": [
              "<graphviz.dot.Digraph at 0x7f189a4d69a0>"
            ]
          },
          "execution_count": 34,
          "metadata": {},
          "output_type": "execute_result"
        }
      ],
      "source": [
        "make_dot(yhat)"
      ]
    },
    {
      "cell_type": "markdown",
      "metadata": {
        "id": "VJziF7N9-pmT"
      },
      "source": [
        "use the `make_dot()` function again on `error` & `loss`"
      ]
    },
    {
      "cell_type": "code",
      "execution_count": null,
      "metadata": {
        "colab": {
          "base_uri": "https://localhost:8080/",
          "height": 471
        },
        "id": "A_JqRHBg9o7q",
        "outputId": "da33d6e5-c668-43e8-bc3d-75e9831bf925"
      },
      "outputs": [
        {
          "data": {
            "image/svg+xml": "<?xml version=\"1.0\" encoding=\"UTF-8\" standalone=\"no\"?>\n<!DOCTYPE svg PUBLIC \"-//W3C//DTD SVG 1.1//EN\"\n \"http://www.w3.org/Graphics/SVG/1.1/DTD/svg11.dtd\">\n<!-- Generated by graphviz version 2.40.1 (20161225.0304)\n -->\n<!-- Title: %3 Pages: 1 -->\n<svg width=\"222pt\" height=\"338pt\"\n viewBox=\"0.00 0.00 222.00 338.00\" xmlns=\"http://www.w3.org/2000/svg\" xmlns:xlink=\"http://www.w3.org/1999/xlink\">\n<g id=\"graph0\" class=\"graph\" transform=\"scale(1 1) rotate(0) translate(4 334)\">\n<title>%3</title>\n<polygon fill=\"#ffffff\" stroke=\"transparent\" points=\"-4,4 -4,-334 218,-334 218,4 -4,4\"/>\n<!-- 139743631123136 -->\n<g id=\"node1\" class=\"node\">\n<title>139743631123136</title>\n<polygon fill=\"#caff70\" stroke=\"#000000\" points=\"142,-31 71,-31 71,0 142,0 142,-31\"/>\n<text text-anchor=\"middle\" x=\"106.5\" y=\"-7\" font-family=\"monospace\" font-size=\"10.00\" fill=\"#000000\"> (100, 1)</text>\n</g>\n<!-- 139743645155872 -->\n<g id=\"node2\" class=\"node\">\n<title>139743645155872</title>\n<polygon fill=\"#d3d3d3\" stroke=\"#000000\" points=\"151,-86 62,-86 62,-67 151,-67 151,-86\"/>\n<text text-anchor=\"middle\" x=\"106.5\" y=\"-74\" font-family=\"monospace\" font-size=\"10.00\" fill=\"#000000\">SubBackward0</text>\n</g>\n<!-- 139743645155872&#45;&gt;139743631123136 -->\n<g id=\"edge7\" class=\"edge\">\n<title>139743645155872&#45;&gt;139743631123136</title>\n<path fill=\"none\" stroke=\"#000000\" d=\"M106.5,-66.9688C106.5,-60.1289 106.5,-50.5621 106.5,-41.5298\"/>\n<polygon fill=\"#000000\" stroke=\"#000000\" points=\"110.0001,-41.3678 106.5,-31.3678 103.0001,-41.3678 110.0001,-41.3678\"/>\n</g>\n<!-- 139743644707712 -->\n<g id=\"node3\" class=\"node\">\n<title>139743644707712</title>\n<polygon fill=\"#d3d3d3\" stroke=\"#000000\" points=\"151,-141 62,-141 62,-122 151,-122 151,-141\"/>\n<text text-anchor=\"middle\" x=\"106.5\" y=\"-129\" font-family=\"monospace\" font-size=\"10.00\" fill=\"#000000\">AddBackward0</text>\n</g>\n<!-- 139743644707712&#45;&gt;139743645155872 -->\n<g id=\"edge1\" class=\"edge\">\n<title>139743644707712&#45;&gt;139743645155872</title>\n<path fill=\"none\" stroke=\"#000000\" d=\"M106.5,-121.9197C106.5,-114.9083 106.5,-105.1442 106.5,-96.4652\"/>\n<polygon fill=\"#000000\" stroke=\"#000000\" points=\"110.0001,-96.3408 106.5,-86.3408 103.0001,-96.3409 110.0001,-96.3408\"/>\n</g>\n<!-- 139743644706032 -->\n<g id=\"node4\" class=\"node\">\n<title>139743644706032</title>\n<polygon fill=\"#d3d3d3\" stroke=\"#000000\" points=\"101,-196 0,-196 0,-177 101,-177 101,-196\"/>\n<text text-anchor=\"middle\" x=\"50.5\" y=\"-184\" font-family=\"monospace\" font-size=\"10.00\" fill=\"#000000\">AccumulateGrad</text>\n</g>\n<!-- 139743644706032&#45;&gt;139743644707712 -->\n<g id=\"edge2\" class=\"edge\">\n<title>139743644706032&#45;&gt;139743644707712</title>\n<path fill=\"none\" stroke=\"#000000\" d=\"M60.2545,-176.9197C68.1865,-169.1293 79.5788,-157.9405 89.0712,-148.6176\"/>\n<polygon fill=\"#000000\" stroke=\"#000000\" points=\"91.7982,-150.845 96.4802,-141.3408 86.8932,-145.8509 91.7982,-150.845\"/>\n</g>\n<!-- 139744780127184 -->\n<g id=\"node5\" class=\"node\">\n<title>139744780127184</title>\n<polygon fill=\"#add8e6\" stroke=\"#000000\" points=\"77.5,-263 23.5,-263 23.5,-232 77.5,-232 77.5,-263\"/>\n<text text-anchor=\"middle\" x=\"50.5\" y=\"-239\" font-family=\"monospace\" font-size=\"10.00\" fill=\"#000000\"> (1)</text>\n</g>\n<!-- 139744780127184&#45;&gt;139743644706032 -->\n<g id=\"edge3\" class=\"edge\">\n<title>139744780127184&#45;&gt;139743644706032</title>\n<path fill=\"none\" stroke=\"#000000\" d=\"M50.5,-231.791C50.5,-224.0249 50.5,-214.5706 50.5,-206.3129\"/>\n<polygon fill=\"#000000\" stroke=\"#000000\" points=\"54.0001,-206.0647 50.5,-196.0648 47.0001,-206.0648 54.0001,-206.0647\"/>\n</g>\n<!-- 139743644707856 -->\n<g id=\"node6\" class=\"node\">\n<title>139743644707856</title>\n<polygon fill=\"#d3d3d3\" stroke=\"#000000\" points=\"208,-196 119,-196 119,-177 208,-177 208,-196\"/>\n<text text-anchor=\"middle\" x=\"163.5\" y=\"-184\" font-family=\"monospace\" font-size=\"10.00\" fill=\"#000000\">MulBackward0</text>\n</g>\n<!-- 139743644707856&#45;&gt;139743644707712 -->\n<g id=\"edge4\" class=\"edge\">\n<title>139743644707856&#45;&gt;139743644707712</title>\n<path fill=\"none\" stroke=\"#000000\" d=\"M153.5714,-176.9197C145.4169,-169.0514 133.6697,-157.7164 123.9508,-148.3385\"/>\n<polygon fill=\"#000000\" stroke=\"#000000\" points=\"126.3252,-145.7659 116.6987,-141.3408 121.4646,-150.8032 126.3252,-145.7659\"/>\n</g>\n<!-- 139743644708480 -->\n<g id=\"node7\" class=\"node\">\n<title>139743644708480</title>\n<polygon fill=\"#d3d3d3\" stroke=\"#000000\" points=\"214,-257 113,-257 113,-238 214,-238 214,-257\"/>\n<text text-anchor=\"middle\" x=\"163.5\" y=\"-245\" font-family=\"monospace\" font-size=\"10.00\" fill=\"#000000\">AccumulateGrad</text>\n</g>\n<!-- 139743644708480&#45;&gt;139743644707856 -->\n<g id=\"edge5\" class=\"edge\">\n<title>139743644708480&#45;&gt;139743644707856</title>\n<path fill=\"none\" stroke=\"#000000\" d=\"M163.5,-237.9688C163.5,-229.5131 163.5,-216.8901 163.5,-206.2615\"/>\n<polygon fill=\"#000000\" stroke=\"#000000\" points=\"167.0001,-206.1656 163.5,-196.1656 160.0001,-206.1657 167.0001,-206.1656\"/>\n</g>\n<!-- 139743631166976 -->\n<g id=\"node8\" class=\"node\">\n<title>139743631166976</title>\n<polygon fill=\"#add8e6\" stroke=\"#000000\" points=\"190.5,-330 136.5,-330 136.5,-299 190.5,-299 190.5,-330\"/>\n<text text-anchor=\"middle\" x=\"163.5\" y=\"-306\" font-family=\"monospace\" font-size=\"10.00\" fill=\"#000000\"> (1)</text>\n</g>\n<!-- 139743631166976&#45;&gt;139743644708480 -->\n<g id=\"edge6\" class=\"edge\">\n<title>139743631166976&#45;&gt;139743644708480</title>\n<path fill=\"none\" stroke=\"#000000\" d=\"M163.5,-298.9604C163.5,-289.6356 163.5,-277.6748 163.5,-267.6317\"/>\n<polygon fill=\"#000000\" stroke=\"#000000\" points=\"167.0001,-267.35 163.5,-257.3501 160.0001,-267.3501 167.0001,-267.35\"/>\n</g>\n</g>\n</svg>\n",
            "text/plain": [
              "<graphviz.dot.Digraph at 0x7f189a544940>"
            ]
          },
          "execution_count": 35,
          "metadata": {},
          "output_type": "execute_result"
        }
      ],
      "source": [
        "make_dot(error)"
      ]
    },
    {
      "cell_type": "code",
      "execution_count": null,
      "metadata": {
        "colab": {
          "base_uri": "https://localhost:8080/",
          "height": 618
        },
        "id": "xpXFwIuDj83u",
        "outputId": "05836ecc-1244-4f3f-b643-14d2bb6fc94a"
      },
      "outputs": [
        {
          "data": {
            "image/svg+xml": "<?xml version=\"1.0\" encoding=\"UTF-8\" standalone=\"no\"?>\n<!DOCTYPE svg PUBLIC \"-//W3C//DTD SVG 1.1//EN\"\n \"http://www.w3.org/Graphics/SVG/1.1/DTD/svg11.dtd\">\n<!-- Generated by graphviz version 2.40.1 (20161225.0304)\n -->\n<!-- Title: %3 Pages: 1 -->\n<svg width=\"222pt\" height=\"448pt\"\n viewBox=\"0.00 0.00 222.00 448.00\" xmlns=\"http://www.w3.org/2000/svg\" xmlns:xlink=\"http://www.w3.org/1999/xlink\">\n<g id=\"graph0\" class=\"graph\" transform=\"scale(1 1) rotate(0) translate(4 444)\">\n<title>%3</title>\n<polygon fill=\"#ffffff\" stroke=\"transparent\" points=\"-4,4 -4,-444 218,-444 218,4 -4,4\"/>\n<!-- 139743631123696 -->\n<g id=\"node1\" class=\"node\">\n<title>139743631123696</title>\n<polygon fill=\"#caff70\" stroke=\"#000000\" points=\"133.5,-31 79.5,-31 79.5,0 133.5,0 133.5,-31\"/>\n<text text-anchor=\"middle\" x=\"106.5\" y=\"-7\" font-family=\"monospace\" font-size=\"10.00\" fill=\"#000000\"> ()</text>\n</g>\n<!-- 139743644754848 -->\n<g id=\"node2\" class=\"node\">\n<title>139743644754848</title>\n<polygon fill=\"#d3d3d3\" stroke=\"#000000\" points=\"154,-86 59,-86 59,-67 154,-67 154,-86\"/>\n<text text-anchor=\"middle\" x=\"106.5\" y=\"-74\" font-family=\"monospace\" font-size=\"10.00\" fill=\"#000000\">MeanBackward0</text>\n</g>\n<!-- 139743644754848&#45;&gt;139743631123696 -->\n<g id=\"edge9\" class=\"edge\">\n<title>139743644754848&#45;&gt;139743631123696</title>\n<path fill=\"none\" stroke=\"#000000\" d=\"M106.5,-66.9688C106.5,-60.1289 106.5,-50.5621 106.5,-41.5298\"/>\n<polygon fill=\"#000000\" stroke=\"#000000\" points=\"110.0001,-41.3678 106.5,-31.3678 103.0001,-41.3678 110.0001,-41.3678\"/>\n</g>\n<!-- 139743644754560 -->\n<g id=\"node3\" class=\"node\">\n<title>139743644754560</title>\n<polygon fill=\"#d3d3d3\" stroke=\"#000000\" points=\"151,-141 62,-141 62,-122 151,-122 151,-141\"/>\n<text text-anchor=\"middle\" x=\"106.5\" y=\"-129\" font-family=\"monospace\" font-size=\"10.00\" fill=\"#000000\">PowBackward0</text>\n</g>\n<!-- 139743644754560&#45;&gt;139743644754848 -->\n<g id=\"edge1\" class=\"edge\">\n<title>139743644754560&#45;&gt;139743644754848</title>\n<path fill=\"none\" stroke=\"#000000\" d=\"M106.5,-121.9197C106.5,-114.9083 106.5,-105.1442 106.5,-96.4652\"/>\n<polygon fill=\"#000000\" stroke=\"#000000\" points=\"110.0001,-96.3408 106.5,-86.3408 103.0001,-96.3409 110.0001,-96.3408\"/>\n</g>\n<!-- 139743645155872 -->\n<g id=\"node4\" class=\"node\">\n<title>139743645155872</title>\n<polygon fill=\"#d3d3d3\" stroke=\"#000000\" points=\"151,-196 62,-196 62,-177 151,-177 151,-196\"/>\n<text text-anchor=\"middle\" x=\"106.5\" y=\"-184\" font-family=\"monospace\" font-size=\"10.00\" fill=\"#000000\">SubBackward0</text>\n</g>\n<!-- 139743645155872&#45;&gt;139743644754560 -->\n<g id=\"edge2\" class=\"edge\">\n<title>139743645155872&#45;&gt;139743644754560</title>\n<path fill=\"none\" stroke=\"#000000\" d=\"M106.5,-176.9197C106.5,-169.9083 106.5,-160.1442 106.5,-151.4652\"/>\n<polygon fill=\"#000000\" stroke=\"#000000\" points=\"110.0001,-151.3408 106.5,-141.3408 103.0001,-151.3409 110.0001,-151.3408\"/>\n</g>\n<!-- 139743644707712 -->\n<g id=\"node5\" class=\"node\">\n<title>139743644707712</title>\n<polygon fill=\"#d3d3d3\" stroke=\"#000000\" points=\"151,-251 62,-251 62,-232 151,-232 151,-251\"/>\n<text text-anchor=\"middle\" x=\"106.5\" y=\"-239\" font-family=\"monospace\" font-size=\"10.00\" fill=\"#000000\">AddBackward0</text>\n</g>\n<!-- 139743644707712&#45;&gt;139743645155872 -->\n<g id=\"edge3\" class=\"edge\">\n<title>139743644707712&#45;&gt;139743645155872</title>\n<path fill=\"none\" stroke=\"#000000\" d=\"M106.5,-231.9197C106.5,-224.9083 106.5,-215.1442 106.5,-206.4652\"/>\n<polygon fill=\"#000000\" stroke=\"#000000\" points=\"110.0001,-206.3408 106.5,-196.3408 103.0001,-206.3409 110.0001,-206.3408\"/>\n</g>\n<!-- 139743644706032 -->\n<g id=\"node6\" class=\"node\">\n<title>139743644706032</title>\n<polygon fill=\"#d3d3d3\" stroke=\"#000000\" points=\"101,-306 0,-306 0,-287 101,-287 101,-306\"/>\n<text text-anchor=\"middle\" x=\"50.5\" y=\"-294\" font-family=\"monospace\" font-size=\"10.00\" fill=\"#000000\">AccumulateGrad</text>\n</g>\n<!-- 139743644706032&#45;&gt;139743644707712 -->\n<g id=\"edge4\" class=\"edge\">\n<title>139743644706032&#45;&gt;139743644707712</title>\n<path fill=\"none\" stroke=\"#000000\" d=\"M60.2545,-286.9197C68.1865,-279.1293 79.5788,-267.9405 89.0712,-258.6176\"/>\n<polygon fill=\"#000000\" stroke=\"#000000\" points=\"91.7982,-260.845 96.4802,-251.3408 86.8932,-255.8509 91.7982,-260.845\"/>\n</g>\n<!-- 139744780127184 -->\n<g id=\"node7\" class=\"node\">\n<title>139744780127184</title>\n<polygon fill=\"#add8e6\" stroke=\"#000000\" points=\"77.5,-373 23.5,-373 23.5,-342 77.5,-342 77.5,-373\"/>\n<text text-anchor=\"middle\" x=\"50.5\" y=\"-349\" font-family=\"monospace\" font-size=\"10.00\" fill=\"#000000\"> (1)</text>\n</g>\n<!-- 139744780127184&#45;&gt;139743644706032 -->\n<g id=\"edge5\" class=\"edge\">\n<title>139744780127184&#45;&gt;139743644706032</title>\n<path fill=\"none\" stroke=\"#000000\" d=\"M50.5,-341.791C50.5,-334.0249 50.5,-324.5706 50.5,-316.3129\"/>\n<polygon fill=\"#000000\" stroke=\"#000000\" points=\"54.0001,-316.0647 50.5,-306.0648 47.0001,-316.0648 54.0001,-316.0647\"/>\n</g>\n<!-- 139743644707856 -->\n<g id=\"node8\" class=\"node\">\n<title>139743644707856</title>\n<polygon fill=\"#d3d3d3\" stroke=\"#000000\" points=\"208,-306 119,-306 119,-287 208,-287 208,-306\"/>\n<text text-anchor=\"middle\" x=\"163.5\" y=\"-294\" font-family=\"monospace\" font-size=\"10.00\" fill=\"#000000\">MulBackward0</text>\n</g>\n<!-- 139743644707856&#45;&gt;139743644707712 -->\n<g id=\"edge6\" class=\"edge\">\n<title>139743644707856&#45;&gt;139743644707712</title>\n<path fill=\"none\" stroke=\"#000000\" d=\"M153.5714,-286.9197C145.4169,-279.0514 133.6697,-267.7164 123.9508,-258.3385\"/>\n<polygon fill=\"#000000\" stroke=\"#000000\" points=\"126.3252,-255.7659 116.6987,-251.3408 121.4646,-260.8032 126.3252,-255.7659\"/>\n</g>\n<!-- 139743644708480 -->\n<g id=\"node9\" class=\"node\">\n<title>139743644708480</title>\n<polygon fill=\"#d3d3d3\" stroke=\"#000000\" points=\"214,-367 113,-367 113,-348 214,-348 214,-367\"/>\n<text text-anchor=\"middle\" x=\"163.5\" y=\"-355\" font-family=\"monospace\" font-size=\"10.00\" fill=\"#000000\">AccumulateGrad</text>\n</g>\n<!-- 139743644708480&#45;&gt;139743644707856 -->\n<g id=\"edge7\" class=\"edge\">\n<title>139743644708480&#45;&gt;139743644707856</title>\n<path fill=\"none\" stroke=\"#000000\" d=\"M163.5,-347.9688C163.5,-339.5131 163.5,-326.8901 163.5,-316.2615\"/>\n<polygon fill=\"#000000\" stroke=\"#000000\" points=\"167.0001,-316.1656 163.5,-306.1656 160.0001,-316.1657 167.0001,-316.1656\"/>\n</g>\n<!-- 139743631166976 -->\n<g id=\"node10\" class=\"node\">\n<title>139743631166976</title>\n<polygon fill=\"#add8e6\" stroke=\"#000000\" points=\"190.5,-440 136.5,-440 136.5,-409 190.5,-409 190.5,-440\"/>\n<text text-anchor=\"middle\" x=\"163.5\" y=\"-416\" font-family=\"monospace\" font-size=\"10.00\" fill=\"#000000\"> (1)</text>\n</g>\n<!-- 139743631166976&#45;&gt;139743644708480 -->\n<g id=\"edge8\" class=\"edge\">\n<title>139743631166976&#45;&gt;139743644708480</title>\n<path fill=\"none\" stroke=\"#000000\" d=\"M163.5,-408.9604C163.5,-399.6356 163.5,-387.6748 163.5,-377.6317\"/>\n<polygon fill=\"#000000\" stroke=\"#000000\" points=\"167.0001,-377.35 163.5,-367.3501 160.0001,-377.3501 167.0001,-377.35\"/>\n</g>\n</g>\n</svg>\n",
            "text/plain": [
              "<graphviz.dot.Digraph at 0x7f189a4e21c0>"
            ]
          },
          "execution_count": 36,
          "metadata": {},
          "output_type": "execute_result"
        }
      ],
      "source": [
        "make_dot(loss)"
      ]
    },
    {
      "cell_type": "markdown",
      "metadata": {
        "id": "SkM-_h2Q_Af2"
      },
      "source": [
        "what if we did not need the gradient of `a`? plot the computational graph of pytorch"
      ]
    },
    {
      "cell_type": "code",
      "execution_count": null,
      "metadata": {
        "colab": {
          "base_uri": "https://localhost:8080/",
          "height": 382
        },
        "id": "hrlXmBanrRjJ",
        "outputId": "82773846-8f04-4bbb-f1c0-3d4f3cef1f2f"
      },
      "outputs": [
        {
          "data": {
            "image/svg+xml": "<?xml version=\"1.0\" encoding=\"UTF-8\" standalone=\"no\"?>\n<!DOCTYPE svg PUBLIC \"-//W3C//DTD SVG 1.1//EN\"\n \"http://www.w3.org/Graphics/SVG/1.1/DTD/svg11.dtd\">\n<!-- Generated by graphviz version 2.40.1 (20161225.0304)\n -->\n<!-- Title: %3 Pages: 1 -->\n<svg width=\"109pt\" height=\"271pt\"\n viewBox=\"0.00 0.00 109.00 271.00\" xmlns=\"http://www.w3.org/2000/svg\" xmlns:xlink=\"http://www.w3.org/1999/xlink\">\n<g id=\"graph0\" class=\"graph\" transform=\"scale(1 1) rotate(0) translate(4 267)\">\n<title>%3</title>\n<polygon fill=\"#ffffff\" stroke=\"transparent\" points=\"-4,4 -4,-267 105,-267 105,4 -4,4\"/>\n<!-- 139743631165056 -->\n<g id=\"node1\" class=\"node\">\n<title>139743631165056</title>\n<polygon fill=\"#caff70\" stroke=\"#000000\" points=\"86,-31 15,-31 15,0 86,0 86,-31\"/>\n<text text-anchor=\"middle\" x=\"50.5\" y=\"-7\" font-family=\"monospace\" font-size=\"10.00\" fill=\"#000000\"> (100, 1)</text>\n</g>\n<!-- 139743644706896 -->\n<g id=\"node2\" class=\"node\">\n<title>139743644706896</title>\n<polygon fill=\"#d3d3d3\" stroke=\"#000000\" points=\"95,-86 6,-86 6,-67 95,-67 95,-86\"/>\n<text text-anchor=\"middle\" x=\"50.5\" y=\"-74\" font-family=\"monospace\" font-size=\"10.00\" fill=\"#000000\">AddBackward0</text>\n</g>\n<!-- 139743644706896&#45;&gt;139743631165056 -->\n<g id=\"edge4\" class=\"edge\">\n<title>139743644706896&#45;&gt;139743631165056</title>\n<path fill=\"none\" stroke=\"#000000\" d=\"M50.5,-66.9688C50.5,-60.1289 50.5,-50.5621 50.5,-41.5298\"/>\n<polygon fill=\"#000000\" stroke=\"#000000\" points=\"54.0001,-41.3678 50.5,-31.3678 47.0001,-41.3678 54.0001,-41.3678\"/>\n</g>\n<!-- 139743644708336 -->\n<g id=\"node3\" class=\"node\">\n<title>139743644708336</title>\n<polygon fill=\"#d3d3d3\" stroke=\"#000000\" points=\"95,-141 6,-141 6,-122 95,-122 95,-141\"/>\n<text text-anchor=\"middle\" x=\"50.5\" y=\"-129\" font-family=\"monospace\" font-size=\"10.00\" fill=\"#000000\">MulBackward0</text>\n</g>\n<!-- 139743644708336&#45;&gt;139743644706896 -->\n<g id=\"edge1\" class=\"edge\">\n<title>139743644708336&#45;&gt;139743644706896</title>\n<path fill=\"none\" stroke=\"#000000\" d=\"M50.5,-121.9197C50.5,-114.9083 50.5,-105.1442 50.5,-96.4652\"/>\n<polygon fill=\"#000000\" stroke=\"#000000\" points=\"54.0001,-96.3408 50.5,-86.3408 47.0001,-96.3409 54.0001,-96.3408\"/>\n</g>\n<!-- 139743644707280 -->\n<g id=\"node4\" class=\"node\">\n<title>139743644707280</title>\n<polygon fill=\"#d3d3d3\" stroke=\"#000000\" points=\"101,-196 0,-196 0,-177 101,-177 101,-196\"/>\n<text text-anchor=\"middle\" x=\"50.5\" y=\"-184\" font-family=\"monospace\" font-size=\"10.00\" fill=\"#000000\">AccumulateGrad</text>\n</g>\n<!-- 139743644707280&#45;&gt;139743644708336 -->\n<g id=\"edge2\" class=\"edge\">\n<title>139743644707280&#45;&gt;139743644708336</title>\n<path fill=\"none\" stroke=\"#000000\" d=\"M50.5,-176.9197C50.5,-169.9083 50.5,-160.1442 50.5,-151.4652\"/>\n<polygon fill=\"#000000\" stroke=\"#000000\" points=\"54.0001,-151.3408 50.5,-141.3408 47.0001,-151.3409 54.0001,-151.3408\"/>\n</g>\n<!-- 139743631167216 -->\n<g id=\"node5\" class=\"node\">\n<title>139743631167216</title>\n<polygon fill=\"#add8e6\" stroke=\"#000000\" points=\"77.5,-263 23.5,-263 23.5,-232 77.5,-232 77.5,-263\"/>\n<text text-anchor=\"middle\" x=\"50.5\" y=\"-239\" font-family=\"monospace\" font-size=\"10.00\" fill=\"#000000\"> (1)</text>\n</g>\n<!-- 139743631167216&#45;&gt;139743644707280 -->\n<g id=\"edge3\" class=\"edge\">\n<title>139743631167216&#45;&gt;139743644707280</title>\n<path fill=\"none\" stroke=\"#000000\" d=\"M50.5,-231.791C50.5,-224.0249 50.5,-214.5706 50.5,-206.3129\"/>\n<polygon fill=\"#000000\" stroke=\"#000000\" points=\"54.0001,-206.0647 50.5,-196.0648 47.0001,-206.0648 54.0001,-206.0647\"/>\n</g>\n</g>\n</svg>\n",
            "text/plain": [
              "<graphviz.dot.Digraph at 0x7f189a4d63d0>"
            ]
          },
          "execution_count": 37,
          "metadata": {},
          "output_type": "execute_result"
        }
      ],
      "source": [
        "torch.manual_seed(42)\n",
        "a_nograd = torch.randn(1, requires_grad=False, dtype=torch.float, device=device)\n",
        "b = torch.randn(1, requires_grad=True, dtype=torch.float, device=device)\n",
        "yhat = a_nograd + b * xs_tensor\n",
        "make_dot(yhat)"
      ]
    },
    {
      "cell_type": "markdown",
      "metadata": {
        "id": "zMvrHc6KAJM3"
      },
      "source": [
        "add an `if` condition to your loss and check out the graph"
      ]
    },
    {
      "cell_type": "code",
      "execution_count": null,
      "metadata": {
        "colab": {
          "base_uri": "https://localhost:8080/",
          "height": 691
        },
        "id": "HlxuauNTayOk",
        "outputId": "87878c7e-8eae-44a8-f9fa-f3dd689de5b5"
      },
      "outputs": [
        {
          "data": {
            "image/svg+xml": "<?xml version=\"1.0\" encoding=\"UTF-8\" standalone=\"no\"?>\n<!DOCTYPE svg PUBLIC \"-//W3C//DTD SVG 1.1//EN\"\n \"http://www.w3.org/Graphics/SVG/1.1/DTD/svg11.dtd\">\n<!-- Generated by graphviz version 2.40.1 (20161225.0304)\n -->\n<!-- Title: %3 Pages: 1 -->\n<svg width=\"326pt\" height=\"503pt\"\n viewBox=\"0.00 0.00 326.00 503.00\" xmlns=\"http://www.w3.org/2000/svg\" xmlns:xlink=\"http://www.w3.org/1999/xlink\">\n<g id=\"graph0\" class=\"graph\" transform=\"scale(1 1) rotate(0) translate(4 499)\">\n<title>%3</title>\n<polygon fill=\"#ffffff\" stroke=\"transparent\" points=\"-4,4 -4,-499 322,-499 322,4 -4,4\"/>\n<!-- 139743631206336 -->\n<g id=\"node1\" class=\"node\">\n<title>139743631206336</title>\n<polygon fill=\"#caff70\" stroke=\"#000000\" points=\"242.5,-31 188.5,-31 188.5,0 242.5,0 242.5,-31\"/>\n<text text-anchor=\"middle\" x=\"215.5\" y=\"-7\" font-family=\"monospace\" font-size=\"10.00\" fill=\"#000000\"> ()</text>\n</g>\n<!-- 139743644756864 -->\n<g id=\"node2\" class=\"node\">\n<title>139743644756864</title>\n<polygon fill=\"#d3d3d3\" stroke=\"#000000\" points=\"260,-86 171,-86 171,-67 260,-67 260,-86\"/>\n<text text-anchor=\"middle\" x=\"215.5\" y=\"-74\" font-family=\"monospace\" font-size=\"10.00\" fill=\"#000000\">AddBackward0</text>\n</g>\n<!-- 139743644756864&#45;&gt;139743631206336 -->\n<g id=\"edge14\" class=\"edge\">\n<title>139743644756864&#45;&gt;139743631206336</title>\n<path fill=\"none\" stroke=\"#000000\" d=\"M215.5,-66.9688C215.5,-60.1289 215.5,-50.5621 215.5,-41.5298\"/>\n<polygon fill=\"#000000\" stroke=\"#000000\" points=\"219.0001,-41.3678 215.5,-31.3678 212.0001,-41.3678 219.0001,-41.3678\"/>\n</g>\n<!-- 139743644755136 -->\n<g id=\"node3\" class=\"node\">\n<title>139743644755136</title>\n<polygon fill=\"#d3d3d3\" stroke=\"#000000\" points=\"225,-141 130,-141 130,-122 225,-122 225,-141\"/>\n<text text-anchor=\"middle\" x=\"177.5\" y=\"-129\" font-family=\"monospace\" font-size=\"10.00\" fill=\"#000000\">MeanBackward0</text>\n</g>\n<!-- 139743644755136&#45;&gt;139743644756864 -->\n<g id=\"edge1\" class=\"edge\">\n<title>139743644755136&#45;&gt;139743644756864</title>\n<path fill=\"none\" stroke=\"#000000\" d=\"M184.1191,-121.9197C189.2863,-114.4409 196.6174,-103.8301 202.8944,-94.745\"/>\n<polygon fill=\"#000000\" stroke=\"#000000\" points=\"205.8961,-96.5577 208.7009,-86.3408 200.137,-92.5786 205.8961,-96.5577\"/>\n</g>\n<!-- 139743644755232 -->\n<g id=\"node4\" class=\"node\">\n<title>139743644755232</title>\n<polygon fill=\"#d3d3d3\" stroke=\"#000000\" points=\"205,-196 116,-196 116,-177 205,-177 205,-196\"/>\n<text text-anchor=\"middle\" x=\"160.5\" y=\"-184\" font-family=\"monospace\" font-size=\"10.00\" fill=\"#000000\">PowBackward0</text>\n</g>\n<!-- 139743644755232&#45;&gt;139743644755136 -->\n<g id=\"edge2\" class=\"edge\">\n<title>139743644755232&#45;&gt;139743644755136</title>\n<path fill=\"none\" stroke=\"#000000\" d=\"M163.4612,-176.9197C165.6524,-169.8304 168.7135,-159.9269 171.4182,-151.1763\"/>\n<polygon fill=\"#000000\" stroke=\"#000000\" points=\"174.8491,-151.9285 174.4583,-141.3408 168.1612,-149.8613 174.8491,-151.9285\"/>\n</g>\n<!-- 139743644757056 -->\n<g id=\"node5\" class=\"node\">\n<title>139743644757056</title>\n<polygon fill=\"#d3d3d3\" stroke=\"#000000\" points=\"205,-251 116,-251 116,-232 205,-232 205,-251\"/>\n<text text-anchor=\"middle\" x=\"160.5\" y=\"-239\" font-family=\"monospace\" font-size=\"10.00\" fill=\"#000000\">SubBackward0</text>\n</g>\n<!-- 139743644757056&#45;&gt;139743644755232 -->\n<g id=\"edge3\" class=\"edge\">\n<title>139743644757056&#45;&gt;139743644755232</title>\n<path fill=\"none\" stroke=\"#000000\" d=\"M160.5,-231.9197C160.5,-224.9083 160.5,-215.1442 160.5,-206.4652\"/>\n<polygon fill=\"#000000\" stroke=\"#000000\" points=\"164.0001,-206.3408 160.5,-196.3408 157.0001,-206.3409 164.0001,-206.3408\"/>\n</g>\n<!-- 139743644757920 -->\n<g id=\"node6\" class=\"node\">\n<title>139743644757920</title>\n<polygon fill=\"#d3d3d3\" stroke=\"#000000\" points=\"205,-306 116,-306 116,-287 205,-287 205,-306\"/>\n<text text-anchor=\"middle\" x=\"160.5\" y=\"-294\" font-family=\"monospace\" font-size=\"10.00\" fill=\"#000000\">AddBackward0</text>\n</g>\n<!-- 139743644757920&#45;&gt;139743644757056 -->\n<g id=\"edge4\" class=\"edge\">\n<title>139743644757920&#45;&gt;139743644757056</title>\n<path fill=\"none\" stroke=\"#000000\" d=\"M160.5,-286.9197C160.5,-279.9083 160.5,-270.1442 160.5,-261.4652\"/>\n<polygon fill=\"#000000\" stroke=\"#000000\" points=\"164.0001,-261.3408 160.5,-251.3408 157.0001,-261.3409 164.0001,-261.3408\"/>\n</g>\n<!-- 139743644755808 -->\n<g id=\"node7\" class=\"node\">\n<title>139743644755808</title>\n<polygon fill=\"#d3d3d3\" stroke=\"#000000\" points=\"101,-361 0,-361 0,-342 101,-342 101,-361\"/>\n<text text-anchor=\"middle\" x=\"50.5\" y=\"-349\" font-family=\"monospace\" font-size=\"10.00\" fill=\"#000000\">AccumulateGrad</text>\n</g>\n<!-- 139743644755808&#45;&gt;139743644757920 -->\n<g id=\"edge5\" class=\"edge\">\n<title>139743644755808&#45;&gt;139743644757920</title>\n<path fill=\"none\" stroke=\"#000000\" d=\"M69.6605,-341.9197C86.9053,-333.2973 112.476,-320.512 132.0978,-310.7011\"/>\n<polygon fill=\"#000000\" stroke=\"#000000\" points=\"133.8109,-313.7577 141.19,-306.155 130.6804,-307.4967 133.8109,-313.7577\"/>\n</g>\n<!-- 139743631124016 -->\n<g id=\"node8\" class=\"node\">\n<title>139743631124016</title>\n<polygon fill=\"#add8e6\" stroke=\"#000000\" points=\"77.5,-428 23.5,-428 23.5,-397 77.5,-397 77.5,-428\"/>\n<text text-anchor=\"middle\" x=\"50.5\" y=\"-404\" font-family=\"monospace\" font-size=\"10.00\" fill=\"#000000\"> (1)</text>\n</g>\n<!-- 139743631124016&#45;&gt;139743644755808 -->\n<g id=\"edge6\" class=\"edge\">\n<title>139743631124016&#45;&gt;139743644755808</title>\n<path fill=\"none\" stroke=\"#000000\" d=\"M50.5,-396.791C50.5,-389.0249 50.5,-379.5706 50.5,-371.3129\"/>\n<polygon fill=\"#000000\" stroke=\"#000000\" points=\"54.0001,-371.0647 50.5,-361.0648 47.0001,-371.0648 54.0001,-371.0647\"/>\n</g>\n<!-- 139743644754176 -->\n<g id=\"node9\" class=\"node\">\n<title>139743644754176</title>\n<polygon fill=\"#d3d3d3\" stroke=\"#000000\" points=\"208,-361 119,-361 119,-342 208,-342 208,-361\"/>\n<text text-anchor=\"middle\" x=\"163.5\" y=\"-349\" font-family=\"monospace\" font-size=\"10.00\" fill=\"#000000\">MulBackward0</text>\n</g>\n<!-- 139743644754176&#45;&gt;139743644757920 -->\n<g id=\"edge7\" class=\"edge\">\n<title>139743644754176&#45;&gt;139743644757920</title>\n<path fill=\"none\" stroke=\"#000000\" d=\"M162.9774,-341.9197C162.595,-334.9083 162.0624,-325.1442 161.589,-316.4652\"/>\n<polygon fill=\"#000000\" stroke=\"#000000\" points=\"165.0763,-316.1353 161.0368,-306.3408 158.0867,-316.5166 165.0763,-316.1353\"/>\n</g>\n<!-- 139743644755952 -->\n<g id=\"node10\" class=\"node\">\n<title>139743644755952</title>\n<polygon fill=\"#d3d3d3\" stroke=\"#000000\" points=\"267,-422 166,-422 166,-403 267,-403 267,-422\"/>\n<text text-anchor=\"middle\" x=\"216.5\" y=\"-410\" font-family=\"monospace\" font-size=\"10.00\" fill=\"#000000\">AccumulateGrad</text>\n</g>\n<!-- 139743644755952&#45;&gt;139743644754176 -->\n<g id=\"edge8\" class=\"edge\">\n<title>139743644755952&#45;&gt;139743644754176</title>\n<path fill=\"none\" stroke=\"#000000\" d=\"M208.2188,-402.9688C200.3307,-393.8901 188.2686,-380.0072 178.6588,-368.947\"/>\n<polygon fill=\"#000000\" stroke=\"#000000\" points=\"181.0988,-366.4188 171.898,-361.1656 175.8147,-371.0099 181.0988,-366.4188\"/>\n</g>\n<!-- 139743644754656 -->\n<g id=\"node14\" class=\"node\">\n<title>139743644754656</title>\n<polygon fill=\"#d3d3d3\" stroke=\"#000000\" points=\"315,-361 226,-361 226,-342 315,-342 315,-361\"/>\n<text text-anchor=\"middle\" x=\"270.5\" y=\"-349\" font-family=\"monospace\" font-size=\"10.00\" fill=\"#000000\">MulBackward0</text>\n</g>\n<!-- 139743644755952&#45;&gt;139743644754656 -->\n<g id=\"edge13\" class=\"edge\">\n<title>139743644755952&#45;&gt;139743644754656</title>\n<path fill=\"none\" stroke=\"#000000\" d=\"M224.9375,-402.9688C232.9743,-393.8901 245.2641,-380.0072 255.0551,-368.947\"/>\n<polygon fill=\"#000000\" stroke=\"#000000\" points=\"257.9358,-370.9732 261.9435,-361.1656 252.6944,-366.3333 257.9358,-370.9732\"/>\n</g>\n<!-- 139743631165296 -->\n<g id=\"node11\" class=\"node\">\n<title>139743631165296</title>\n<polygon fill=\"#add8e6\" stroke=\"#000000\" points=\"243.5,-495 189.5,-495 189.5,-464 243.5,-464 243.5,-495\"/>\n<text text-anchor=\"middle\" x=\"216.5\" y=\"-471\" font-family=\"monospace\" font-size=\"10.00\" fill=\"#000000\"> (1)</text>\n</g>\n<!-- 139743631165296&#45;&gt;139743644755952 -->\n<g id=\"edge9\" class=\"edge\">\n<title>139743631165296&#45;&gt;139743644755952</title>\n<path fill=\"none\" stroke=\"#000000\" d=\"M216.5,-463.9604C216.5,-454.6356 216.5,-442.6748 216.5,-432.6317\"/>\n<polygon fill=\"#000000\" stroke=\"#000000\" points=\"220.0001,-432.35 216.5,-422.3501 213.0001,-432.3501 220.0001,-432.35\"/>\n</g>\n<!-- 139743644757776 -->\n<g id=\"node12\" class=\"node\">\n<title>139743644757776</title>\n<polygon fill=\"#d3d3d3\" stroke=\"#000000\" points=\"318,-196 223,-196 223,-177 318,-177 318,-196\"/>\n<text text-anchor=\"middle\" x=\"270.5\" y=\"-184\" font-family=\"monospace\" font-size=\"10.00\" fill=\"#000000\">MeanBackward0</text>\n</g>\n<!-- 139743644757776&#45;&gt;139743644756864 -->\n<g id=\"edge10\" class=\"edge\">\n<title>139743644757776&#45;&gt;139743644756864</title>\n<path fill=\"none\" stroke=\"#000000\" d=\"M265.6191,-176.7382C256.4636,-158.4271 236.5757,-118.6514 224.791,-95.082\"/>\n<polygon fill=\"#000000\" stroke=\"#000000\" points=\"227.8941,-93.4618 220.2914,-86.0828 221.6331,-96.5924 227.8941,-93.4618\"/>\n</g>\n<!-- 139743644754608 -->\n<g id=\"node13\" class=\"node\">\n<title>139743644754608</title>\n<polygon fill=\"#d3d3d3\" stroke=\"#000000\" points=\"315,-306 226,-306 226,-287 315,-287 315,-306\"/>\n<text text-anchor=\"middle\" x=\"270.5\" y=\"-294\" font-family=\"monospace\" font-size=\"10.00\" fill=\"#000000\">SubBackward0</text>\n</g>\n<!-- 139743644754608&#45;&gt;139743644757776 -->\n<g id=\"edge11\" class=\"edge\">\n<title>139743644754608&#45;&gt;139743644757776</title>\n<path fill=\"none\" stroke=\"#000000\" d=\"M270.5,-286.7382C270.5,-268.7541 270.5,-230.0652 270.5,-206.3599\"/>\n<polygon fill=\"#000000\" stroke=\"#000000\" points=\"274.0001,-206.0828 270.5,-196.0828 267.0001,-206.0829 274.0001,-206.0828\"/>\n</g>\n<!-- 139743644754656&#45;&gt;139743644754608 -->\n<g id=\"edge12\" class=\"edge\">\n<title>139743644754656&#45;&gt;139743644754608</title>\n<path fill=\"none\" stroke=\"#000000\" d=\"M270.5,-341.9197C270.5,-334.9083 270.5,-325.1442 270.5,-316.4652\"/>\n<polygon fill=\"#000000\" stroke=\"#000000\" points=\"274.0001,-316.3408 270.5,-306.3408 267.0001,-316.3409 274.0001,-316.3408\"/>\n</g>\n</g>\n</svg>\n",
            "text/plain": [
              "<graphviz.dot.Digraph at 0x7f189a4e2dc0>"
            ]
          },
          "execution_count": 38,
          "metadata": {},
          "output_type": "execute_result"
        }
      ],
      "source": [
        "torch.manual_seed(42)\n",
        "a = torch.randn(1, requires_grad=True, dtype=torch.float, device=device)\n",
        "b = torch.randn(1, requires_grad=True, dtype=torch.float, device=device)\n",
        "yhat = a + b * xs_tensor\n",
        "error = ys_tensor - yhat\n",
        "loss = (error ** 2).mean()\n",
        "\n",
        "if loss > 0:\n",
        "  yhat2 = b * xs_tensor\n",
        "  error2 = ys_tensor - yhat2\n",
        "loss += error2.mean()\n",
        "\n",
        "make_dot(loss)"
      ]
    },
    {
      "cell_type": "markdown",
      "metadata": {
        "id": "qHSiGHpRAVoq"
      },
      "source": [
        "-----"
      ]
    },
    {
      "cell_type": "markdown",
      "metadata": {
        "id": "ojTdBgdbAW6G"
      },
      "source": [
        "getting back to the main gradient descent loop, rewrite it using an optimizer (take the SGD for instance)"
      ]
    },
    {
      "cell_type": "code",
      "execution_count": null,
      "metadata": {
        "colab": {
          "base_uri": "https://localhost:8080/"
        },
        "id": "BhDKZ0QhrRog",
        "outputId": "5a52e239-2859-437b-a932-83dcee8e0239"
      },
      "outputs": [
        {
          "name": "stdout",
          "output_type": "stream",
          "text": [
            "1.0215120315551758 1.9540181159973145\n",
            "1.0215096157546748 1.954022677287697\n"
          ]
        }
      ],
      "source": [
        "lr = 1e-1\n",
        "n_epochs = 1000\n",
        "\n",
        "torch.manual_seed(42)\n",
        "a = torch.randn(1, requires_grad=True, dtype=torch.float, device=device)\n",
        "b = torch.randn(1, requires_grad=True, dtype=torch.float, device=device)\n",
        "\n",
        "optimizer = optim.SGD([a, b], lr=lr)\n",
        "for epoch in range(n_epochs):\n",
        "    yhat = a + b * xs_tensor\n",
        "    error = ys_tensor - yhat\n",
        "    loss = (error ** 2).mean()\n",
        "    loss.backward()\n",
        "\n",
        "    optimizer.step()\n",
        "    optimizer.zero_grad()\n",
        "\n",
        "print(float(a), float(b))\n",
        "print(float(skl_a), float(skl_b))"
      ]
    },
    {
      "cell_type": "markdown",
      "metadata": {
        "id": "tb_fC_m0CMz0"
      },
      "source": [
        "rewrite the main gradient descent loop using the pytorch MSE instead of computing the loss function yourself"
      ]
    },
    {
      "cell_type": "code",
      "execution_count": null,
      "metadata": {
        "colab": {
          "base_uri": "https://localhost:8080/"
        },
        "id": "ztCh45Z-rRq4",
        "outputId": "a5cbf2c8-61c7-4d02-a80b-89029fed3096"
      },
      "outputs": [
        {
          "name": "stdout",
          "output_type": "stream",
          "text": [
            "1.0215120315551758 1.9540181159973145\n",
            "1.0215096157546748 1.954022677287697\n"
          ]
        }
      ],
      "source": [
        "lr = 1e-1\n",
        "n_epochs = 1000\n",
        "\n",
        "torch.manual_seed(42)\n",
        "a = torch.randn(1, requires_grad=True, dtype=torch.float, device=device)\n",
        "b = torch.randn(1, requires_grad=True, dtype=torch.float, device=device)\n",
        "\n",
        "loss_fn = nn.MSELoss(reduction='mean')\n",
        "optimizer = optim.SGD([a, b], lr=lr)\n",
        "\n",
        "for epoch in range(n_epochs):\n",
        "    yhat = a + b * xs_tensor\n",
        "    loss = loss_fn(ys_tensor, yhat)\n",
        "    loss.backward()    \n",
        "    optimizer.step()\n",
        "    optimizer.zero_grad()\n",
        "\n",
        "print(float(a), float(b))\n",
        "print(float(skl_a), float(skl_b))"
      ]
    },
    {
      "cell_type": "markdown",
      "metadata": {
        "id": "MIFfal9eCnd-"
      },
      "source": [
        "write the linear regression as a `nn.module` class; rewrite the training loop"
      ]
    },
    {
      "cell_type": "code",
      "execution_count": null,
      "metadata": {
        "colab": {
          "base_uri": "https://localhost:8080/"
        },
        "id": "W-dttS1atUnh",
        "outputId": "e9d78717-37d2-4d28-c187-5311085e8adc"
      },
      "outputs": [
        {
          "name": "stdout",
          "output_type": "stream",
          "text": [
            "a: 1.0215120315551758 b: 1.9540181159973145\n",
            "{'a': tensor([1.0215], device='cuda:0'), 'b': tensor([1.9540], device='cuda:0')}\n"
          ]
        }
      ],
      "source": [
        "class ManualLinearRegression(nn.Module):\n",
        "    def __init__(self):\n",
        "        super().__init__()\n",
        "        # To make \"a\" and \"b\" real parameters of the model, we need to wrap them with nn.Parameter\n",
        "        self.a = nn.Parameter(torch.randn(1, requires_grad=True, dtype=torch.float))\n",
        "        self.b = nn.Parameter(torch.randn(1, requires_grad=True, dtype=torch.float))\n",
        "        \n",
        "    def forward(self, x):\n",
        "        # Computes the outputs / predictions\n",
        "        return self.a + self.b * x\n",
        "\n",
        "lr = 1e-1\n",
        "n_epochs = 1000\n",
        "\n",
        "torch.manual_seed(42)\n",
        "model = ManualLinearRegression().to(device)\n",
        "loss_fn = nn.MSELoss(reduction='mean')\n",
        "optimizer = optim.SGD(model.parameters(), lr=lr)\n",
        "\n",
        "for epoch in range(n_epochs):\n",
        "    model.train()\n",
        "    yhat = model(xs_tensor)\n",
        "    loss = loss_fn(ys_tensor, yhat)\n",
        "    loss.backward()    \n",
        "    optimizer.step()\n",
        "    optimizer.zero_grad()\n",
        "\n",
        "print('a:',float(a), 'b:',float(b))\n",
        "print(dict(model.state_dict()))"
      ]
    },
    {
      "cell_type": "markdown",
      "metadata": {
        "id": "dDU_mwjFDSQ2"
      },
      "source": [
        "NB: The `.train()` sets the model to training mode. This important for models that use mechanisms which have distinct behaviors in training and evaluation phases (we will talk about it later). Add it to your above code as a good practice."
      ]
    },
    {
      "cell_type": "markdown",
      "metadata": {
        "id": "TOnMcNS4EarY"
      },
      "source": [
        "Create a pytorch dataset & dataloader to load your data\n",
        "*(this may seem silly since our data is very small, but imagine each piece of data could be an image instead of a pair $(x,y)$: then it would make sence to use such a machinery)*"
      ]
    },
    {
      "cell_type": "code",
      "execution_count": null,
      "metadata": {
        "colab": {
          "base_uri": "https://localhost:8080/"
        },
        "id": "HIeuFK81utlm",
        "outputId": "dc79a0ff-55b0-4a30-9ede-695dc6ec2e08"
      },
      "outputs": [
        {
          "data": {
            "text/plain": [
              "(tensor([0.3745]), tensor([1.7578]))"
            ]
          },
          "execution_count": 42,
          "metadata": {},
          "output_type": "execute_result"
        }
      ],
      "source": [
        "from torch.utils.data import Dataset, TensorDataset\n",
        "\n",
        "class CustomDataset(Dataset):\n",
        "    def __init__(self, x_tensor, y_tensor):\n",
        "        self.x = x_tensor\n",
        "        self.y = y_tensor\n",
        "        \n",
        "    def __getitem__(self, index):\n",
        "        return (self.x[index], self.y[index])\n",
        "\n",
        "    def __len__(self):\n",
        "        return len(self.x)\n",
        "\n",
        "xs_tensor = torch.from_numpy(xs).float()\n",
        "ys_tensor = torch.from_numpy(ys).float()\n",
        "\n",
        "train_data = CustomDataset(xs_tensor, ys_tensor)\n",
        "train_data[0]"
      ]
    },
    {
      "cell_type": "code",
      "execution_count": null,
      "metadata": {
        "colab": {
          "base_uri": "https://localhost:8080/"
        },
        "id": "e7z4XrCavCAo",
        "outputId": "730d3c0c-f68f-4ab4-f8e4-daf40d586339"
      },
      "outputs": [
        {
          "data": {
            "text/plain": [
              "[tensor([[0.7710],\n",
              "         [0.5227],\n",
              "         [0.2713],\n",
              "         [0.1560]]), tensor([[2.4530],\n",
              "         [2.0378],\n",
              "         [1.5105],\n",
              "         [1.2901]])]"
            ]
          },
          "execution_count": 43,
          "metadata": {},
          "output_type": "execute_result"
        }
      ],
      "source": [
        "from torch.utils.data import DataLoader\n",
        "\n",
        "train_loader = DataLoader(dataset=train_data, batch_size=4, shuffle=True)\n",
        "next(iter(train_loader))  # 4x and 4y"
      ]
    },
    {
      "cell_type": "markdown",
      "metadata": {
        "id": "_k4M7E5NGpJt"
      },
      "source": [
        "rewrite the training using data from dataloader, do not forget to transfer data from dataloader to device"
      ]
    },
    {
      "cell_type": "code",
      "execution_count": null,
      "metadata": {
        "colab": {
          "base_uri": "https://localhost:8080/"
        },
        "id": "wlwA716cvDrS",
        "outputId": "922f91e7-8278-448e-ce90-e4afe5784296"
      },
      "outputs": [
        {
          "name": "stdout",
          "output_type": "stream",
          "text": [
            "a: 1.0215120315551758 b: 1.9540181159973145\n",
            "{'a': tensor([1.0265], device='cuda:0'), 'b': tensor([1.9669], device='cuda:0')}\n"
          ]
        }
      ],
      "source": [
        "lr = 1e-1\n",
        "n_epochs = 1000\n",
        "\n",
        "xs_tensor = torch.from_numpy(xs).float()\n",
        "ys_tensor = torch.from_numpy(ys).float()\n",
        "train_data = CustomDataset(xs_tensor, ys_tensor)\n",
        "train_loader = DataLoader(dataset=train_data, batch_size=16, shuffle=True)\n",
        "\n",
        "torch.manual_seed(42)\n",
        "model = ManualLinearRegression().to(device)\n",
        "loss_fn = nn.MSELoss(reduction='mean')\n",
        "optimizer = optim.SGD(model.parameters(), lr=lr)\n",
        "\n",
        "for epoch in range(n_epochs):\n",
        "    for x_batch, y_batch in train_loader:\n",
        "        x_batch = x_batch.to(device)\n",
        "        y_batch = y_batch.to(device)\n",
        "        model.train()\n",
        "        y_batch_hat = model(x_batch)\n",
        "        loss = loss_fn(y_batch, y_batch_hat)\n",
        "        loss.backward()\n",
        "        optimizer.step()\n",
        "        optimizer.zero_grad()\n",
        "\n",
        "print('a:',float(a), 'b:',float(b))\n",
        "print(dict(model.state_dict()))"
      ]
    },
    {
      "cell_type": "markdown",
      "metadata": {
        "id": "aLB25r1zH4rC"
      },
      "source": [
        "before training, split your dataset between a training and a testing set (80% training, 20% testing); print validation loss every $1/10$ of the epochs"
      ]
    },
    {
      "cell_type": "code",
      "execution_count": null,
      "metadata": {
        "colab": {
          "base_uri": "https://localhost:8080/"
        },
        "id": "U8KbXoOQ4_UD",
        "outputId": "ba0ae379-7276-469b-ab89-8657d59733d6"
      },
      "outputs": [
        {
          "name": "stdout",
          "output_type": "stream",
          "text": [
            "epoch: 0/1000; loss: 0.16637684404850006\n",
            "epoch: 100/1000; loss: 0.008180448785424232\n",
            "epoch: 200/1000; loss: 0.008197604678571224\n",
            "epoch: 300/1000; loss: 0.008197604678571224\n",
            "epoch: 400/1000; loss: 0.008197604678571224\n",
            "epoch: 500/1000; loss: 0.008197604678571224\n",
            "epoch: 600/1000; loss: 0.008197604678571224\n",
            "epoch: 700/1000; loss: 0.008197604678571224\n",
            "epoch: 800/1000; loss: 0.008197604678571224\n",
            "epoch: 900/1000; loss: 0.008197604678571224\n",
            "\n",
            "a: 1.0215120315551758 b: 1.9540181159973145\n",
            "{'a': tensor([1.0196], device='cuda:0'), 'b': tensor([1.9666], device='cuda:0')}\n"
          ]
        }
      ],
      "source": [
        "from torch.utils.data.dataset import random_split\n",
        "\n",
        "lr = 1e-1\n",
        "n_epochs = 1000\n",
        "\n",
        "xs_tensor = torch.from_numpy(xs).float()\n",
        "ys_tensor = torch.from_numpy(ys).float()\n",
        "dataset = CustomDataset(xs_tensor, ys_tensor)\n",
        "train_dataset, val_dataset = random_split(dataset, [80, 20])\n",
        "train_loader = DataLoader(dataset=train_dataset, batch_size=16)\n",
        "val_loader = DataLoader(dataset=val_dataset, batch_size=10)\n",
        "\n",
        "torch.manual_seed(42)\n",
        "model = ManualLinearRegression().to(device)\n",
        "loss_fn = nn.MSELoss(reduction='mean')\n",
        "optimizer = optim.SGD(model.parameters(), lr=lr)\n",
        "\n",
        "for epoch in range(n_epochs):\n",
        "    for x_batch, y_batch in train_loader:\n",
        "        x_batch = x_batch.to(device)\n",
        "        y_batch = y_batch.to(device)\n",
        "        model.train()\n",
        "        y_batch_hat = model(x_batch)\n",
        "        loss = loss_fn(y_batch, y_batch_hat)\n",
        "        loss.backward()\n",
        "        optimizer.step()\n",
        "        optimizer.zero_grad()\n",
        "    \n",
        "    if epoch % (n_epochs//10) == 0:\n",
        "        with torch.no_grad():\n",
        "            for x_val, y_val in val_loader:\n",
        "                x_val = x_val.to(device)\n",
        "                y_val = y_val.to(device)\n",
        "                model.eval()  # getting out of the training mode,\n",
        "                # opposite of model.train()\n",
        "                yhat = model(x_val)\n",
        "                val_loss = loss_fn(y_val, yhat)\n",
        "            print(f'epoch: {epoch}/{n_epochs}; loss: {val_loss}')\n",
        "\n",
        "print('\\na:',float(a), 'b:',float(b))\n",
        "print(dict(model.state_dict()))"
      ]
    }
  ],
  "metadata": {
    "accelerator": "GPU",
    "colab": {
      "provenance": []
    },
    "gpuClass": "standard",
    "kernelspec": {
      "display_name": "Python 3",
      "language": "python",
      "name": "python3"
    },
    "language_info": {
      "name": "python",
      "version": "3.10.8 (tags/v3.10.8:aaaf517, Oct 11 2022, 16:50:30) [MSC v.1933 64 bit (AMD64)]"
    },
    "vscode": {
      "interpreter": {
        "hash": "689ffbb94fe8f58a5045b4f3f0726e738a118a8a590ae859861904a2cad8ac3d"
      }
    }
  },
  "nbformat": 4,
  "nbformat_minor": 0
}
