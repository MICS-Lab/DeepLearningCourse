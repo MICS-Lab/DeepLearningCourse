{
 "cells": [
  {
   "attachments": {},
   "cell_type": "markdown",
   "metadata": {},
   "source": [
    "# TD 7"
   ]
  },
  {
   "attachments": {},
   "cell_type": "markdown",
   "metadata": {},
   "source": [
    "## Identify the problem"
   ]
  },
  {
   "attachments": {},
   "cell_type": "markdown",
   "metadata": {},
   "source": [
    "Let's try to redo the RNN to guess what nationalities names come from, with the full original dataset \"names\" instead of \"names_1000\"."
   ]
  },
  {
   "cell_type": "code",
   "execution_count": 27,
   "metadata": {},
   "outputs": [],
   "source": [
    "from __future__ import annotations\n",
    "\n",
    "import glob\n",
    "import matplotlib.pyplot as plt\n",
    "import matplotlib.ticker as ticker\n",
    "import os\n",
    "import torch\n",
    "import torch.nn as nn\n",
    "import torch.optim as optim\n",
    "\n",
    "from torch.utils.data import Dataset, DataLoader\n",
    "from torch.utils.data.dataset import random_split\n",
    "from unidecode import unidecode"
   ]
  },
  {
   "attachments": {},
   "cell_type": "markdown",
   "metadata": {},
   "source": [
    "#### Create alphabet"
   ]
  },
  {
   "cell_type": "code",
   "execution_count": 28,
   "metadata": {},
   "outputs": [],
   "source": [
    "# Our alphabet\n",
    "LETTERS = 'abcdefghijklmnopqrstuvwxyzABCDEFGHIJKLMNOPQRSTUVWXYZ .,;'\n",
    "N_LETTERS = len(LETTERS)\n",
    "\n",
    "# Turn a Unicode string to string of characters in our alphabet\n",
    "def unicodeToAscii(s):\n",
    "    return ''.join(c for c in unidecode(s) if c in LETTERS)\n",
    "\n",
    "# Turn a name into a <name_length x 1 x N_LETTERS>, or a tensor of one-hot letter vectors\n",
    "def nameToTensor(name):\n",
    "    tensor = torch.zeros(len(name), 1, N_LETTERS)\n",
    "    for li, letter in enumerate(name):\n",
    "        tensor[li][0][LETTERS.find(letter)] = 1\n",
    "    return tensor"
   ]
  },
  {
   "attachments": {},
   "cell_type": "markdown",
   "metadata": {},
   "source": [
    "Let's make sure it works correctly"
   ]
  },
  {
   "cell_type": "code",
   "execution_count": 29,
   "metadata": {},
   "outputs": [],
   "source": [
    "assert (unicodeToAscii('Ślusàrski') == 'Slusarski')"
   ]
  },
  {
   "attachments": {},
   "cell_type": "markdown",
   "metadata": {},
   "source": [
    "Let's see an example of encoding"
   ]
  },
  {
   "cell_type": "code",
   "execution_count": 30,
   "metadata": {},
   "outputs": [
    {
     "data": {
      "text/plain": [
       "tensor([[[1., 0., 0., 0., 0., 0., 0., 0., 0., 0., 0., 0., 0., 0., 0., 0., 0.,\n",
       "          0., 0., 0., 0., 0., 0., 0., 0., 0., 0., 0., 0., 0., 0., 0., 0., 0.,\n",
       "          0., 0., 0., 0., 0., 0., 0., 0., 0., 0., 0., 0., 0., 0., 0., 0., 0.,\n",
       "          0., 0., 0., 0., 0.]],\n",
       "\n",
       "        [[0., 1., 0., 0., 0., 0., 0., 0., 0., 0., 0., 0., 0., 0., 0., 0., 0.,\n",
       "          0., 0., 0., 0., 0., 0., 0., 0., 0., 0., 0., 0., 0., 0., 0., 0., 0.,\n",
       "          0., 0., 0., 0., 0., 0., 0., 0., 0., 0., 0., 0., 0., 0., 0., 0., 0.,\n",
       "          0., 0., 0., 0., 0.]],\n",
       "\n",
       "        [[0., 0., 1., 0., 0., 0., 0., 0., 0., 0., 0., 0., 0., 0., 0., 0., 0.,\n",
       "          0., 0., 0., 0., 0., 0., 0., 0., 0., 0., 0., 0., 0., 0., 0., 0., 0.,\n",
       "          0., 0., 0., 0., 0., 0., 0., 0., 0., 0., 0., 0., 0., 0., 0., 0., 0.,\n",
       "          0., 0., 0., 0., 0.]],\n",
       "\n",
       "        [[0., 0., 0., 0., 0., 0., 0., 0., 0., 0., 0., 0., 0., 0., 0., 0., 0.,\n",
       "          0., 0., 0., 0., 0., 0., 0., 0., 0., 0., 0., 0., 0., 0., 0., 0., 0.,\n",
       "          0., 0., 0., 0., 0., 0., 0., 0., 0., 0., 0., 0., 0., 0., 0., 0., 0.,\n",
       "          1., 0., 0., 0., 0.]],\n",
       "\n",
       "        [[0., 0., 0., 0., 0., 0., 0., 0., 0., 0., 0., 0., 0., 0., 0., 0., 0.,\n",
       "          0., 0., 0., 0., 0., 0., 0., 0., 0., 0., 0., 0., 0., 0., 0., 0., 0.,\n",
       "          0., 0., 0., 0., 0., 0., 0., 0., 0., 0., 0., 0., 0., 0., 0., 0., 0.,\n",
       "          1., 0., 0., 0., 0.]],\n",
       "\n",
       "        [[0., 0., 0., 0., 0., 0., 0., 0., 0., 0., 0., 0., 0., 0., 0., 0., 0.,\n",
       "          0., 0., 0., 0., 0., 0., 0., 0., 0., 0., 0., 0., 0., 0., 0., 0., 0.,\n",
       "          0., 0., 0., 0., 0., 0., 0., 0., 0., 0., 0., 0., 0., 0., 0., 0., 0.,\n",
       "          1., 0., 0., 0., 0.]]])"
      ]
     },
     "execution_count": 30,
     "metadata": {},
     "output_type": "execute_result"
    }
   ],
   "source": [
    "nameToTensor('abcZZZ')"
   ]
  },
  {
   "attachments": {},
   "cell_type": "markdown",
   "metadata": {},
   "source": [
    "#### Create Dataset"
   ]
  },
  {
   "attachments": {},
   "cell_type": "markdown",
   "metadata": {},
   "source": [
    "Let's find out what some python functions do"
   ]
  },
  {
   "cell_type": "code",
   "execution_count": 31,
   "metadata": {},
   "outputs": [
    {
     "name": "stdout",
     "output_type": "stream",
     "text": [
      "['data/names\\\\Arabic.txt', 'data/names\\\\Chinese.txt', 'data/names\\\\Czech.txt', 'data/names\\\\Dutch.txt', 'data/names\\\\English.txt', 'data/names\\\\French.txt', 'data/names\\\\German.txt', 'data/names\\\\Greek.txt', 'data/names\\\\Irish.txt', 'data/names\\\\Italian.txt', 'data/names\\\\Japanese.txt', 'data/names\\\\Korean.txt', 'data/names\\\\Polish.txt', 'data/names\\\\Portuguese.txt', 'data/names\\\\Russian.txt', 'data/names\\\\Scottish.txt', 'data/names\\\\Spanish.txt', 'data/names\\\\Vietnamese.txt']\n"
     ]
    }
   ],
   "source": [
    "print(glob.glob(\"data/names/*.txt\"))"
   ]
  },
  {
   "cell_type": "code",
   "execution_count": 32,
   "metadata": {},
   "outputs": [
    {
     "data": {
      "text/plain": [
       "'Arabic.txt'"
      ]
     },
     "execution_count": 32,
     "metadata": {},
     "output_type": "execute_result"
    }
   ],
   "source": [
    "os.path.basename(\"data/names\\\\Arabic.txt\")"
   ]
  },
  {
   "attachments": {},
   "cell_type": "markdown",
   "metadata": {},
   "source": [
    "Let's create a CustomDataset"
   ]
  },
  {
   "cell_type": "code",
   "execution_count": 33,
   "metadata": {},
   "outputs": [],
   "source": [
    "# Create a custom dataset\n",
    "class NamesDataset(Dataset):\n",
    "    def __init__(self, filenames: str):\n",
    "        # read data\n",
    "        self.names = []  # X\n",
    "        self.countries = []  # y (strings)\n",
    "        self.country_to_idx = {}  # key: country, value: index\n",
    "        self.idx_to_country = []  # index: index, value: country\n",
    "        for file in glob.glob(\"data/names/*.txt\"):\n",
    "            country = os.path.basename(file).split(\".txt\")[0]\n",
    "            lines = open(file, encoding='utf-8').read().strip().split(\"\\n\")\n",
    "            for line in lines:\n",
    "                self.names.append(unicodeToAscii(line))\n",
    "                self.countries.append(country)\n",
    "            self.country_to_idx[country] = len(self.country_to_idx)\n",
    "            self.idx_to_country.append(country)\n",
    "        self.n_countries = len(self.country_to_idx)\n",
    "\n",
    "    def countryID(self, index):\n",
    "        return torch.tensor(self.country_to_idx[self.countries[index]])\n",
    "\n",
    "    def __getitem__(self, index): # str, str, tensor, tensor\n",
    "        return (self.names[index], self.countries[index], nameToTensor(self.names[index]), self.countryID(index))\n",
    "    \n",
    "    def __len__(self):\n",
    "        return len(self.names)\n",
    "\n",
    "# Create object of our custom dataset\n",
    "dataset = NamesDataset('data/names/*.txt')\n",
    "\n",
    "# Split data into train and test with random_split\n",
    "TRAIN_FRACTION = 0.8\n",
    "TRAIN_SIZE = int(TRAIN_FRACTION*len(dataset))\n",
    "TESET_SIZE = len(dataset)-int(TRAIN_FRACTION*len(dataset))\n",
    "train_dataset, test_dataset = random_split(dataset, [TRAIN_SIZE, TESET_SIZE])\n",
    "\n",
    "# Store number of countries in a variable\n",
    "N_COUNTRIES = dataset.n_countries\n",
    "\n",
    "# Create a dataloader\n",
    "train_loader = DataLoader(train_dataset, batch_size=1, shuffle=True)\n",
    "test_loader = DataLoader(test_dataset, batch_size=1, shuffle=True)"
   ]
  },
  {
   "cell_type": "code",
   "execution_count": 34,
   "metadata": {},
   "outputs": [
    {
     "data": {
      "text/plain": [
       "(16059, 4015)"
      ]
     },
     "execution_count": 34,
     "metadata": {},
     "output_type": "execute_result"
    }
   ],
   "source": [
    "len(train_loader), len(test_loader)"
   ]
  },
  {
   "cell_type": "code",
   "execution_count": 137,
   "metadata": {},
   "outputs": [
    {
     "data": {
      "text/plain": [
       "('Porfirov', 'Russian')"
      ]
     },
     "execution_count": 137,
     "metadata": {},
     "output_type": "execute_result"
    }
   ],
   "source": [
    "# Get a random name and its nationality from the dataset\n",
    "\n",
    "random_idx = torch.randint(len(dataset), size=(1,)).item()\n",
    "random_name = dataset.names[random_idx]\n",
    "random_country = dataset.countries[random_idx]\n",
    "\n",
    "random_name, random_country"
   ]
  },
  {
   "attachments": {},
   "cell_type": "markdown",
   "metadata": {},
   "source": [
    "#### Create the network & train it"
   ]
  },
  {
   "cell_type": "code",
   "execution_count": 35,
   "metadata": {},
   "outputs": [],
   "source": [
    "N_HIDDEN = 128"
   ]
  },
  {
   "cell_type": "code",
   "execution_count": 140,
   "metadata": {},
   "outputs": [],
   "source": [
    "# Create the network\n",
    "class RNN(nn.Module):\n",
    "    def __init__(self, input_size, hidden_size, output_size, idx_to_country):\n",
    "        super(RNN, self).__init__()\n",
    "        self.hidden_size = hidden_size\n",
    "        self.i2h = nn.Linear(input_size + hidden_size, hidden_size)\n",
    "        self.i2o = nn.Linear(input_size + hidden_size, output_size)\n",
    "        self.softmax = nn.LogSoftmax(dim=1)\n",
    "        self.idx_to_country = idx_to_country\n",
    "\n",
    "    def forward(self, input, hidden):\n",
    "        combined = torch.cat((input, hidden), 1)\n",
    "        hidden = self.i2h(combined) \n",
    "        output = self.i2o(combined)\n",
    "        output = self.softmax(output)\n",
    "        return hidden, output\n",
    "\n",
    "    def initHidden(self):\n",
    "        return torch.zeros(1, self.hidden_size)\n",
    "    \n",
    "    def outputToCountry(self, output):\n",
    "        _, top_i = output.topk(1)\n",
    "        return self.idx_to_country[top_i[0,0].item()]\n",
    "\n",
    "    def outputToID(self, output):\n",
    "        _, top_i = output.topk(1)\n",
    "        return top_i[0,0].item()\n",
    "\n",
    "rnn = RNN(N_LETTERS, N_HIDDEN, N_COUNTRIES, dataset.idx_to_country)"
   ]
  },
  {
   "cell_type": "code",
   "execution_count": 141,
   "metadata": {},
   "outputs": [
    {
     "name": "stdout",
     "output_type": "stream",
     "text": [
      "Epoch: 1/10 (10%)\tLoss: 1.99e+04\n",
      "Epoch: 2/10 (20%)\tLoss: 1.50e+04\n",
      "Epoch: 3/10 (30%)\tLoss: 1.38e+04\n",
      "Epoch: 4/10 (40%)\tLoss: 1.32e+04\n",
      "Epoch: 5/10 (50%)\tLoss: 1.29e+04\n",
      "Epoch: 6/10 (60%)\tLoss: 1.27e+04\n",
      "Epoch: 7/10 (70%)\tLoss: 1.25e+04\n",
      "Epoch: 8/10 (80%)\tLoss: 1.23e+04\n",
      "Epoch: 9/10 (90%)\tLoss: 1.22e+04\n",
      "Epoch: 10/10 (100%)\tLoss: 1.21e+04\n"
     ]
    }
   ],
   "source": [
    "# Train the network\n",
    "lr = 0.001\n",
    "optimizer = optim.Adam(rnn.parameters(), lr=lr)\n",
    "criterion = nn.NLLLoss()\n",
    "n_epochs = 10\n",
    "for epoch in range(n_epochs):\n",
    "    loss_sum = 0\n",
    "    for (name, country, name_tensor, country_tensor) in train_loader:\n",
    "        rnn.zero_grad()\n",
    "        hidden = rnn.initHidden()\n",
    "        for i in range(name_tensor.size()[1]):\n",
    "            hidden, output = rnn(name_tensor[0, i], hidden)\n",
    "        loss = criterion(output, country_tensor)\n",
    "        loss_sum += loss.item()\n",
    "        loss.backward()\n",
    "        optimizer.step()\n",
    "    print(f'Epoch: {epoch+1}/{n_epochs} ({100*(epoch+1)/n_epochs:.0f}%)\\tLoss: {loss_sum:.2e}')"
   ]
  },
  {
   "attachments": {},
   "cell_type": "markdown",
   "metadata": {},
   "source": [
    "#### Test the network"
   ]
  },
  {
   "attachments": {},
   "cell_type": "markdown",
   "metadata": {},
   "source": [
    "To see how well the network performs on different categories, we will create a confusion matrix, indicating for every actual language (rows) which language the network guesses (columns). "
   ]
  },
  {
   "cell_type": "code",
   "execution_count": 142,
   "metadata": {},
   "outputs": [
    {
     "name": "stdout",
     "output_type": "stream",
     "text": [
      "\n",
      "Accuracy: 75.24%\n"
     ]
    },
    {
     "data": {
      "image/png": "[encoded data removed]",
      "text/plain": [
       "<Figure size 640x480 with 2 Axes>"
      ]
     },
     "metadata": {},
     "output_type": "display_data"
    }
   ],
   "source": [
    "# Confusion matrix\n",
    "confusion = torch.zeros(N_COUNTRIES, N_COUNTRIES)\n",
    "accuracy = 0\n",
    "for name, country, name_tensor, country_tensor in test_loader:\n",
    "    hidden = rnn.initHidden()\n",
    "    rnn.zero_grad()\n",
    "    for i in range(name_tensor.size()[1]):\n",
    "        hidden, output = rnn(name_tensor[0][i], hidden)\n",
    "    guess, guess_i = output.topk(1)\n",
    "    confusion[country_tensor.item(), guess_i.item()] += 1\n",
    "    if country_tensor.item() == guess_i.item():\n",
    "        accuracy += 1\n",
    "\n",
    "# Normalize by dividing every row by its sum\n",
    "for i in range(N_COUNTRIES):\n",
    "    confusion[i] = confusion[i] / confusion[i].sum()\n",
    "\n",
    "# Accuracy\n",
    "print(f'\\nAccuracy: {100*accuracy/len(test_dataset):.2f}%')\n",
    "\n",
    "# Plot confusion matrix\n",
    "plt.imshow(confusion.numpy())\n",
    "plt.colorbar()\n",
    "plt.title('Confusion matrix')\n",
    "ax = plt.gca()\n",
    "positions = list(range(N_COUNTRIES))\n",
    "labels = train_dataset.dataset.idx_to_country\n",
    "small_labels = [label[:2] for label in labels]\n",
    "ax.xaxis.set_major_locator(ticker.FixedLocator(positions))\n",
    "ax.xaxis.set_major_formatter(ticker.FixedFormatter(small_labels))\n",
    "ax.yaxis.set_major_locator(ticker.FixedLocator(positions))\n",
    "ax.yaxis.set_major_formatter(ticker.FixedFormatter(labels))\n",
    "plt.show()"
   ]
  },
  {
   "attachments": {},
   "cell_type": "markdown",
   "metadata": {},
   "source": [
    "The accuracy increased! (~74% vs ~60% last time **and we used an independent test set whereas last time we calculated the accuracy on the training set, so it's even more unexpected**)"
   ]
  },
  {
   "attachments": {},
   "cell_type": "markdown",
   "metadata": {},
   "source": [
    "Let's try on a couple of examples:"
   ]
  },
  {
   "cell_type": "code",
   "execution_count": 143,
   "metadata": {},
   "outputs": [
    {
     "name": "stdout",
     "output_type": "stream",
     "text": [
      "NAME; TRUTH; PREDICTED\n",
      "Rademaker; Dutch; English\n",
      "Zinoviev; Russian; English\n",
      "Rush; English; English\n",
      "Bibitinsky; Russian; English\n",
      "Zhimerin; Russian; English\n",
      "Lihobaba; Russian; English\n",
      "Lippi; Italian; English\n",
      "Absalyamoff; Russian; English\n",
      "Bazzi; Arabic; English\n",
      "Avash; Russian; English\n"
     ]
    }
   ],
   "source": [
    "# Test on a couple of examples\n",
    "print(f'NAME; TRUTH; PREDICTED')\n",
    "for i in range(10):\n",
    "    name, country, name_tensor, country_tensor = test_dataset[i]\n",
    "    hidden = rnn.initHidden()\n",
    "    rnn.zero_grad()\n",
    "    for i in range(name_tensor.size()[1]):\n",
    "        hidden, output = rnn(name_tensor[i], hidden)\n",
    "    print(f'{name}; {country}; {rnn.outputToCountry(output)}')"
   ]
  },
  {
   "attachments": {},
   "cell_type": "markdown",
   "metadata": {},
   "source": [
    "Let's try a couple of examples of our own:"
   ]
  },
  {
   "cell_type": "code",
   "execution_count": 144,
   "metadata": {},
   "outputs": [
    {
     "name": "stdout",
     "output_type": "stream",
     "text": [
      "Dubois; English\n",
      "Lhotte; English\n",
      "Dupont; English\n",
      "Garcia; English\n",
      "Sato; English\n",
      "Duprès; English\n",
      "Suzuki; English\n",
      "Wang; English\n",
      "Santos; English\n",
      "Yamamoto; English\n"
     ]
    }
   ],
   "source": [
    "names = [\"Dubois\", \"Lhotte\", \"Dupont\", \"Garcia\", \"Sato\", \"Duprès\", \"Suzuki\", \"Wang\", \"Santos\", \"Yamamoto\"]\n",
    "for name in names:\n",
    "    name_tensor = nameToTensor(name)\n",
    "    hidden = rnn.initHidden()\n",
    "    rnn.zero_grad()\n",
    "    for i in range(name_tensor.size()[1]):\n",
    "        hidden, output = rnn(name_tensor[i], hidden)\n",
    "    print(f'{name}; {rnn.outputToCountry(output)}')"
   ]
  },
  {
   "attachments": {},
   "cell_type": "markdown",
   "metadata": {},
   "source": [
    "It's almost always English/Russian that is predicted*! Why is that?\n",
    "\n",
    "\\* might differ based on the random initialization of the weights, the network is actually overfitting, cf. below."
   ]
  },
  {
   "attachments": {},
   "cell_type": "markdown",
   "metadata": {},
   "source": [
    "This is typical of a class unbalance, let's investigate the size of each class:"
   ]
  },
  {
   "cell_type": "code",
   "execution_count": 145,
   "metadata": {},
   "outputs": [
    {
     "name": "stdout",
     "output_type": "stream",
     "text": [
      "Country; Count; Percentage\n",
      "Arabic; 2000; 9.96%\n",
      "Chinese; 268; 1.34%\n",
      "Czech; 519; 2.59%\n",
      "Dutch; 297; 1.48%\n",
      "English; 3668; 18.27%\n",
      "French; 277; 1.38%\n",
      "German; 724; 3.61%\n",
      "Greek; 203; 1.01%\n",
      "Irish; 232; 1.16%\n",
      "Italian; 709; 3.53%\n",
      "Japanese; 991; 4.94%\n",
      "Korean; 94; 0.47%\n",
      "Polish; 139; 0.69%\n",
      "Portuguese; 74; 0.37%\n",
      "Russian; 9408; 46.87%\n",
      "Scottish; 100; 0.50%\n",
      "Spanish; 298; 1.48%\n",
      "Vietnamese; 73; 0.36%\n"
     ]
    }
   ],
   "source": [
    "# cout each country in the dataset with a defaultdict\n",
    "from collections import defaultdict\n",
    "\n",
    "countr_count = defaultdict(int)\n",
    "total = 0\n",
    "for country in dataset.countries:\n",
    "    countr_count[country] += 1\n",
    "    total += 1\n",
    "print(f'Country; Count; Percentage')\n",
    "for country, count in countr_count.items():\n",
    "    print(f'{country}; {count}; {100*count/total:.2f}%')"
   ]
  },
  {
   "attachments": {},
   "cell_type": "markdown",
   "metadata": {},
   "source": [
    "Let's calculate the per-class accuracy because accuracy is not a good metric here:"
   ]
  },
  {
   "cell_type": "code",
   "execution_count": 147,
   "metadata": {},
   "outputs": [
    {
     "name": "stdout",
     "output_type": "stream",
     "text": [
      "\n",
      "\n",
      "Average per class accuracy: 38.49%\n"
     ]
    }
   ],
   "source": [
    "per_class_accuracy_list: list[float] = []\n",
    "for i in range(N_COUNTRIES):\n",
    "    fraction_correct = confusion[i, i].item()\n",
    "    per_class_accuracy_list.append(100*fraction_correct)\n",
    "print(\"\\n\")\n",
    "print(f'Average per class accuracy: {sum(per_class_accuracy_list)/len(per_class_accuracy_list):.2f}%')"
   ]
  },
  {
   "attachments": {},
   "cell_type": "markdown",
   "metadata": {},
   "source": [
    "Our confusion matrix is a lot worse than in TD 6b but this is normal, in TD 6b we 1/ did not use _names\\_1000_ and 2/ plotted the confusion matrix on the training set, not on the testing set."
   ]
  },
  {
   "attachments": {},
   "cell_type": "markdown",
   "metadata": {},
   "source": [
    "---\n",
    "---\n",
    "---"
   ]
  },
  {
   "attachments": {},
   "cell_type": "markdown",
   "metadata": {},
   "source": [
    "## Fixing the unbalanced learning"
   ]
  },
  {
   "attachments": {},
   "cell_type": "markdown",
   "metadata": {},
   "source": [
    "As we did not want to bother you with unbalanced datasets yet as it was your first RNN, all 18 nationalities were represented with the same number of names in TD 6b. Now that we used `names.txt` instead of `names_1000.txt`, we have an unbalanced dataset. This is what real life looks like.\n",
    "\n",
    "We ignored this but because the dataset was smaller from some nationalities, you can see that in the last TD's `Vietnamese.txt`, some names appeared several times, which is almost a way of artificially balancing the dataset; except that it biased our accuracy results. Now, we have a realistic accuracy estimation, even if it's high because of the high numbers of Russian names, it's accurate (is it though? cf. below ...)."
   ]
  },
  {
   "attachments": {},
   "cell_type": "markdown",
   "metadata": {},
   "source": [
    "### 1st fixing idea: modify the dataset"
   ]
  },
  {
   "attachments": {},
   "cell_type": "markdown",
   "metadata": {},
   "source": [
    "Instead of loading names one by one, choose a country at random, then choose a name at random from this category.\n",
    "Do this using an iterable dataset (checkout the doc here: https://pytorch.org/docs/stable/data.html#torch.utils.data.IterableDataset)."
   ]
  },
  {
   "cell_type": "code",
   "execution_count": 149,
   "metadata": {},
   "outputs": [
    {
     "data": {
      "text/plain": [
       "('Lucassen', 'Dutch', torch.Size([8, 1, 56]), tensor(3))"
      ]
     },
     "execution_count": 149,
     "metadata": {},
     "output_type": "execute_result"
    }
   ],
   "source": [
    "import random\n",
    "from torch.utils.data import IterableDataset\n",
    "\n",
    "# Create a custom dataset\n",
    "class NamesIterableDataset(IterableDataset):\n",
    "    def __init__(self, filenames='names/*.txt'):\n",
    "        # Read data\n",
    "        self.names = dict()  # country -> list of names\n",
    "        self.country_to_idx = {}\n",
    "        self.idx_to_country = []\n",
    "\n",
    "        for filename in glob.glob(filenames):\n",
    "            country = os.path.splitext(os.path.basename(filename))[0]\n",
    "            self.country_to_idx[country] = len(self.country_to_idx)\n",
    "            self.idx_to_country.append(country)\n",
    "            lines = open(filename, encoding='utf-8').read().strip().split('\\n')\n",
    "            self.names[country] = []\n",
    "            for line in lines:\n",
    "                self.names[country].append(unicodeToAscii(line))\n",
    "        self.n_countries = len(self.country_to_idx)\n",
    "\n",
    "    def countryID(self, country):\n",
    "        return torch.tensor(self.country_to_idx[country])\n",
    "    \n",
    "    def __iter__(self):\n",
    "        for _ in range(len(self)):\n",
    "            yield self.__next__()\n",
    "\n",
    "    def __next__(self):\n",
    "        # Choose random country\n",
    "        random_country = random.choice(self.idx_to_country)\n",
    "        # Choose random name within that country\n",
    "        name = random.choice(self.names[random_country])\n",
    "        # Convert everything to tensors\n",
    "        name_tensor = nameToTensor(name)\n",
    "        countryID = self.countryID(random_country)\n",
    "        return (name, random_country, name_tensor, countryID)  # str, str, tensor, tensor\n",
    "    \n",
    "    def __len__(self):\n",
    "        return 16059  # Arbitrary, size of one epoch\n",
    "    \n",
    "    def __getitem__(self, idx):\n",
    "        \"\"\"\n",
    "        idx is ignored (why? because of the way we want it to work!), but required by the implementation of __getitem__\n",
    "        \"\"\"\n",
    "        return self.__next__()\n",
    "\n",
    "# Create dataset object\n",
    "dataset = NamesIterableDataset('data/names/*.txt')\n",
    "\n",
    "# Get a sample\n",
    "name, country, name_tensor, country_tensor = next(dataset)\n",
    "name, country, name_tensor.shape, country_tensor"
   ]
  },
  {
   "attachments": {},
   "cell_type": "markdown",
   "metadata": {},
   "source": [
    "Q: Interpret `name_tensor.shape`?\n",
    "\n",
    "A: `[n_letters_in_name, 1, n_letters_available]`"
   ]
  },
  {
   "cell_type": "code",
   "execution_count": 150,
   "metadata": {},
   "outputs": [
    {
     "name": "stdout",
     "output_type": "stream",
     "text": [
      "('Niall',) ('Irish',) torch.Size([1, 5, 1, 56]) tensor([8])\n",
      "('Marshall',) ('Scottish',) torch.Size([1, 8, 1, 56]) tensor([15])\n"
     ]
    }
   ],
   "source": [
    "# Split data into train and test with random_split\n",
    "TRAIN_FRACTION = 0.8\n",
    "TRAIN_SIZE = int(TRAIN_FRACTION*len(dataset))\n",
    "TESET_SIZE = len(dataset)-int(TRAIN_FRACTION*len(dataset))\n",
    "train_dataset, test_dataset = random_split(dataset, [TRAIN_SIZE, TESET_SIZE])\n",
    "\n",
    "# Store number of countries in a variable\n",
    "N_COUNTRIES = dataset.n_countries\n",
    "\n",
    "# Create a dataloader\n",
    "train_loader = DataLoader(train_dataset, batch_size=1, shuffle=True)  # batch_size 1 as names have different lengths !!!\n",
    "test_loader = DataLoader(test_dataset, batch_size=1, shuffle=True)  # shuffle = True is not technically necessary\n",
    "\n",
    "# Get a sample from the dataloader\n",
    "name_train, country, name_tensor, country_tensor = next(iter(train_loader))\n",
    "print(name_train, country, name_tensor.shape, country_tensor)\n",
    "name_test, country, name_tensor, country_tensor = next(iter(test_loader))\n",
    "print(name_test, country, name_tensor.shape, country_tensor)"
   ]
  },
  {
   "cell_type": "code",
   "execution_count": 151,
   "metadata": {},
   "outputs": [
    {
     "ename": "AssertionError",
     "evalue": "",
     "output_type": "error",
     "traceback": [
      "\u001b[1;31m---------------------------------------------------------------------------\u001b[0m",
      "\u001b[1;31mAssertionError\u001b[0m                            Traceback (most recent call last)",
      "Cell \u001b[1;32mIn[151], line 4\u001b[0m\n\u001b[0;32m      2\u001b[0m name_train, country, name_tensor, country_tensor \u001b[39m=\u001b[39m \u001b[39mnext\u001b[39m(\u001b[39miter\u001b[39m(train_loader))\n\u001b[0;32m      3\u001b[0m name_test, country, name_tensor, country_tensor \u001b[39m=\u001b[39m \u001b[39mnext\u001b[39m(\u001b[39miter\u001b[39m(test_loader))\n\u001b[1;32m----> 4\u001b[0m \u001b[39massert\u001b[39;00m name_train \u001b[39m!=\u001b[39m name_test\n",
      "\u001b[1;31mAssertionError\u001b[0m: "
     ]
    }
   ],
   "source": [
    "for _ in range(100_000):\n",
    "    name_train, country, name_tensor, country_tensor = next(iter(train_loader))\n",
    "    name_test, country, name_tensor, country_tensor = next(iter(test_loader))\n",
    "    assert name_train != name_test"
   ]
  },
  {
   "attachments": {},
   "cell_type": "markdown",
   "metadata": {},
   "source": [
    "Q: It doesn't work ... what happened?\n",
    "A: getitem doesn't use idx anymore, so when splitting the dataset into train/test, we don't actually separate it ... "
   ]
  },
  {
   "cell_type": "code",
   "execution_count": 153,
   "metadata": {},
   "outputs": [
    {
     "data": {
      "text/plain": [
       "('Krupala', 'Czech', torch.Size([7, 1, 56]), tensor(2))"
      ]
     },
     "execution_count": 153,
     "metadata": {},
     "output_type": "execute_result"
    }
   ],
   "source": [
    "# Create a custom dataset\n",
    "class NamesIterableDataset(IterableDataset):\n",
    "    def __init__(self, filenames='names/*.txt', train: bool = True, train_fraction: float = 0.8):\n",
    "        # Read data\n",
    "        self.names = dict()  # country -> list of names\n",
    "        self.country_to_idx = {}\n",
    "        self.idx_to_country = []\n",
    "\n",
    "        for filename in glob.glob(filenames):\n",
    "            country = os.path.splitext(os.path.basename(filename))[0]\n",
    "            self.country_to_idx[country] = len(self.country_to_idx)\n",
    "            self.idx_to_country.append(country)\n",
    "            lines = open(filename, encoding='utf-8').read().strip().split('\\n')\n",
    "            self.names[country] = []\n",
    "            for line in lines:\n",
    "                self.names[country].append(unicodeToAscii(line))\n",
    "        \n",
    "        # Split the data into train and test datasets\n",
    "        if train:\n",
    "            for country in self.names.keys():\n",
    "                self.names[country] = self.names[country][:int(train_fraction*len(self.names[country]))]\n",
    "        else:\n",
    "            for country in self.names.keys():\n",
    "                self.names[country] = self.names[country][int(train_fraction*len(self.names[country])):]\n",
    "        \n",
    "        self.n_countries = len(self.country_to_idx)\n",
    "\n",
    "\n",
    "    def countryID(self, country):\n",
    "        return torch.tensor(self.country_to_idx[country])\n",
    "    \n",
    "    def __iter__(self):\n",
    "        for _ in range(len(self)):\n",
    "            yield self.__next__()\n",
    "\n",
    "    def __next__(self):\n",
    "        # Choose random country\n",
    "        country = random.choice(self.idx_to_country)\n",
    "        # Choose random name from this country\n",
    "        name = random.choice(self.names[country])\n",
    "        # Convert to tensors\n",
    "        name_tensor = nameToTensor(name)\n",
    "        countryID = self.countryID(country)\n",
    "        return (name, country, name_tensor, countryID)\n",
    "    \n",
    "    def __len__(self):\n",
    "        return 16059  # Arbitrary, size of one epoch\n",
    "    \n",
    "    def __getitem__(self, idx):\n",
    "        \"\"\"\n",
    "        idx is ignored (why? because of the way we want it to work!), but required by the implementation of __getitem__\n",
    "        \"\"\"\n",
    "        return self.__next__()\n",
    "\n",
    "# Create dataset object\n",
    "train_dataset = NamesIterableDataset('data/names/*.txt', train=True, train_fraction=0.8)\n",
    "test_dataset = NamesIterableDataset('data/names/*.txt', train=False, train_fraction=0.8)\n",
    "\n",
    "# Get a sample\n",
    "name, country, name_tensor, country_tensor = next(train_dataset)\n",
    "name, country, name_tensor.shape, country_tensor"
   ]
  },
  {
   "cell_type": "code",
   "execution_count": 154,
   "metadata": {},
   "outputs": [
    {
     "name": "stdout",
     "output_type": "stream",
     "text": [
      "('Lathey',) ('English',) torch.Size([1, 6, 1, 56]) tensor([4])\n",
      "('Zambrano',) ('Spanish',) torch.Size([1, 8, 1, 56]) tensor([16])\n"
     ]
    }
   ],
   "source": [
    "# Store number of countries in a variable\n",
    "N_COUNTRIES = dataset.n_countries\n",
    "\n",
    "# Create a dataloader\n",
    "train_loader = DataLoader(train_dataset, batch_size=1)  # shuffle is not a thing\n",
    "test_loader = DataLoader(test_dataset, batch_size=1)  # shuffle is not a thing\n",
    "\n",
    "# Get a sample from the dataloader\n",
    "name_train, country, name_tensor, country_tensor = next(iter(train_loader))\n",
    "print(name_train, country, name_tensor.shape, country_tensor)\n",
    "name_test, country, name_tensor, country_tensor = next(iter(test_loader))\n",
    "print(name_test, country, name_tensor.shape, country_tensor)"
   ]
  },
  {
   "cell_type": "code",
   "execution_count": 155,
   "metadata": {},
   "outputs": [
    {
     "ename": "AssertionError",
     "evalue": "",
     "output_type": "error",
     "traceback": [
      "\u001b[1;31m---------------------------------------------------------------------------\u001b[0m",
      "\u001b[1;31mAssertionError\u001b[0m                            Traceback (most recent call last)",
      "Cell \u001b[1;32mIn[155], line 4\u001b[0m\n\u001b[0;32m      2\u001b[0m name_train, country, name_tensor, country_tensor \u001b[39m=\u001b[39m \u001b[39mnext\u001b[39m(\u001b[39miter\u001b[39m(train_loader))\n\u001b[0;32m      3\u001b[0m name_test, country, name_tensor, country_tensor \u001b[39m=\u001b[39m \u001b[39mnext\u001b[39m(\u001b[39miter\u001b[39m(test_loader))\n\u001b[1;32m----> 4\u001b[0m \u001b[39massert\u001b[39;00m name_train \u001b[39m!=\u001b[39m name_test\n",
      "\u001b[1;31mAssertionError\u001b[0m: "
     ]
    }
   ],
   "source": [
    "for _ in range(100_000):\n",
    "    name_train, country, name_tensor, country_tensor = next(iter(train_loader))\n",
    "    name_test, country, name_tensor, country_tensor = next(iter(test_loader))\n",
    "    assert name_train != name_test"
   ]
  },
  {
   "attachments": {},
   "cell_type": "markdown",
   "metadata": {},
   "source": [
    "Whaaaat? It still doesn't work. Hint: Fakhoury."
   ]
  },
  {
   "attachments": {},
   "cell_type": "markdown",
   "metadata": {},
   "source": [
    "By the way, we see that when we said above we were unbiased and corrected what was done last time, we were not completely honest (and therefore the accuracies were not representative of what would happen on an independent dataset). Never believe everything you read!!! ... Although for this particular task, overfitting a bit is not that big of a deal as there is a finite set of names ..."
   ]
  },
  {
   "attachments": {},
   "cell_type": "markdown",
   "metadata": {},
   "source": [
    "When using my_list = list(set(my_list)), we are not guaranteed to keep the order of the elements (cf. classes on data structures from first year)."
   ]
  },
  {
   "cell_type": "code",
   "execution_count": 161,
   "metadata": {},
   "outputs": [
    {
     "name": "stdout",
     "output_type": "stream",
     "text": [
      "[1, 2, 3, 4, 5, 10]\n",
      "1\n",
      "2\n",
      "3\n",
      "4\n",
      "5\n",
      "10\n"
     ]
    }
   ],
   "source": [
    "L = [10, 1, 2, 3, 5, 4]\n",
    "print(list(set(L)))"
   ]
  },
  {
   "cell_type": "code",
   "execution_count": 162,
   "metadata": {},
   "outputs": [
    {
     "data": {
      "text/plain": [
       "('Habich', 'German', torch.Size([6, 1, 56]), tensor(6))"
      ]
     },
     "execution_count": 162,
     "metadata": {},
     "output_type": "execute_result"
    }
   ],
   "source": [
    "# Create a custom dataset\n",
    "class NamesIterableDataset(IterableDataset):\n",
    "    def __init__(self, filenames='names/*.txt', train: bool = True, train_fraction: float = 0.8):\n",
    "        # Read data\n",
    "        self.names = dict()  # country -> list of names\n",
    "        self.country_to_idx = {}\n",
    "        self.idx_to_country = []\n",
    "\n",
    "        for filename in glob.glob(filenames):\n",
    "            country = os.path.splitext(os.path.basename(filename))[0]\n",
    "            self.country_to_idx[country] = len(self.country_to_idx)\n",
    "            self.idx_to_country.append(country)\n",
    "            lines = open(filename, encoding='utf-8').read().strip().split('\\n')\n",
    "            self.names[country] = []\n",
    "            for line in lines:\n",
    "                self.names[country].append(unicodeToAscii(line))\n",
    "        \n",
    "        # Split the data into train and test datasets\n",
    "        for country in self.names.keys():\n",
    "            self.names[country] = sorted(list(set(self.names[country])))  \n",
    "            # It actually seems that sorting is not necessary because sorting* is done when converting a list to a set (\"set(L)\"\"), but ...\n",
    "            # *actualy not true, it's just that he hash of small elements are the elements themselves, but if you have big numbers then it's not the case\n",
    "            # anymore.\n",
    "            # For those curious, try:\n",
    "            # L = [10, 1, 42, 123, 2, 3, 5, 4, 123123, 123123123, 123123123123]\n",
    "            # for k in set(L):\n",
    "            #     print(k)\n",
    "            split_idx = int(train_fraction * len(self.names[country]))\n",
    "            if train:\n",
    "                self.names[country] = self.names[country][:split_idx]\n",
    "            else:\n",
    "                self.names[country] = self.names[country][split_idx:]\n",
    "\n",
    "        self.n_countries = len(self.country_to_idx)\n",
    "\n",
    "\n",
    "    def countryID(self, country):\n",
    "        return torch.tensor(self.country_to_idx[country])\n",
    "    \n",
    "    def __iter__(self):\n",
    "        for _ in range(len(self)):\n",
    "            yield self.__next__()\n",
    "\n",
    "    def __next__(self):\n",
    "        # Choose random country\n",
    "        country = random.choice(self.idx_to_country)\n",
    "        # Choose random name from this country\n",
    "        name = random.choice(self.names[country])\n",
    "        # Convert to tensors\n",
    "        name_tensor = nameToTensor(name)\n",
    "        countryID = self.countryID(country)\n",
    "        return (name, country, name_tensor, countryID)\n",
    "    \n",
    "    def __len__(self):\n",
    "        return 16059  # Arbitrary, size of one epoch\n",
    "    \n",
    "    def __getitem__(self, idx):\n",
    "        \"\"\"\n",
    "        idx is ignored (why? because of the way we want it to work!), but required by the implementation of __getitem__\n",
    "        \"\"\"\n",
    "        return self.__next__()\n",
    "\n",
    "# Create dataset object\n",
    "train_dataset = NamesIterableDataset('data/names/*.txt', train=True, train_fraction=0.8)\n",
    "test_dataset = NamesIterableDataset('data/names/*.txt', train=False, train_fraction=0.8)\n",
    "\n",
    "# Get a sample\n",
    "name, country, name_tensor, country_tensor = next(train_dataset)\n",
    "name, country, name_tensor.shape, country_tensor"
   ]
  },
  {
   "cell_type": "code",
   "execution_count": 163,
   "metadata": {},
   "outputs": [
    {
     "name": "stdout",
     "output_type": "stream",
     "text": [
      "('Malone',) ('Irish',) torch.Size([1, 6, 1, 56]) tensor([8])\n",
      "('Schoorl',) ('Dutch',) torch.Size([1, 7, 1, 56]) tensor([3])\n"
     ]
    }
   ],
   "source": [
    "# Store number of countries in a variable\n",
    "N_COUNTRIES = dataset.n_countries\n",
    "\n",
    "# Create a dataloader\n",
    "train_loader = DataLoader(train_dataset, batch_size=1)  # shuffle is not a thing\n",
    "test_loader = DataLoader(test_dataset, batch_size=1)  # shuffle is not a thing\n",
    "\n",
    "# Get a sample from the dataloader\n",
    "name_train, country, name_tensor, country_tensor = next(iter(train_loader))\n",
    "print(name_train, country, name_tensor.shape, country_tensor)\n",
    "name_test, country, name_tensor, country_tensor = next(iter(test_loader))\n",
    "print(name_test, country, name_tensor.shape, country_tensor)"
   ]
  },
  {
   "cell_type": "code",
   "execution_count": 166,
   "metadata": {},
   "outputs": [
    {
     "ename": "AssertionError",
     "evalue": "",
     "output_type": "error",
     "traceback": [
      "\u001b[1;31m---------------------------------------------------------------------------\u001b[0m",
      "\u001b[1;31mAssertionError\u001b[0m                            Traceback (most recent call last)",
      "Cell \u001b[1;32mIn[166], line 4\u001b[0m\n\u001b[0;32m      2\u001b[0m name_train, country, name_tensor, country_tensor \u001b[39m=\u001b[39m \u001b[39mnext\u001b[39m(\u001b[39miter\u001b[39m(train_loader))\n\u001b[0;32m      3\u001b[0m name_test, country, name_tensor, country_tensor \u001b[39m=\u001b[39m \u001b[39mnext\u001b[39m(\u001b[39miter\u001b[39m(test_loader))\n\u001b[1;32m----> 4\u001b[0m \u001b[39massert\u001b[39;00m (name_train \u001b[39m!=\u001b[39m name_test)\n",
      "\u001b[1;31mAssertionError\u001b[0m: "
     ]
    }
   ],
   "source": [
    "for _ in range(100_000):\n",
    "    name_train, country, name_tensor, country_tensor = next(iter(train_loader))\n",
    "    name_test, country, name_tensor, country_tensor = next(iter(test_loader))\n",
    "    assert (name_train != name_test)"
   ]
  },
  {
   "attachments": {},
   "cell_type": "markdown",
   "metadata": {},
   "source": [
    "Whaaat? (if you didn't get an error, re-run it) \n",
    "\n",
    "Hint: Murphy. It is what it is though, it's not a _us_ problem this time."
   ]
  },
  {
   "cell_type": "code",
   "execution_count": 165,
   "metadata": {},
   "outputs": [],
   "source": [
    "for _ in range(10_000):\n",
    "    name_train, country_train, name_tensor, country_tensor = next(iter(train_loader))\n",
    "    name_test, country_test, name_tensor, country_tensor = next(iter(test_loader))\n",
    "    assert ((name_train, country_train) != (name_test, country_test))"
   ]
  },
  {
   "attachments": {},
   "cell_type": "markdown",
   "metadata": {},
   "source": [
    "At least we're sure we didn't make anything stupid."
   ]
  },
  {
   "attachments": {},
   "cell_type": "markdown",
   "metadata": {},
   "source": [
    "Re-define the RNN and re-train it with our new fancy iterable dataset.\n",
    "Print the final accuracy, and plot the confusion matrix (which should be closer to the identity matrix)."
   ]
  },
  {
   "cell_type": "code",
   "execution_count": 168,
   "metadata": {},
   "outputs": [
    {
     "name": "stdout",
     "output_type": "stream",
     "text": [
      "Epoch: 1/10 (10%)\tLoss: 2.64e+04\n",
      "Epoch: 2/10 (20%)\tLoss: 1.54e+04\n",
      "Epoch: 3/10 (30%)\tLoss: 1.17e+04\n",
      "Epoch: 4/10 (40%)\tLoss: 1.00e+04\n",
      "Epoch: 5/10 (50%)\tLoss: 9.31e+03\n",
      "Epoch: 6/10 (60%)\tLoss: 8.71e+03\n",
      "Epoch: 7/10 (70%)\tLoss: 8.34e+03\n",
      "Epoch: 8/10 (80%)\tLoss: 8.03e+03\n",
      "Epoch: 9/10 (90%)\tLoss: 7.91e+03\n",
      "Epoch: 10/10 (100%)\tLoss: 7.77e+03\n",
      "\n",
      "NAME; TRUTH; PREDICTED\n",
      "Zhui; Chinese; English\n",
      "Tosto; Italian; English\n",
      "an; Vietnamese; Spanish\n",
      "White; Scottish; English\n",
      "Valencia; Spanish; English\n",
      "Sparacello; Italian; English\n",
      "Richelieu; French; English\n",
      "Yarker; English; English\n",
      "Waterfield; English; English\n",
      "Thomson; Scottish; English\n",
      "\n",
      "Accuracy: 33.74%\n"
     ]
    },
    {
     "data": {
      "image/png": "[encoded data removed]",
      "text/plain": [
       "<Figure size 640x480 with 2 Axes>"
      ]
     },
     "metadata": {},
     "output_type": "display_data"
    }
   ],
   "source": [
    "# Create the network\n",
    "class RNN(nn.Module):\n",
    "    def __init__(self, input_size, hidden_size, output_size, idx_to_country):\n",
    "        super(RNN, self).__init__()\n",
    "        self.hidden_size = hidden_size\n",
    "        self.i2h = nn.Linear(input_size + hidden_size, hidden_size)\n",
    "        self.i2o = nn.Linear(input_size + hidden_size, output_size)\n",
    "        self.softmax = nn.LogSoftmax(dim=1)\n",
    "        self.idx_to_country = idx_to_country\n",
    "        self.relu = nn.ReLU()\n",
    "\n",
    "    def forward(self, input, hidden):\n",
    "        combined = torch.cat((input, hidden), 1)\n",
    "        hidden = self.i2h(combined)\n",
    "        hidden = self.relu(hidden)\n",
    "        output = self.i2o(combined)\n",
    "        output = self.softmax(output)\n",
    "        return output, hidden\n",
    "\n",
    "    def initHidden(self):\n",
    "        return torch.zeros(1, self.hidden_size)\n",
    "    \n",
    "    def outputToCountry(self, output):\n",
    "        _, top_i = output.topk(1)\n",
    "        return self.idx_to_country[top_i[0,0].item()]\n",
    "\n",
    "    def outputToID(self, output):\n",
    "        _, top_i = output.topk(1)\n",
    "        return top_i[0,0].item()\n",
    "\n",
    "rnn = RNN(N_LETTERS, N_HIDDEN, N_COUNTRIES, dataset.idx_to_country)\n",
    "\n",
    "# Train the network\n",
    "lr = 0.001\n",
    "optimizer = optim.Adam(rnn.parameters(), lr=lr)\n",
    "criterion = nn.NLLLoss()\n",
    "n_epochs = 10\n",
    "for epoch in range(n_epochs):\n",
    "    loss_sum = 0\n",
    "    for (name, country, name_tensor, country_tensor) in train_loader:\n",
    "        hidden = rnn.initHidden()\n",
    "        rnn.zero_grad()\n",
    "        for i in range(name_tensor.size()[1]):\n",
    "            output, hidden = rnn(name_tensor[0][i], hidden)\n",
    "        loss = criterion(output, country_tensor[0][None])\n",
    "        loss_sum += loss.item()\n",
    "        loss.backward()\n",
    "        optimizer.step()\n",
    "    print(f'Epoch: {epoch+1}/{n_epochs} ({100*(epoch+1)/n_epochs:.0f}%)\\tLoss: {loss_sum:.2e}')\n",
    "\n",
    "# Test on a couple of examples\n",
    "print(f'\\nNAME; TRUTH; PREDICTED')\n",
    "for i in range(10):\n",
    "    name, country, name_tensor, country_tensor = test_dataset[i]\n",
    "    hidden = rnn.initHidden()\n",
    "    rnn.zero_grad()\n",
    "    for i in range(name_tensor.size()[1]):\n",
    "        output, hidden = rnn(name_tensor[i], hidden)\n",
    "    print(f'{name}; {country}; {rnn.outputToCountry(output)}')\n",
    "\n",
    "# Confusion matrix\n",
    "confusion = torch.zeros(N_COUNTRIES, N_COUNTRIES)\n",
    "accuracy = 0\n",
    "for name, country, name_tensor, country_tensor in test_loader:\n",
    "    hidden = rnn.initHidden()\n",
    "    rnn.zero_grad()\n",
    "    for i in range(name_tensor.size()[1]):\n",
    "        output, hidden = rnn(name_tensor[0][i], hidden)\n",
    "    guess, guess_i = output.topk(1)\n",
    "    category_i = country_tensor[0][None]\n",
    "    confusion[category_i, guess_i] += 1\n",
    "    if category_i == guess_i:\n",
    "        accuracy += 1\n",
    "# Normalize by dividing every row by its sum\n",
    "for i in range(N_COUNTRIES):\n",
    "    confusion[i] = confusion[i] / confusion[i].sum()\n",
    "# Accuracy\n",
    "print(f'\\nAccuracy: {100*accuracy/len(test_loader):.2f}%')\n",
    "\n",
    "# Plot confusion matrix\n",
    "plt.imshow(confusion.numpy())\n",
    "plt.colorbar()\n",
    "plt.title('Confusion matrix')\n",
    "ax = plt.gca()\n",
    "positions = list(range(N_COUNTRIES))\n",
    "labels = train_dataset.idx_to_country\n",
    "small_labels = [label[:2] for label in labels]\n",
    "ax.xaxis.set_major_locator(ticker.FixedLocator(positions))\n",
    "ax.xaxis.set_major_formatter(ticker.FixedFormatter(small_labels))\n",
    "ax.yaxis.set_major_locator(ticker.FixedLocator(positions))\n",
    "ax.yaxis.set_major_formatter(ticker.FixedFormatter(labels))\n",
    "plt.show()"
   ]
  },
  {
   "attachments": {},
   "cell_type": "markdown",
   "metadata": {},
   "source": [
    "Of course, the accuracy went down again, but at least, our RNN isn't biased (hopefully ... cf. your confusion matrix ...)."
   ]
  },
  {
   "cell_type": "code",
   "execution_count": 169,
   "metadata": {},
   "outputs": [
    {
     "name": "stdout",
     "output_type": "stream",
     "text": [
      "Dubois; English\n",
      "Lhotte; English\n",
      "Dupont; English\n",
      "Garcia; English\n",
      "Sato; English\n",
      "Duprès; English\n",
      "Suzuki; English\n",
      "Wang; English\n",
      "Santos; English\n",
      "Yamamoto; English\n"
     ]
    }
   ],
   "source": [
    "names = [\"Dubois\", \"Lhotte\", \"Dupont\", \"Garcia\", \"Sato\", \"Duprès\", \"Suzuki\", \"Wang\", \"Santos\", \"Yamamoto\"]\n",
    "for name in names:\n",
    "    name_tensor = nameToTensor(name)\n",
    "    hidden = rnn.initHidden()\n",
    "    rnn.zero_grad()\n",
    "    for i in range(name_tensor.size()[1]):\n",
    "        output, hidden = rnn(name_tensor[i], hidden)\n",
    "    print(f'{name}; {rnn.outputToCountry(output)}')"
   ]
  },
  {
   "attachments": {},
   "cell_type": "markdown",
   "metadata": {},
   "source": [
    "Let's calculate the per-class accuracy as explained previously:"
   ]
  },
  {
   "cell_type": "code",
   "execution_count": 170,
   "metadata": {},
   "outputs": [
    {
     "name": "stdout",
     "output_type": "stream",
     "text": [
      "Arabic: 16.13%\n",
      "Chinese: 52.11%\n",
      "Czech: 37.36%\n",
      "Dutch: 41.96%\n",
      "English: 29.64%\n",
      "French: 12.88%\n",
      "German: 23.01%\n",
      "Greek: 81.70%\n",
      "Irish: 8.56%\n",
      "Italian: 55.56%\n",
      "Japanese: 80.30%\n",
      "Korean: 4.33%\n",
      "Polish: 44.23%\n",
      "Portuguese: 0.00%\n",
      "Russian: 74.14%\n",
      "Scottish: 4.33%\n",
      "Spanish: 23.64%\n",
      "Vietnamese: 21.81%\n",
      "\n",
      "\n",
      "Average per class accuracy: 33.98%\n"
     ]
    }
   ],
   "source": [
    "per_class_accuracy_list: list[float] = []\n",
    "for i in range(N_COUNTRIES):\n",
    "    n_correct = confusion[i, i].item()\n",
    "    n_total = confusion[i].sum().item()\n",
    "    print(f'{dataset.idx_to_country[i]}: {100*n_correct/n_total:.2f}%')\n",
    "    per_class_accuracy_list.append(100*n_correct/n_total)\n",
    "print(\"\\n\")\n",
    "print(f'Average per class accuracy: {sum(per_class_accuracy_list)/len(per_class_accuracy_list):.2f}%')"
   ]
  },
  {
   "attachments": {},
   "cell_type": "markdown",
   "metadata": {},
   "source": [
    "There is still a problem ... Let's find out what it is:"
   ]
  },
  {
   "cell_type": "code",
   "execution_count": 171,
   "metadata": {},
   "outputs": [
    {
     "data": {
      "text/plain": [
       "['Abel',\n",
       " 'Abraham',\n",
       " 'Adam',\n",
       " 'Albert',\n",
       " 'Allard',\n",
       " 'Archambault',\n",
       " 'Armistead',\n",
       " 'Arthur',\n",
       " 'Augustin',\n",
       " 'Babineaux',\n",
       " 'Baudin',\n",
       " 'Beauchene',\n",
       " 'Beaulieu',\n",
       " 'Beaumont',\n",
       " 'Belanger',\n",
       " 'Bellamy',\n",
       " 'Bellerose',\n",
       " 'Belrose',\n",
       " 'Berger',\n",
       " 'Beringer',\n",
       " 'Bernard',\n",
       " 'Bertrand',\n",
       " 'Bisset',\n",
       " 'Bissette',\n",
       " 'Blaise',\n",
       " 'Blanc',\n",
       " 'Blanchet',\n",
       " 'Blanchett',\n",
       " 'Bonfils',\n",
       " 'Bonheur',\n",
       " 'Bonhomme',\n",
       " 'Bonnaire',\n",
       " 'Bonnay',\n",
       " 'Bonner',\n",
       " 'Bonnet',\n",
       " 'Borde',\n",
       " 'Bordelon',\n",
       " 'Bouchard',\n",
       " 'Boucher',\n",
       " 'Brisbois',\n",
       " 'Brodeur',\n",
       " 'Bureau',\n",
       " 'Caron',\n",
       " 'Cavey',\n",
       " 'Chaput',\n",
       " 'Charbonneau',\n",
       " 'Charpentier',\n",
       " 'Charron',\n",
       " 'Chastain',\n",
       " 'Chevalier',\n",
       " 'Chevrolet',\n",
       " 'Cloutier',\n",
       " 'Colbert',\n",
       " 'Comtois',\n",
       " 'Cornett',\n",
       " 'Cote',\n",
       " 'Coupe',\n",
       " 'Courtemanche',\n",
       " 'Cousineau',\n",
       " 'Couture',\n",
       " 'Daniau',\n",
       " 'Daramitz',\n",
       " 'Daviau',\n",
       " 'David',\n",
       " 'De la fontaine',\n",
       " 'De sauveterre',\n",
       " 'Deforest',\n",
       " 'Degarmo',\n",
       " 'Delacroix',\n",
       " 'Deniau',\n",
       " 'Deniaud',\n",
       " 'Deniel',\n",
       " 'Denis',\n",
       " 'Deschamps',\n",
       " 'Descoteaux',\n",
       " 'Desjardins',\n",
       " 'Desrochers',\n",
       " 'Desrosiers',\n",
       " 'Dubois',\n",
       " 'Duchamps',\n",
       " 'Dufort',\n",
       " 'Dufour',\n",
       " 'Duguay',\n",
       " 'Dupond',\n",
       " 'Dupont',\n",
       " 'Durand',\n",
       " 'Durant',\n",
       " 'Duval',\n",
       " 'Emile',\n",
       " 'Eustis',\n",
       " 'Fabian',\n",
       " 'Fabre',\n",
       " 'Fabron',\n",
       " 'Faucher',\n",
       " 'Faucheux',\n",
       " 'Faure',\n",
       " 'Favager',\n",
       " 'Favre',\n",
       " 'Favreau',\n",
       " 'Fay',\n",
       " 'Felix',\n",
       " 'Firmin',\n",
       " 'Fontaine',\n",
       " 'Forest',\n",
       " 'Forestier',\n",
       " 'Fortier',\n",
       " 'Foss',\n",
       " 'Fournier',\n",
       " 'Gage',\n",
       " 'Gagne',\n",
       " 'Gagnier',\n",
       " 'Gagnon',\n",
       " 'Garcon',\n",
       " 'Gardinier',\n",
       " 'Germain',\n",
       " 'Geroux',\n",
       " 'Giles',\n",
       " 'Girard',\n",
       " 'Giroux',\n",
       " 'Glaisyer',\n",
       " 'Gosse',\n",
       " 'Gosselin',\n",
       " 'Granger',\n",
       " 'Guerin',\n",
       " 'Guillory',\n",
       " 'Hardy',\n",
       " 'Harman',\n",
       " 'Hebert',\n",
       " 'Herbert',\n",
       " 'Herriot',\n",
       " 'Jacques',\n",
       " 'Janvier',\n",
       " 'Jordan',\n",
       " 'Joubert',\n",
       " 'Labelle',\n",
       " 'Lachance',\n",
       " 'Lachapelle',\n",
       " 'Lamar',\n",
       " 'Lambert',\n",
       " 'Lane',\n",
       " 'Langlais',\n",
       " 'Langlois',\n",
       " 'Lapointe',\n",
       " 'Larue',\n",
       " 'Laurent',\n",
       " 'Lavigne',\n",
       " 'Lavoie',\n",
       " 'Leandres',\n",
       " 'Lebeau',\n",
       " 'Leblanc',\n",
       " 'Leclair',\n",
       " 'Leclerc',\n",
       " 'Lecuyer',\n",
       " 'Lefebvre',\n",
       " 'Lefevre',\n",
       " 'Lefurgey',\n",
       " 'Legrand',\n",
       " 'Lemaire',\n",
       " 'Lemieux',\n",
       " 'Leon',\n",
       " 'Leroy',\n",
       " 'Lesauvage',\n",
       " 'Lestrange',\n",
       " 'Leveque',\n",
       " 'Levesque',\n",
       " 'Linville',\n",
       " 'Lyon',\n",
       " 'Macon',\n",
       " 'Marchand',\n",
       " 'Marie',\n",
       " 'Marion',\n",
       " 'Martel',\n",
       " 'Martin',\n",
       " 'Masson',\n",
       " 'Mathieu',\n",
       " 'Mercier',\n",
       " 'Merle',\n",
       " 'Michaud',\n",
       " 'Michel',\n",
       " 'Monet',\n",
       " 'Monette',\n",
       " 'Montagne',\n",
       " 'Moreau',\n",
       " 'Moulin',\n",
       " 'Mullins',\n",
       " 'Noel',\n",
       " 'Oliver',\n",
       " 'Olivier',\n",
       " 'Page',\n",
       " 'Paget',\n",
       " 'Palomer',\n",
       " 'Pan',\n",
       " 'Pape',\n",
       " 'Paquet',\n",
       " 'Parent',\n",
       " 'Paris',\n",
       " 'Parris',\n",
       " 'Pascal',\n",
       " 'Patenaude',\n",
       " 'Paternoster',\n",
       " 'Paul',\n",
       " 'Pelletier',\n",
       " 'Perrault',\n",
       " 'Perreault',\n",
       " 'Perrot',\n",
       " 'Petit',\n",
       " 'Pettigrew',\n",
       " 'Pierre',\n",
       " 'Plamondon',\n",
       " 'Plourde',\n",
       " 'Poingdestre',\n",
       " 'Poirier',\n",
       " 'Porcher',\n",
       " 'Poulin',\n",
       " 'Proulx',\n",
       " 'Renaud',\n",
       " 'Rey',\n",
       " 'Reyer']"
      ]
     },
     "execution_count": 171,
     "metadata": {},
     "output_type": "execute_result"
    }
   ],
   "source": [
    "train_dataset.names[\"French\"]"
   ]
  },
  {
   "cell_type": "code",
   "execution_count": 172,
   "metadata": {},
   "outputs": [
    {
     "data": {
      "text/plain": [
       "['Richard',\n",
       " 'Richelieu',\n",
       " 'Robert',\n",
       " 'Roche',\n",
       " 'Rome',\n",
       " 'Romilly',\n",
       " 'Rose',\n",
       " 'Rousseau',\n",
       " 'Roux',\n",
       " 'Roy',\n",
       " 'Royer',\n",
       " 'Salomon',\n",
       " 'Salvage',\n",
       " 'Samson',\n",
       " 'Samuel',\n",
       " 'Sargent',\n",
       " 'Sarkozi',\n",
       " 'Sarkozy',\n",
       " 'Sartre',\n",
       " 'Sault',\n",
       " 'Sauvage',\n",
       " 'Sauvageau',\n",
       " 'Sauvageon',\n",
       " 'Sauvageot',\n",
       " 'Sauveterre',\n",
       " 'Savatier',\n",
       " 'Segal',\n",
       " 'Sergeant',\n",
       " 'Severin',\n",
       " 'Simon',\n",
       " 'Solomon',\n",
       " 'Soucy',\n",
       " 'St martin',\n",
       " 'St pierre',\n",
       " 'Tailler',\n",
       " 'Tasse',\n",
       " 'Thayer',\n",
       " 'Thibault',\n",
       " 'Thomas',\n",
       " 'Tobias',\n",
       " 'Tolbert',\n",
       " 'Traver',\n",
       " 'Travere',\n",
       " 'Travers',\n",
       " 'Traverse',\n",
       " 'Travert',\n",
       " 'Tremblay',\n",
       " 'Tremble',\n",
       " 'Victor',\n",
       " 'Victors',\n",
       " 'Villeneuve',\n",
       " 'Vincent',\n",
       " 'Vipond',\n",
       " 'Voclain',\n",
       " 'Yount']"
      ]
     },
     "execution_count": 172,
     "metadata": {},
     "output_type": "execute_result"
    }
   ],
   "source": [
    "test_dataset.names[\"French\"]"
   ]
  },
  {
   "cell_type": "code",
   "execution_count": 173,
   "metadata": {},
   "outputs": [
    {
     "data": {
      "text/plain": [
       "('Meeuwes', 'Dutch', torch.Size([7, 1, 56]), tensor(3))"
      ]
     },
     "execution_count": 173,
     "metadata": {},
     "output_type": "execute_result"
    }
   ],
   "source": [
    "# Create a custom dataset\n",
    "class NamesIterableDataset(IterableDataset):\n",
    "    def __init__(self, filenames='names/*.txt', train: bool = True, train_fraction: float = 0.8):\n",
    "        # Read data\n",
    "        self.names = dict()  # country -> list of names\n",
    "        self.country_to_idx = {}\n",
    "        self.idx_to_country = []\n",
    "\n",
    "        for filename in glob.glob(filenames):\n",
    "            country = os.path.splitext(os.path.basename(filename))[0]\n",
    "            self.country_to_idx[country] = len(self.country_to_idx)\n",
    "            self.idx_to_country.append(country)\n",
    "            lines = open(filename, encoding='utf-8').read().strip().split('\\n')\n",
    "            self.names[country] = []\n",
    "            for line in lines:\n",
    "                self.names[country].append(unicodeToAscii(line))\n",
    "        \n",
    "        # Split the data into train and test datasets\n",
    "        for country in self.names.keys():\n",
    "            random.seed(1234)\n",
    "            random.shuffle(list(set(self.names[country])))\n",
    "            split_idx = int(train_fraction * len(self.names[country]))\n",
    "            if train:\n",
    "                self.names[country] = self.names[country][:split_idx]\n",
    "            else:\n",
    "                self.names[country] = self.names[country][split_idx:]\n",
    "\n",
    "        self.n_countries = len(self.country_to_idx)\n",
    "\n",
    "\n",
    "    def countryID(self, country):\n",
    "        return torch.tensor(self.country_to_idx[country])\n",
    "    \n",
    "    def __iter__(self):\n",
    "        for _ in range(len(self)):\n",
    "            yield self.__next__()\n",
    "\n",
    "    def __next__(self):\n",
    "        # Choose random country\n",
    "        country = random.choice(self.idx_to_country)\n",
    "        # Choose random name from this country\n",
    "        name = random.choice(self.names[country])\n",
    "        # Convert to tensors\n",
    "        name_tensor = nameToTensor(name)\n",
    "        countryID = self.countryID(country)\n",
    "        return (name, country, name_tensor, countryID)\n",
    "    \n",
    "    def __len__(self):\n",
    "        return 16059  # Arbitrary, size of one epoch\n",
    "    \n",
    "    def __getitem__(self, idx):\n",
    "        \"\"\"\n",
    "        idx is ignored (why? because of the way we want it to work!), but required by the implementation of __getitem__\n",
    "        \"\"\"\n",
    "        return self.__next__()\n",
    "\n",
    "# Create dataset object\n",
    "train_dataset = NamesIterableDataset('data/names/*.txt', train=True, train_fraction=0.8)\n",
    "test_dataset = NamesIterableDataset('data/names/*.txt', train=False, train_fraction=0.8)\n",
    "\n",
    "# Get a sample\n",
    "name, country, name_tensor, country_tensor = next(train_dataset)\n",
    "name, country, name_tensor.shape, country_tensor"
   ]
  },
  {
   "cell_type": "code",
   "execution_count": 174,
   "metadata": {},
   "outputs": [
    {
     "name": "stdout",
     "output_type": "stream",
     "text": [
      "Garcon French torch.Size([6, 1, 56]) tensor(5)\n",
      "Foss French torch.Size([4, 1, 56]) tensor(5)\n",
      "Lebeau French torch.Size([6, 1, 56]) tensor(5)\n",
      "Bouchard French torch.Size([8, 1, 56]) tensor(5)\n",
      "Favre French torch.Size([5, 1, 56]) tensor(5)\n",
      "Jordan French torch.Size([6, 1, 56]) tensor(5)\n",
      "Duguay French torch.Size([6, 1, 56]) tensor(5)\n",
      "Giles French torch.Size([5, 1, 56]) tensor(5)\n",
      "Abel French torch.Size([4, 1, 56]) tensor(5)\n"
     ]
    }
   ],
   "source": [
    "for _ in range(200):\n",
    "    name, country, name_tensor, country_tensor = next(train_dataset)\n",
    "    if country == \"French\":\n",
    "        print(name, country, name_tensor.shape, country_tensor)"
   ]
  },
  {
   "cell_type": "code",
   "execution_count": 175,
   "metadata": {},
   "outputs": [
    {
     "name": "stdout",
     "output_type": "stream",
     "text": [
      "Thibault French torch.Size([8, 1, 56]) tensor(5)\n",
      "Sauvageot French torch.Size([9, 1, 56]) tensor(5)\n",
      "Roy French torch.Size([3, 1, 56]) tensor(5)\n",
      "Roux French torch.Size([4, 1, 56]) tensor(5)\n",
      "Thomas French torch.Size([6, 1, 56]) tensor(5)\n",
      "Segal French torch.Size([5, 1, 56]) tensor(5)\n",
      "Richelieu French torch.Size([9, 1, 56]) tensor(5)\n",
      "Tobias French torch.Size([6, 1, 56]) tensor(5)\n"
     ]
    }
   ],
   "source": [
    "for _ in range(200):\n",
    "    name, country, name_tensor, country_tensor = next(test_dataset)\n",
    "    if country == \"French\":\n",
    "        print(name, country, name_tensor.shape, country_tensor)"
   ]
  },
  {
   "cell_type": "code",
   "execution_count": 176,
   "metadata": {},
   "outputs": [],
   "source": [
    "for _ in range(100_000):\n",
    "    name_train, country_train, name_tensor, country_tensor = next(iter(train_loader))\n",
    "    name_test, country_test, name_tensor, country_tensor = next(iter(test_loader))\n",
    "    assert ((name_train, country_train) != (name_test, country_test))"
   ]
  },
  {
   "cell_type": "code",
   "execution_count": 177,
   "metadata": {},
   "outputs": [
    {
     "name": "stdout",
     "output_type": "stream",
     "text": [
      "Epoch: 1/10 (10%)\tLoss: 2.65e+04\n",
      "Epoch: 2/10 (20%)\tLoss: 1.52e+04\n",
      "Epoch: 3/10 (30%)\tLoss: 1.18e+04\n",
      "Epoch: 4/10 (40%)\tLoss: 1.01e+04\n",
      "Epoch: 5/10 (50%)\tLoss: 9.42e+03\n",
      "Epoch: 6/10 (60%)\tLoss: 8.73e+03\n",
      "Epoch: 7/10 (70%)\tLoss: 8.40e+03\n",
      "Epoch: 8/10 (80%)\tLoss: 7.81e+03\n",
      "Epoch: 9/10 (90%)\tLoss: 7.99e+03\n",
      "Epoch: 10/10 (100%)\tLoss: 7.75e+03\n",
      "\n",
      "NAME; TRUTH; PREDICTED\n",
      "Stamatelos; Greek; English\n",
      "Zielinski; Polish; English\n",
      "Simon; Dutch; English\n",
      "Trieu; Vietnamese; English\n",
      "Tsai ; Korean; English\n",
      "Tsogas; Greek; English\n",
      "Rahal; Arabic; English\n",
      "Toloni; Italian; English\n",
      "Stawski; Polish; English\n",
      "Wyrzyk; Polish; English\n",
      "\n",
      "Accuracy: 34.50%\n"
     ]
    },
    {
     "data": {
      "image/png": "[encoded data removed]",
      "text/plain": [
       "<Figure size 640x480 with 2 Axes>"
      ]
     },
     "metadata": {},
     "output_type": "display_data"
    }
   ],
   "source": [
    "# Create the network\n",
    "class RNN(nn.Module):\n",
    "    def __init__(self, input_size, hidden_size, output_size, idx_to_country):\n",
    "        super(RNN, self).__init__()\n",
    "        self.hidden_size = hidden_size\n",
    "        self.i2h = nn.Linear(input_size + hidden_size, hidden_size)\n",
    "        self.i2o = nn.Linear(input_size + hidden_size, output_size)\n",
    "        self.softmax = nn.LogSoftmax(dim=1)\n",
    "        self.idx_to_country = idx_to_country\n",
    "        self.relu = nn.ReLU()\n",
    "\n",
    "    def forward(self, input, hidden):\n",
    "        combined = torch.cat((input, hidden), 1)\n",
    "        hidden = self.i2h(combined)\n",
    "        hidden = self.relu(hidden)\n",
    "        output = self.i2o(combined)\n",
    "        output = self.softmax(output)\n",
    "        return output, hidden\n",
    "\n",
    "    def initHidden(self):\n",
    "        return torch.zeros(1, self.hidden_size)\n",
    "    \n",
    "    def outputToCountry(self, output):\n",
    "        _, top_i = output.topk(1)\n",
    "        return self.idx_to_country[top_i[0,0].item()]\n",
    "\n",
    "    def outputToID(self, output):\n",
    "        _, top_i = output.topk(1)\n",
    "        return top_i[0,0].item()\n",
    "\n",
    "rnn = RNN(N_LETTERS, N_HIDDEN, N_COUNTRIES, dataset.idx_to_country)\n",
    "\n",
    "# Train the network\n",
    "lr = 0.001\n",
    "optimizer = optim.Adam(rnn.parameters(), lr=lr)\n",
    "criterion = nn.NLLLoss()\n",
    "n_epochs = 10\n",
    "for epoch in range(n_epochs):\n",
    "    loss_sum = 0\n",
    "    for (name, country, name_tensor, country_tensor) in train_loader:\n",
    "        hidden = rnn.initHidden()\n",
    "        rnn.zero_grad()\n",
    "        for i in range(name_tensor.size()[1]):\n",
    "            output, hidden = rnn(name_tensor[0][i], hidden)\n",
    "        loss = criterion(output, country_tensor[0][None])\n",
    "        loss_sum += loss.item()\n",
    "        loss.backward()\n",
    "        optimizer.step()\n",
    "    print(f'Epoch: {epoch+1}/{n_epochs} ({100*(epoch+1)/n_epochs:.0f}%)\\tLoss: {loss_sum:.2e}')\n",
    "\n",
    "# Test on a couple of examples\n",
    "print(f'\\nNAME; TRUTH; PREDICTED')\n",
    "for i in range(10):\n",
    "    name, country, name_tensor, country_tensor = test_dataset[i]\n",
    "    hidden = rnn.initHidden()\n",
    "    rnn.zero_grad()\n",
    "    for i in range(name_tensor.size()[1]):\n",
    "        output, hidden = rnn(name_tensor[i], hidden)\n",
    "    print(f'{name}; {country}; {rnn.outputToCountry(output)}')\n",
    "\n",
    "# Confusion matrix\n",
    "confusion = torch.zeros(N_COUNTRIES, N_COUNTRIES)\n",
    "accuracy = 0\n",
    "for name, country, name_tensor, country_tensor in test_loader:\n",
    "    hidden = rnn.initHidden()\n",
    "    rnn.zero_grad()\n",
    "    for i in range(name_tensor.size()[1]):\n",
    "        output, hidden = rnn(name_tensor[0][i], hidden)\n",
    "    guess, guess_i = output.topk(1)\n",
    "    category_i = country_tensor[0][None]\n",
    "    confusion[category_i, guess_i] += 1\n",
    "    if category_i == guess_i:\n",
    "        accuracy += 1\n",
    "# Normalize by dividing every row by its sum\n",
    "for i in range(N_COUNTRIES):\n",
    "    confusion[i] = confusion[i] / confusion[i].sum()\n",
    "# Accuracy\n",
    "print(f'\\nAccuracy: {100*accuracy/len(test_loader):.2f}%')\n",
    "\n",
    "# Plot confusion matrix\n",
    "plt.imshow(confusion.numpy())\n",
    "plt.colorbar()\n",
    "plt.title('Confusion matrix')\n",
    "ax = plt.gca()\n",
    "positions = list(range(N_COUNTRIES))\n",
    "labels = train_dataset.idx_to_country\n",
    "small_labels = [label[:2] for label in labels]\n",
    "ax.xaxis.set_major_locator(ticker.FixedLocator(positions))\n",
    "ax.xaxis.set_major_formatter(ticker.FixedFormatter(small_labels))\n",
    "ax.yaxis.set_major_locator(ticker.FixedLocator(positions))\n",
    "ax.yaxis.set_major_formatter(ticker.FixedFormatter(labels))\n",
    "plt.show()"
   ]
  },
  {
   "cell_type": "code",
   "execution_count": 178,
   "metadata": {},
   "outputs": [
    {
     "name": "stdout",
     "output_type": "stream",
     "text": [
      "Dubois; English\n",
      "Lhotte; English\n",
      "Dupont; English\n",
      "Garcia; English\n",
      "Sato; English\n",
      "Duprès; English\n",
      "Suzuki; English\n",
      "Wang; English\n",
      "Santos; English\n",
      "Yamamoto; English\n"
     ]
    }
   ],
   "source": [
    "names = [\"Dubois\", \"Lhotte\", \"Dupont\", \"Garcia\", \"Sato\", \"Duprès\", \"Suzuki\", \"Wang\", \"Santos\", \"Yamamoto\"]\n",
    "for name in names:\n",
    "    name_tensor = nameToTensor(name)\n",
    "    hidden = rnn.initHidden()\n",
    "    rnn.zero_grad()\n",
    "    for i in range(name_tensor.size()[1]):\n",
    "        output, hidden = rnn(name_tensor[i], hidden)\n",
    "    print(f'{name}; {rnn.outputToCountry(output)}')"
   ]
  },
  {
   "cell_type": "code",
   "execution_count": 179,
   "metadata": {},
   "outputs": [
    {
     "name": "stdout",
     "output_type": "stream",
     "text": [
      "Arabic: 4.18%\n",
      "Chinese: 66.79%\n",
      "Czech: 39.00%\n",
      "Dutch: 34.45%\n",
      "English: 36.68%\n",
      "French: 18.67%\n",
      "German: 36.41%\n",
      "Greek: 62.42%\n",
      "Irish: 19.75%\n",
      "Italian: 50.29%\n",
      "Japanese: 67.14%\n",
      "Korean: 21.49%\n",
      "Polish: 21.35%\n",
      "Portuguese: 6.12%\n",
      "Russian: 77.46%\n",
      "Scottish: 4.91%\n",
      "Spanish: 33.57%\n",
      "Vietnamese: 19.50%\n",
      "\n",
      "\n",
      "Average per class accuracy: 34.45%\n"
     ]
    }
   ],
   "source": [
    "per_class_accuracy_list: list[float] = []\n",
    "for i in range(N_COUNTRIES):\n",
    "    n_correct = confusion[i, i].item()\n",
    "    n_total = confusion[i].sum().item()\n",
    "    print(f'{dataset.idx_to_country[i]}: {100*n_correct/n_total:.2f}%')\n",
    "    per_class_accuracy_list.append(100*n_correct/n_total)\n",
    "print(\"\\n\")\n",
    "print(f'Average per class accuracy: {sum(per_class_accuracy_list)/len(per_class_accuracy_list):.2f}%')"
   ]
  },
  {
   "attachments": {},
   "cell_type": "markdown",
   "metadata": {},
   "source": [
    "There is still a bit (a lot) of overfitting though, but that's just hyperparameter optimisation, we won't do it, you lot know how to do it now!"
   ]
  },
  {
   "attachments": {},
   "cell_type": "markdown",
   "metadata": {},
   "source": [
    "---"
   ]
  },
  {
   "attachments": {},
   "cell_type": "markdown",
   "metadata": {},
   "source": [
    "### A second (more or less equivalent) \"fix\": add a sampler to the dataloader"
   ]
  },
  {
   "attachments": {},
   "cell_type": "markdown",
   "metadata": {},
   "source": [
    "---"
   ]
  },
  {
   "attachments": {},
   "cell_type": "markdown",
   "metadata": {},
   "source": [
    "### A third (more or less equivalent) \"fix\": weight the loss function"
   ]
  }
 ],
 "metadata": {
  "kernelspec": {
   "display_name": "DL NLP 2022-2023",
   "language": "python",
   "name": "python3"
  },
  "language_info": {
   "codemirror_mode": {
    "name": "ipython",
    "version": 3
   },
   "file_extension": ".py",
   "mimetype": "text/x-python",
   "name": "python",
   "nbconvert_exporter": "python",
   "pygments_lexer": "ipython3",
   "version": "3.10.2"
  },
  "orig_nbformat": 4
 },
 "nbformat": 4,
 "nbformat_minor": 2
}
