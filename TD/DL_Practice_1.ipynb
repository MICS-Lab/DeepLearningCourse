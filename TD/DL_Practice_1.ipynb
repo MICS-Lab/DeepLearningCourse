{
  "nbformat": 4,
  "nbformat_minor": 0,
  "metadata": {
    "colab": {
      "provenance": []
    },
    "kernelspec": {
      "name": "python3",
      "display_name": "Python 3"
    },
    "language_info": {
      "name": "python"
    }
  },
  "cells": [
    {
      "cell_type": "markdown",
      "source": [
        "# Deep Learning by Hand"
      ],
      "metadata": {
        "id": "ovDJUER3rFK4"
      }
    },
    {
      "cell_type": "markdown",
      "source": [
        "[use numpy for all questions]"
      ],
      "metadata": {
        "id": "wdmJfTThvBnc"
      }
    },
    {
      "cell_type": "code",
      "source": [
        "import numpy as np\n",
        "import matplotlib.pyplot as plt"
      ],
      "metadata": {
        "id": "R9k-Z90ivZfW"
      },
      "execution_count": 1,
      "outputs": []
    },
    {
      "cell_type": "markdown",
      "source": [
        "## Linear Regression\n",
        "**We will do a linear regression using backpropagartion.**\n",
        "*Of course, there is an analyctical solution to this problem, but the techniques used can be generalized to complex models, for which we do not have an analyctical solution to compute the optimal weights.*"
      ],
      "metadata": {
        "id": "zBCErfllsUwJ"
      }
    },
    {
      "cell_type": "markdown",
      "source": [
        "Create 100 points of data $x_i, 0 \\leq i < N$ with $x_i \\in [0,1)$ and associated (noised) output $y_i = a*x_i+b+\\epsilon_i$ with $\\epsilon_i \\approx \\mathcal{N}(0,0.01)$; use $a=2$, $b=1$ & $N=100$"
      ],
      "metadata": {
        "id": "U3kDEQAQrM0n"
      }
    },
    {
      "cell_type": "code",
      "execution_count": 1,
      "metadata": {
        "id": "fJl43jGfqttg"
      },
      "outputs": [],
      "source": []
    },
    {
      "cell_type": "markdown",
      "source": [
        "Plot the dots to check it makes sense to use a linear model"
      ],
      "metadata": {
        "id": "QLRmzkIs0Xuz"
      }
    },
    {
      "cell_type": "code",
      "source": [],
      "metadata": {
        "id": "VH2DcGt9vRKB"
      },
      "execution_count": 1,
      "outputs": []
    },
    {
      "cell_type": "markdown",
      "source": [
        "Initializes parameters \"a\" and \"b\" randomly"
      ],
      "metadata": {
        "id": "knMLtSZJvTs4"
      }
    },
    {
      "cell_type": "code",
      "source": [],
      "metadata": {
        "id": "nM7M1w1Hvqoi"
      },
      "execution_count": 1,
      "outputs": []
    },
    {
      "cell_type": "markdown",
      "source": [
        "Calculate your predictions $\\hat{y} = a * x_{train} +b$"
      ],
      "metadata": {
        "id": "Cu3fnwJkwTFZ"
      }
    },
    {
      "cell_type": "code",
      "source": [],
      "metadata": {
        "id": "HOV76bZvvzIF"
      },
      "execution_count": 1,
      "outputs": []
    },
    {
      "cell_type": "markdown",
      "source": [
        "Calculate the error $err = y_{train} - \\hat{y}$ and the MSE loss $loss = \\frac{err^2}{N}$"
      ],
      "metadata": {
        "id": "IioTqYCYvqFK"
      }
    },
    {
      "cell_type": "code",
      "source": [],
      "metadata": {
        "id": "t_U-eMawz3I8"
      },
      "execution_count": 1,
      "outputs": []
    },
    {
      "cell_type": "markdown",
      "source": [
        "Compute the gradients for both a and b parameters"
      ],
      "metadata": {
        "id": "PY7QH55Az2zN"
      }
    },
    {
      "cell_type": "code",
      "source": [],
      "metadata": {
        "id": "JVcVSdWw1C62"
      },
      "execution_count": 1,
      "outputs": []
    },
    {
      "cell_type": "markdown",
      "source": [
        "Update parameters using gradients and the learning rate `lr = 1e-1`"
      ],
      "metadata": {
        "id": "FqLpi_Iz1Hbf"
      }
    },
    {
      "cell_type": "code",
      "source": [],
      "metadata": {
        "id": "DRIFn6o_1HQv"
      },
      "execution_count": 1,
      "outputs": []
    },
    {
      "cell_type": "markdown",
      "source": [
        "Repeat this for $1000$ epochs"
      ],
      "metadata": {
        "id": "_V5p13y11mab"
      }
    },
    {
      "cell_type": "code",
      "source": [],
      "metadata": {
        "id": "XOpyKjXt1q-b"
      },
      "execution_count": 1,
      "outputs": []
    },
    {
      "cell_type": "markdown",
      "source": [
        "Check that we get the same results as our gradient descent with an analytical linear regression (you may use `sklearn.linear_model.LinearRegression`)"
      ],
      "metadata": {
        "id": "SUchKsJN13AB"
      }
    },
    {
      "cell_type": "code",
      "source": [],
      "metadata": {
        "id": "UUcdhnb92JHH"
      },
      "execution_count": 1,
      "outputs": []
    },
    {
      "cell_type": "markdown",
      "source": [
        "-----"
      ],
      "metadata": {
        "id": "Ojpv-bEx27tB"
      }
    },
    {
      "cell_type": "markdown",
      "source": [
        "## $XOR$\n",
        "**We will create a (simple) neural network with 2 layers to fit the $XOR$ function.**\n",
        "*Of course, this is silly as the xor function is (much) faster than running a neural network; but the neural networks but the technique can be used to complex functions, for which we may not even have an expression.*"
      ],
      "metadata": {
        "id": "aCSvgvL85fcb"
      }
    },
    {
      "cell_type": "markdown",
      "source": [
        "Define the $XOR$ function and create some synthetic training data"
      ],
      "metadata": {
        "id": "6z0SXBVs28y3"
      }
    },
    {
      "cell_type": "code",
      "source": [],
      "metadata": {
        "id": "zgLvfEg35xMf"
      },
      "execution_count": 1,
      "outputs": []
    },
    {
      "cell_type": "markdown",
      "source": [
        "Define the model's architecture and some hyperparameters:\n",
        "- $10$ hidden units\n",
        "- learning rate of $0.5$"
      ],
      "metadata": {
        "id": "klWDhYdY5wzq"
      }
    },
    {
      "cell_type": "code",
      "source": [],
      "metadata": {
        "id": "XkpOr8fM6KpJ"
      },
      "execution_count": 1,
      "outputs": []
    },
    {
      "cell_type": "markdown",
      "source": [
        "Define the model's weight matrices and biases"
      ],
      "metadata": {
        "id": "p17F-_wD6UTC"
      }
    },
    {
      "cell_type": "code",
      "source": [],
      "metadata": {
        "id": "23X5LaDp6Uzh"
      },
      "execution_count": 1,
      "outputs": []
    },
    {
      "cell_type": "markdown",
      "source": [
        "Define the sigmoid ($\\sigma (x) = \\frac{1}{1+e^{-x}}$) activation function and its derivative"
      ],
      "metadata": {
        "id": "ayNLprId6hkp"
      }
    },
    {
      "cell_type": "code",
      "source": [],
      "metadata": {
        "id": "lQI-ZwOJ6jCE"
      },
      "execution_count": 1,
      "outputs": []
    },
    {
      "cell_type": "markdown",
      "source": [
        "Define the forward pass of the model"
      ],
      "metadata": {
        "id": "-ZsAoi0c6nUT"
      }
    },
    {
      "cell_type": "code",
      "source": [],
      "metadata": {
        "id": "n2KyCoYZ6mJV"
      },
      "execution_count": 1,
      "outputs": []
    },
    {
      "cell_type": "markdown",
      "source": [
        "Define the backward pass of the mode"
      ],
      "metadata": {
        "id": "4SRuWEq06upn"
      }
    },
    {
      "cell_type": "code",
      "source": [],
      "metadata": {
        "id": "w206oLTf6vP8"
      },
      "execution_count": 1,
      "outputs": []
    },
    {
      "cell_type": "markdown",
      "source": [
        "Performs the forward pass, backward pass, and weight updates for $10000$ epochs;\n",
        "in addition:\n",
        "- print the loss every $10000$ epochs\n",
        "- save the losses and plot them in a semilogy"
      ],
      "metadata": {
        "id": "lQziMSRQ67NP"
      }
    },
    {
      "cell_type": "code",
      "source": [],
      "metadata": {
        "id": "zW_rM4yZ689f"
      },
      "execution_count": 1,
      "outputs": []
    },
    {
      "cell_type": "markdown",
      "source": [
        "Test your model & plot its outputs"
      ],
      "metadata": {
        "id": "heLtyuTIEAqj"
      }
    },
    {
      "cell_type": "code",
      "source": [],
      "metadata": {
        "id": "I_DP1fRd79-q"
      },
      "execution_count": 1,
      "outputs": []
    },
    {
      "cell_type": "markdown",
      "source": [
        "Re-build your model using $ReLU$ activation instead of sigmoid (same number of hidden units, you may need to adjust the learning rate to $0.01$); which activation function converges the fastest?\n",
        "NB: There is no need to put a $ReLU$ on the output layer."
      ],
      "metadata": {
        "id": "3OHJtSXSF97G"
      }
    },
    {
      "cell_type": "code",
      "source": [],
      "metadata": {
        "id": "kWjJJwplJxAI"
      },
      "execution_count": 1,
      "outputs": []
    }
  ]
}