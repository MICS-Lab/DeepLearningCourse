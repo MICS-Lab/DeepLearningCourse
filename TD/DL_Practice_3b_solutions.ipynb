{
 "cells": [
  {
   "attachments": {},
   "cell_type": "markdown",
   "metadata": {
    "collapsed": false
   },
   "source": [
    "# Simple architectures but Intermediate PyTorch tools\n",
    "## TD 3b"
   ]
  },
  {
   "cell_type": "markdown",
   "metadata": {
    "collapsed": false
   },
   "source": [
    "#### Imports"
   ]
  },
  {
   "cell_type": "code",
   "execution_count": 1,
   "metadata": {
    "collapsed": false
   },
   "outputs": [],
   "source": [
    "import matplotlib.pyplot as plt\n",
    "import torch\n",
    "import torch.nn as nn\n",
    "import pathlib\n",
    "from torch.utils.data import DataLoader\n",
    "from torchvision import datasets, transforms"
   ]
  },
  {
   "cell_type": "code",
   "execution_count": 2,
   "metadata": {
    "collapsed": false
   },
   "outputs": [
    {
     "data": {
      "text/plain": [
       "<torch._C.Generator at 0x1eeb53b9030>"
      ]
     },
     "execution_count": 2,
     "metadata": {},
     "output_type": "execute_result"
    }
   ],
   "source": [
    "torch.manual_seed(25)"
   ]
  },
  {
   "cell_type": "markdown",
   "metadata": {
    "collapsed": false
   },
   "source": [
    "As usual, we could set the device to \"cuda\" or \"cpu\" according to what your computer has. But for now, we still haven't seen the point of using GPUs, so we are not going to bother manipulating `.to_device()` (if we don't, it'll go to the CPU by default). You should understand where to put `.to_device()` by now if you want to use your GPU. Don't worry, we'll have a TD dedicated to proving the GPU can be useful in some instances."
   ]
  },
  {
   "cell_type": "code",
   "execution_count": 3,
   "metadata": {
    "collapsed": false
   },
   "outputs": [
    {
     "data": {
      "text/plain": [
       "'cuda'"
      ]
     },
     "execution_count": 3,
     "metadata": {},
     "output_type": "execute_result"
    }
   ],
   "source": [
    "# Setup device-agnostic code\n",
    "device = \"cuda\" if torch.cuda.is_available() else \"cpu\"\n",
    "device"
   ]
  },
  {
   "cell_type": "markdown",
   "metadata": {
    "collapsed": false
   },
   "source": [
    "Note, if `'cpu'` appears, it can be either one of those two things:\n",
    "1/ NVIDIA cuda is not supported by your laptop (do you have a NVIDIA GPU?)\n",
    "2/ You have cuda but you didn't configure pytorch to be installed with cuda, meaning you did `pip install torch torchvision torchaudio` and not `pip install torch torchvision torchaudio --extra-index-url https://download.pytorch.org/whl/cu116`\n",
    "\n",
    "You can use Google Colab's GPUs for this class, only worry about that if you usually understand 100% of what's happening during the TD!!!"
   ]
  },
  {
   "cell_type": "markdown",
   "metadata": {
    "collapsed": false
   },
   "source": [
    "#### Data"
   ]
  },
  {
   "cell_type": "markdown",
   "metadata": {
    "collapsed": false
   },
   "source": [
    "Before we begin, let's gather some data.\n",
    "Like a chef preparing ingredients before cooking, the data has already been set aside for us by the assistants.\n",
    "\n",
    "We'll start with a small dataset, as our goal isn't to train the largest model or use the largest dataset just yet. The data we'll be using is a subset of the `Food101` ([credit where it's due](https://data.vision.ee.ethz.ch/cvl/datasets_extra/food-101/)) dataset. This dataset is a popular benchmark in computer vision, as it contains 1,000 images of 101 different types of food, for a total of 101,000 images (75,750 for training and 25,250 for testing)."
   ]
  },
  {
   "cell_type": "markdown",
   "metadata": {
    "collapsed": false
   },
   "source": [
    "Instead of 101 food classes though, we're going to start with 3: pizza, steak and sushi."
   ]
  },
  {
   "cell_type": "markdown",
   "metadata": {
    "collapsed": false
   },
   "source": [
    "Download the whole pizza / steak / sushi dataset [here](https://drive.google.com/file/d/1c7pXjMzLHwsNv2XsyQwatNrIvkHZ-27H/view?usp=share_link) and put them nicely in folders. This is probably what will take you 60% of your time if you do Applied Deep Learning in the real world. But it's here it's pretty much ready."
   ]
  },
  {
   "cell_type": "markdown",
   "metadata": {
    "collapsed": false
   },
   "source": [
    "If you look at the new folder on your computer, all images of pizza are contained in the `pizza/` directory.\n",
    "\n",
    "This format (putting images of a class in a folder whose name is the class name) is popular across many different image classification benchmarks, including [ImageNet](https://www.image-net.org/) (of the most popular computer vision benchmark datasets)."
   ]
  },
  {
   "cell_type": "code",
   "execution_count": 4,
   "metadata": {
    "collapsed": false
   },
   "outputs": [
    {
     "data": {
      "text/plain": [
       "(WindowsPath('data/Food-3/train'), WindowsPath('data/Food-3/test'))"
      ]
     },
     "execution_count": 4,
     "metadata": {},
     "output_type": "execute_result"
    }
   ],
   "source": [
    "# Setup train and testing paths\n",
    "data_path = pathlib.Path(\"data/\")\n",
    "train_dir = data_path / \"Food-3/train\"\n",
    "test_dir = data_path / \"Food-3/test\"\n",
    "\n",
    "train_dir, test_dir"
   ]
  },
  {
   "cell_type": "markdown",
   "metadata": {
    "collapsed": false
   },
   "source": [
    "Take a closer look at the images. There is a problem, can you spot it? The images do not all have the same dimension! We are therefore going to learn how to resize images with `torchvision.transforms` (this can do a lot more, but today we're only resizing images)."
   ]
  },
  {
   "cell_type": "code",
   "execution_count": 5,
   "metadata": {
    "collapsed": false
   },
   "outputs": [],
   "source": [
    "data_transform = transforms.Compose(\n",
    "    [transforms.Resize(size=(64, 64))]  # Resize the images to 64x64*\n",
    ")\n",
    "\n",
    "# * this means we will need 64x64x3 input neurons"
   ]
  },
  {
   "cell_type": "markdown",
   "metadata": {
    "collapsed": false
   },
   "source": [
    "We will not create a `CustomDataSet` with `class CustomDataset(Dataset)` like we did in the TD 2a. Because when we deal with images, audios, etc ... nicely put in folders, there exist classes already implemented that we can use. But the way they're implemented in PyTorch is similar to how we implemented our own `CustomDataSet` inhereting from the abstract* class `Dataset`.\n",
    "\n",
    "\\* an Abstract Class is a Class we do not want to (and cannot) instantiate. We only want to inherit from it."
   ]
  },
  {
   "cell_type": "markdown",
   "metadata": {
    "collapsed": false
   },
   "source": [
    "Let's use the class [`torchvision.datasets.ImageFolder`](https://pytorch.org/vision/stable/generated/torchvision.datasets.ImageFolder.html#torchvision.datasets.ImageFolder), built-in PyTorch."
   ]
  },
  {
   "cell_type": "code",
   "execution_count": 6,
   "metadata": {
    "collapsed": false
   },
   "outputs": [],
   "source": [
    "train_data = datasets.ImageFolder(root=train_dir,  # target folder of images\n",
    "                                  transform=data_transform,  # transforms to perform on data (images)\n",
    "                                  target_transform=None)  # transforms to perform on labels (if necessary)\n",
    "\n",
    "test_data = datasets.ImageFolder(root=test_dir,\n",
    "                                 transform=data_transform)"
   ]
  },
  {
   "cell_type": "markdown",
   "metadata": {
    "collapsed": false
   },
   "source": [
    "The Class `ImageFolder` inherits from `DatasetFolder` which inherits from `VisionDataset` which has a nice method to redefine what happens when we print the object (see below!). When custom classes exist, except if you're ready to spend hours of work and you're a senior software engineer, it's usually better to take classes that are already built in."
   ]
  },
  {
   "cell_type": "code",
   "execution_count": 7,
   "metadata": {
    "collapsed": false
   },
   "outputs": [
    {
     "name": "stdout",
     "output_type": "stream",
     "text": [
      "Train data:\n",
      "Dataset ImageFolder\n",
      "    Number of datapoints: 2700\n",
      "    Root location: data\\Food-3\\train\n",
      "    StandardTransform\n",
      "Transform: Compose(\n",
      "               Resize(size=(64, 64), interpolation=bilinear, max_size=None, antialias=None)\n",
      "           )\n",
      "Test data:\n",
      "Dataset ImageFolder\n",
      "    Number of datapoints: 300\n",
      "    Root location: data\\Food-3\\test\n",
      "    StandardTransform\n",
      "Transform: Compose(\n",
      "               Resize(size=(64, 64), interpolation=bilinear, max_size=None, antialias=None)\n",
      "           )\n"
     ]
    }
   ],
   "source": [
    "print(f\"Train data:\\n{train_data}\\nTest data:\\n{test_data}\")"
   ]
  },
  {
   "cell_type": "markdown",
   "metadata": {
    "collapsed": false
   },
   "source": [
    "As a comparison, what we got from printing our CustomDataset last time is not great:\n"
   ]
  },
  {
   "cell_type": "code",
   "execution_count": 8,
   "metadata": {
    "collapsed": false
   },
   "outputs": [
    {
     "name": "stdout",
     "output_type": "stream",
     "text": [
      "<__main__.CustomDataset object at 0x000001EE8EBC3130>\n"
     ]
    }
   ],
   "source": [
    "import numpy as np\n",
    "from torch.utils.data import Dataset\n",
    "\n",
    "# Data Generation\n",
    "np.random.seed(42)\n",
    "xs = np.random.rand(100, 1)\n",
    "ys = 1 + 2 * xs + .1 * np.random.randn(100, 1)\n",
    "\n",
    "class CustomDataset(Dataset):\n",
    "    def __init__(self, x_tensor, y_tensor):\n",
    "        self.x = x_tensor\n",
    "        self.y = y_tensor\n",
    "\n",
    "    def __getitem__(self, index):\n",
    "        return self.x[index], self.y[index]\n",
    "\n",
    "    def __len__(self):\n",
    "        return len(self.x)\n",
    "\n",
    "    # def __repr__(self):\n",
    "    #     # defines what is printed when you print the object\n",
    "    #     return \"4\"\n",
    "\n",
    "xs_tensor = torch.from_numpy(xs).float()\n",
    "ys_tensor = torch.from_numpy(ys).float()\n",
    "\n",
    "train_data_custom = CustomDataset(xs_tensor, ys_tensor)\n",
    "print(train_data_custom)"
   ]
  },
  {
   "cell_type": "markdown",
   "metadata": {
    "collapsed": false
   },
   "source": [
    "Let's look at one element of our object `train_data`."
   ]
  },
  {
   "cell_type": "code",
   "execution_count": 9,
   "metadata": {
    "collapsed": false
   },
   "outputs": [
    {
     "data": {
      "text/plain": [
       "(<PIL.Image.Image image mode=RGB size=64x64>, 0)"
      ]
     },
     "execution_count": 9,
     "metadata": {},
     "output_type": "execute_result"
    }
   ],
   "source": [
    "train_data[0][0], train_data[0][1]"
   ]
  },
  {
   "cell_type": "markdown",
   "metadata": {
    "collapsed": false
   },
   "source": [
    "We don't have a tensor! That's because, we didn't tell PyTorch to transform it into a tensor. It's not automatic. Let's rewrite our function `data_transform`:"
   ]
  },
  {
   "cell_type": "code",
   "execution_count": 10,
   "metadata": {
    "collapsed": false
   },
   "outputs": [],
   "source": [
    "data_transform = transforms.Compose(\n",
    "    [transforms.Resize(size=(64, 64)), transforms.ToTensor()]  # Resize the images to 64x64*\n",
    ")\n",
    "\n",
    "# * this means we will need 64x64x3 input neurons"
   ]
  },
  {
   "cell_type": "markdown",
   "metadata": {
    "collapsed": false
   },
   "source": [
    "If we look at the [torchvision.transforms.ToTensor() documentation](https://pytorch.org/vision/main/generated/torchvision.transforms.ToTensor.html), we can see that instead of the standard pixel values from 0 to 255, we will get values from 0.0 and 1.0."
   ]
  },
  {
   "cell_type": "markdown",
   "metadata": {
    "collapsed": false
   },
   "source": [
    "Let's recreate our objects `train_data` and `test_data`:"
   ]
  },
  {
   "cell_type": "code",
   "execution_count": 11,
   "metadata": {
    "collapsed": false
   },
   "outputs": [],
   "source": [
    "train_data = datasets.ImageFolder(root=train_dir,  # target folder of images\n",
    "                                  transform=data_transform,  # transforms to perform on data (images)\n",
    "                                  target_transform=None)  # transforms to perform on labels (if necessary)\n",
    "\n",
    "test_data = datasets.ImageFolder(root=test_dir,\n",
    "                                 transform=data_transform)"
   ]
  },
  {
   "cell_type": "code",
   "execution_count": 12,
   "metadata": {
    "collapsed": false
   },
   "outputs": [
    {
     "data": {
      "text/plain": [
       "(torch.Size([3, 64, 64]), 0)"
      ]
     },
     "execution_count": 12,
     "metadata": {},
     "output_type": "execute_result"
    }
   ],
   "source": [
    "train_data[0][0].shape, train_data[0][1]"
   ]
  },
  {
   "cell_type": "markdown",
   "metadata": {
    "collapsed": false
   },
   "source": [
    "Is 0 pizza, steak or sushi? Our object `torchvision.datasets.ImageFolder` has a useful attribute `classes`."
   ]
  },
  {
   "cell_type": "code",
   "execution_count": 13,
   "metadata": {
    "collapsed": false
   },
   "outputs": [
    {
     "name": "stdout",
     "output_type": "stream",
     "text": [
      "['pizza', 'steak', 'sushi']\n"
     ]
    }
   ],
   "source": [
    "class_names = train_data.classes\n",
    "print(class_names)"
   ]
  },
  {
   "cell_type": "markdown",
   "metadata": {
    "collapsed": false
   },
   "source": [
    "It's a pizza."
   ]
  },
  {
   "cell_type": "code",
   "execution_count": 14,
   "metadata": {
    "collapsed": false
   },
   "outputs": [
    {
     "data": {
      "text/plain": [
       "torch.Size([3, 64, 64])"
      ]
     },
     "execution_count": 14,
     "metadata": {},
     "output_type": "execute_result"
    }
   ],
   "source": [
    "train_data[0][0].shape"
   ]
  },
  {
   "cell_type": "code",
   "execution_count": 15,
   "metadata": {
    "collapsed": false
   },
   "outputs": [
    {
     "data": {
      "text/plain": [
       "torch.Size([3, 64, 64])"
      ]
     },
     "execution_count": 15,
     "metadata": {},
     "output_type": "execute_result"
    }
   ],
   "source": [
    "test_data[0][0].shape"
   ]
  },
  {
   "cell_type": "markdown",
   "metadata": {
    "collapsed": false
   },
   "source": [
    "Our images are now in the form of a tensor with shape `[3, 64, 64]`. If we want to plot them, it's possible, however, `matplotlib` wants `HWC` (Height, Width, Color channels), therefore we need to reshape `[3, 64, 64]` in `[64, 64, 3]`. This is something you should feel comfortable doing (this StackOverflow answer can help https://stackoverflow.com/a/51145633/11092636 understanding the two main methods `.permute` and `.view`; here we want to swap axes, we will therefore use `.permute`)."
   ]
  },
  {
   "cell_type": "code",
   "execution_count": 16,
   "metadata": {
    "collapsed": false
   },
   "outputs": [
    {
     "name": "stdout",
     "output_type": "stream",
     "text": [
      "torch.Size([64, 64, 3])\n"
     ]
    }
   ],
   "source": [
    "my_pizza = train_data[0][0]\n",
    "my_label = train_data[0][1]\n",
    "my_pizza_reshaped = my_pizza.permute(1, 2, 0)\n",
    "print(my_pizza_reshaped.shape)"
   ]
  },
  {
   "cell_type": "code",
   "execution_count": 17,
   "metadata": {
    "collapsed": false
   },
   "outputs": [
    {
     "data": {
      "image/png": "[encoded data removed]",
      "text/plain": [
       "<Figure size 1000x700 with 1 Axes>"
      ]
     },
     "metadata": {},
     "output_type": "display_data"
    }
   ],
   "source": [
    "# Plot the image\n",
    "plt.figure(figsize=(10, 7))\n",
    "plt.imshow(my_pizza_reshaped)\n",
    "plt.axis(\"off\")\n",
    "plt.title(class_names[my_label], fontsize=14);"
   ]
  },
  {
   "cell_type": "markdown",
   "metadata": {
    "collapsed": false
   },
   "source": [
    "If you remember correctly last TD, after getting our data as a PyTorch `Dataset` we need to turn them into a `DataLoader`.\n",
    "\n",
    "We'll do so using [`torch.utils.data.DataLoader`](https://pytorch.org/docs/stable/data.html#torch.utils.data.DataLoader).\n",
    "\n",
    "Reminder: turning our `Dataset`'s into `DataLoader`'s makes them iterable so a model can go through learn the relationships between samples and targets (features and labels).\n",
    "\n",
    "To keep things simple, we'll use a `batch_size=1`."
   ]
  },
  {
   "cell_type": "code",
   "execution_count": 18,
   "metadata": {
    "collapsed": false
   },
   "outputs": [],
   "source": [
    "train_dataloader = DataLoader(\n",
    "    dataset=train_data,\n",
    "    batch_size=4,  # how many samples per batch?\n",
    "    shuffle=True  # shuffle the data?\n",
    ")\n",
    "\n",
    "test_dataloader = DataLoader(\n",
    "    dataset=test_data,\n",
    "    batch_size=4,\n",
    "    shuffle=False\n",
    ") # don't usually need to shuffle testing data"
   ]
  },
  {
   "cell_type": "markdown",
   "metadata": {
    "collapsed": false
   },
   "source": [
    "Let's create our neural network"
   ]
  },
  {
   "cell_type": "code",
   "execution_count": 19,
   "metadata": {
    "collapsed": false
   },
   "outputs": [],
   "source": [
    "class Net(nn.Module):\n",
    "    def __init__(self, hidden_units=200):\n",
    "        super(Net, self).__init__()\n",
    "        self.fc1 = nn.Linear(64*64*3, hidden_units)\n",
    "        self.fc2 = nn.Linear(hidden_units, 3)\n",
    "\n",
    "    def forward(self, x):\n",
    "        x = nn.ReLU()(self.fc1(x))\n",
    "        x = self.fc2(x)\n",
    "        return x\n",
    "\n",
    "model = Net()"
   ]
  },
  {
   "cell_type": "markdown",
   "metadata": {
    "collapsed": false
   },
   "source": [
    "Let's do a forward pass to test the model when it's not been trained."
   ]
  },
  {
   "cell_type": "code",
   "execution_count": 20,
   "metadata": {
    "collapsed": false
   },
   "outputs": [
    {
     "name": "stdout",
     "output_type": "stream",
     "text": [
      "0.36000001430511475\n"
     ]
    }
   ],
   "source": [
    "def test_our_model():  # no arguments, literally all our variable our globals (not great but it's a notebook)\n",
    "    # Put model in eval mode\n",
    "    model.eval()  # to remove stuff like dropout that's only going to be in the training part\n",
    "\n",
    "    # Setup test accuracy value\n",
    "    test_acc = 0\n",
    "\n",
    "    # Turn on inference context manager\n",
    "    with torch.no_grad():\n",
    "        # Loop through DataLoader batches\n",
    "        for X_test, y_test in test_dataloader:  # majuscule à X car c'est une \"matrice\", et y un entier\n",
    "            # 1. Forward pass\n",
    "            # print(X_test.shape)\n",
    "            # print(X_test.view(-1, 64*64*3).shape)\n",
    "            # break\n",
    "            model_output = model(X_test.view(-1, 64*64*3))\n",
    "\n",
    "            # 2. Calculate and accumulate accuracy\n",
    "            test_pred_label = model_output.argmax(dim=1)\n",
    "            test_acc += (test_pred_label == y_test).sum()  # True == 1, False == 0\n",
    "\n",
    "    # Adjust metrics to get average loss and accuracy per batch\n",
    "    test_acc = test_acc / (test_dataloader.batch_size*len(test_dataloader))\n",
    "    print(test_acc.item())\n",
    "\n",
    "test_our_model()"
   ]
  },
  {
   "cell_type": "markdown",
   "metadata": {
    "collapsed": false
   },
   "source": [
    "Let's train the model"
   ]
  },
  {
   "cell_type": "code",
   "execution_count": 21,
   "metadata": {
    "collapsed": false
   },
   "outputs": [],
   "source": [
    "loss_fn = nn.CrossEntropyLoss()\n",
    "optimizer_adam = torch.optim.Adam(params=model.parameters(), lr=0.001)\n",
    "optimizer_sgd = torch.optim.SGD(model.parameters(), lr=0.1)\n",
    "\n",
    "nbr_epochs: int = 20\n",
    "\n",
    "def train(optimizer):\n",
    "    # Put model in train mode\n",
    "    model.train()\n",
    "\n",
    "    # Setup train loss and train accuracy values\n",
    "    train_loss, train_acc = 0, 0\n",
    "    for epoch in range(nbr_epochs):\n",
    "        # Loop through data loader data batches\n",
    "        for X, y in train_dataloader:\n",
    "            # 1. Forward pass\n",
    "            y_pred = model(X.view(-1, 64*64*3))\n",
    "\n",
    "            # 2. Calculate  and accumulate loss\n",
    "            loss = loss_fn(y_pred, y)\n",
    "            train_loss += loss.item()\n",
    "\n",
    "            # 3. Optimizer zero grad\n",
    "            optimizer.zero_grad()\n",
    "\n",
    "            # 4. Loss backward\n",
    "            loss.backward()\n",
    "\n",
    "            # 5. Optimizer step\n",
    "            optimizer.step()\n",
    "\n",
    "            # Calculate and accumulate accuracy metric across all batches\n",
    "            y_pred_class = y_pred.argmax(dim=1)\n",
    "            train_acc += (y_pred_class == y).sum()\n",
    "\n",
    "        # Adjust metrics to get average loss and accuracy per batch\n",
    "        train_loss = train_loss / (train_dataloader.batch_size * len(train_dataloader))\n",
    "        train_acc = train_acc / (train_dataloader.batch_size * len(train_dataloader))\n",
    "        print(\n",
    "            f\"epoch {epoch+1}/{nbr_epochs},\"\n",
    "            f\" train_loss = {train_loss:.2e},\"\n",
    "            f\" train_acc = {100*train_acc.item():.2f}%\"\n",
    "        )"
   ]
  },
  {
   "cell_type": "code",
   "execution_count": 22,
   "metadata": {
    "collapsed": false
   },
   "outputs": [
    {
     "name": "stdout",
     "output_type": "stream",
     "text": [
      "epoch 1/20, train_loss = 2.72e-01, train_acc = 50.48%\n",
      "epoch 2/20, train_loss = 2.31e-01, train_acc = 53.87%\n",
      "epoch 3/20, train_loss = 2.30e-01, train_acc = 55.72%\n",
      "epoch 4/20, train_loss = 2.21e-01, train_acc = 57.43%\n",
      "epoch 5/20, train_loss = 2.15e-01, train_acc = 59.98%\n",
      "epoch 6/20, train_loss = 2.10e-01, train_acc = 61.69%\n",
      "epoch 7/20, train_loss = 2.05e-01, train_acc = 62.06%\n",
      "epoch 8/20, train_loss = 2.05e-01, train_acc = 62.87%\n",
      "epoch 9/20, train_loss = 2.03e-01, train_acc = 63.50%\n",
      "epoch 10/20, train_loss = 1.98e-01, train_acc = 64.80%\n",
      "epoch 11/20, train_loss = 2.03e-01, train_acc = 62.80%\n",
      "epoch 12/20, train_loss = 1.95e-01, train_acc = 65.84%\n",
      "epoch 13/20, train_loss = 1.89e-01, train_acc = 66.73%\n",
      "epoch 14/20, train_loss = 1.89e-01, train_acc = 67.40%\n",
      "epoch 15/20, train_loss = 1.86e-01, train_acc = 68.40%\n",
      "epoch 16/20, train_loss = 1.83e-01, train_acc = 67.73%\n",
      "epoch 17/20, train_loss = 1.78e-01, train_acc = 69.88%\n",
      "epoch 18/20, train_loss = 1.76e-01, train_acc = 68.99%\n",
      "epoch 19/20, train_loss = 1.73e-01, train_acc = 70.03%\n",
      "epoch 20/20, train_loss = 1.68e-01, train_acc = 71.17%\n"
     ]
    }
   ],
   "source": [
    "train(optimizer_adam)"
   ]
  },
  {
   "attachments": {},
   "cell_type": "markdown",
   "metadata": {},
   "source": [
    "Now let's test our trained model:"
   ]
  },
  {
   "cell_type": "code",
   "execution_count": 23,
   "metadata": {
    "collapsed": false
   },
   "outputs": [
    {
     "name": "stdout",
     "output_type": "stream",
     "text": [
      "0.5433333516120911\n"
     ]
    }
   ],
   "source": [
    "test_our_model()"
   ]
  },
  {
   "attachments": {},
   "cell_type": "markdown",
   "metadata": {
    "collapsed": false
   },
   "source": [
    "We went from 32% to 54.33% (depends on your seed and the optimizer you used), pretty good with that small of a dataset and that basic of a neural network!"
   ]
  },
  {
   "attachments": {},
   "cell_type": "markdown",
   "metadata": {
    "collapsed": false
   },
   "source": [
    "We will \"scale up\" the number of images in the next class, and we will add some techniques we've seen in the class today to try and improve even more our accuracy!!\n",
    "\n",
    "Keep in mind though, if you train your data on both optimizers and decide you picked one optimizer because the accuracy on your testing set is better with that optimizer, you've effectively got information from the testing dataset which is not independent anymore, it has therefore inherently become a validation set; and you need an extra independent validation set."
   ]
  },
  {
   "cell_type": "markdown",
   "metadata": {
    "collapsed": false
   },
   "source": [
    "It's just numbers though, let's check the predictions are actually correct on some examples by showing the images, the expected label and the predicted label."
   ]
  },
  {
   "cell_type": "code",
   "execution_count": 24,
   "metadata": {
    "collapsed": false
   },
   "outputs": [
    {
     "name": "stdout",
     "output_type": "stream",
     "text": [
      "tensor(0.3529)\n",
      "tensor(0.3412)\n"
     ]
    }
   ],
   "source": [
    "my_iterable = iter(test_dataloader)\n",
    "X_test_one, y_test_one = next(my_iterable)\n",
    "print(X_test_one[0][0][0][0])\n",
    "X_test_one, y_test_one = next(my_iterable)\n",
    "print(X_test_one[0][0][0][0])"
   ]
  },
  {
   "attachments": {},
   "cell_type": "markdown",
   "metadata": {},
   "source": [
    "Execute this cell several times to iterate through the testing set and see how your model performs:"
   ]
  },
  {
   "cell_type": "code",
   "execution_count": 25,
   "metadata": {
    "collapsed": false
   },
   "outputs": [
    {
     "name": "stdout",
     "output_type": "stream",
     "text": [
      "Predicted class: pizza\n",
      "Actual class: pizza\n"
     ]
    },
    {
     "data": {
      "image/png": "[encoded data removed]",
      "text/plain": [
       "<Figure size 1000x700 with 1 Axes>"
      ]
     },
     "metadata": {},
     "output_type": "display_data"
    }
   ],
   "source": [
    "X_test_one_batch, y_test_one_batch = next(my_iterable)\n",
    "X_test_one, y_test_one = X_test_one_batch[0], y_test_one_batch[0]\n",
    "\n",
    "# 0. Eval mode\n",
    "model.eval()\n",
    "\n",
    "# 1. Forward pass\n",
    "model_output = model(X_test_one.view(-1, 64*64*3))\n",
    "\n",
    "# 2. Calculate predicted label\n",
    "test_pred_label = model_output.argmax()\n",
    "\n",
    "# 3. Display\n",
    "print(f\"Predicted class: {class_names[test_pred_label]}\")\n",
    "print(f\"Actual class: {class_names[y_test_one]}\")\n",
    "plt.figure(figsize=(10, 7))\n",
    "plt.imshow(X_test_one.permute(1, 2, 0))\n",
    "_ = plt.axis(\"off\")"
   ]
  }
 ],
 "metadata": {
  "kernelspec": {
   "display_name": "DL_NLP_2022-2023",
   "language": "python",
   "name": "dl_nlp_2022-2023"
  },
  "language_info": {
   "codemirror_mode": {
    "name": "ipython",
    "version": 3
   },
   "file_extension": ".py",
   "mimetype": "text/x-python",
   "name": "python",
   "nbconvert_exporter": "python",
   "pygments_lexer": "ipython3",
   "version": "3.10.2"
  },
  "vscode": {
   "interpreter": {
    "hash": "a61f982c8ae83496d3304782998ac96a47f5fcf9bfc174247e19a8162c5490e4"
   }
  }
 },
 "nbformat": 4,
 "nbformat_minor": 0
}
