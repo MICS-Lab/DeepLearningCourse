{
  "cells": [
    {
      "cell_type": "code",
      "execution_count": null,
      "metadata": {
        "id": "Rz7OMvxAOLe8"
      },
      "outputs": [],
      "source": [
        "import torch\n",
        "import torch.nn as nn\n",
        "import torch.optim as optim\n",
        "import torchvision\n",
        "import torchvision.transforms as transforms\n",
        "import matplotlib.pyplot as plt\n",
        "import PIL.Image as Image\n",
        "\n",
        "torch.manual_seed(0)\n",
        "device = torch.device(\"cuda\" if torch.cuda.is_available() else \"cpu\")"
      ]
    },
    {
      "cell_type": "code",
      "execution_count": 2,
      "metadata": {
        "id": "hna6KYyvUihc"
      },
      "outputs": [
        {
          "name": "stdout",
          "output_type": "stream",
          "text": [
            "Downloading http://yann.lecun.com/exdb/mnist/train-images-idx3-ubyte.gz\n",
            "Downloading http://yann.lecun.com/exdb/mnist/train-images-idx3-ubyte.gz to ./data\\MNIST\\raw\\train-images-idx3-ubyte.gz\n"
          ]
        },
        {
          "name": "stderr",
          "output_type": "stream",
          "text": [
            "100%|██████████| 9912422/9912422 [00:00<00:00, 812295317.67it/s]\n"
          ]
        },
        {
          "name": "stdout",
          "output_type": "stream",
          "text": [
            "Extracting ./data\\MNIST\\raw\\train-images-idx3-ubyte.gz to ./data\\MNIST\\raw\n",
            "\n",
            "Downloading http://yann.lecun.com/exdb/mnist/train-labels-idx1-ubyte.gz\n",
            "Downloading http://yann.lecun.com/exdb/mnist/train-labels-idx1-ubyte.gz to ./data\\MNIST\\raw\\train-labels-idx1-ubyte.gz\n"
          ]
        },
        {
          "name": "stderr",
          "output_type": "stream",
          "text": [
            "100%|██████████| 28881/28881 [00:00<00:00, 29545291.18it/s]"
          ]
        },
        {
          "name": "stdout",
          "output_type": "stream",
          "text": [
            "Extracting ./data\\MNIST\\raw\\train-labels-idx1-ubyte.gz to ./data\\MNIST\\raw\n",
            "\n",
            "Downloading http://yann.lecun.com/exdb/mnist/t10k-images-idx3-ubyte.gz\n"
          ]
        },
        {
          "name": "stderr",
          "output_type": "stream",
          "text": [
            "\n"
          ]
        },
        {
          "name": "stdout",
          "output_type": "stream",
          "text": [
            "Downloading http://yann.lecun.com/exdb/mnist/t10k-images-idx3-ubyte.gz to ./data\\MNIST\\raw\\t10k-images-idx3-ubyte.gz\n"
          ]
        },
        {
          "name": "stderr",
          "output_type": "stream",
          "text": [
            "100%|██████████| 1648877/1648877 [00:00<00:00, 658907335.80it/s]\n"
          ]
        },
        {
          "name": "stdout",
          "output_type": "stream",
          "text": [
            "Extracting ./data\\MNIST\\raw\\t10k-images-idx3-ubyte.gz to ./data\\MNIST\\raw\n",
            "\n",
            "Downloading http://yann.lecun.com/exdb/mnist/t10k-labels-idx1-ubyte.gz\n",
            "Downloading http://yann.lecun.com/exdb/mnist/t10k-labels-idx1-ubyte.gz to ./data\\MNIST\\raw\\t10k-labels-idx1-ubyte.gz\n"
          ]
        },
        {
          "name": "stderr",
          "output_type": "stream",
          "text": [
            "100%|██████████| 4542/4542 [00:00<?, ?it/s]"
          ]
        },
        {
          "name": "stdout",
          "output_type": "stream",
          "text": [
            "Extracting ./data\\MNIST\\raw\\t10k-labels-idx1-ubyte.gz to ./data\\MNIST\\raw\n",
            "\n"
          ]
        },
        {
          "name": "stderr",
          "output_type": "stream",
          "text": [
            "\n"
          ]
        }
      ],
      "source": [
        "transform = transforms.Compose([\n",
        "    transforms.ToTensor(),\n",
        "    transforms.Normalize((0.5,),(0.5,))\n",
        "])\n",
        "\n",
        "trainset = torchvision.datasets.MNIST(root='./data', train=True, download=True, transform=transform)\n",
        "testset = torchvision.datasets.MNIST(root='./data', train=False, download=True, transform=transform)\n",
        "\n",
        "train_dl = torch.utils.data.DataLoader(trainset, batch_size=2**12, shuffle=True)\n",
        "test_dl = torch.utils.data.DataLoader(testset, batch_size=2**12, shuffle=False) "
      ]
    },
    {
      "cell_type": "code",
      "execution_count": 3,
      "metadata": {
        "colab": {
          "base_uri": "https://localhost:8080/"
        },
        "id": "kUiJ7O1cUikg",
        "outputId": "6344c341-fac4-4274-f0cc-1ea8fa03e257"
      },
      "outputs": [
        {
          "name": "stdout",
          "output_type": "stream",
          "text": [
            "torch.Size([4096, 1, 28, 28])\n"
          ]
        },
        {
          "data": {
            "text/plain": [
              "torch.Size([1, 28, 28])"
            ]
          },
          "execution_count": 3,
          "metadata": {},
          "output_type": "execute_result"
        }
      ],
      "source": [
        "for x,y in train_dl:\n",
        "  print(x.shape)\n",
        "  break\n",
        "x.shape\n",
        "im = x[0]\n",
        "im.shape"
      ]
    },
    {
      "cell_type": "code",
      "execution_count": 4,
      "metadata": {
        "colab": {
          "base_uri": "https://localhost:8080/"
        },
        "id": "F2cSMCaMUim1",
        "outputId": "55229b7e-5a4c-4bf6-8b43-2430215138a2"
      },
      "outputs": [
        {
          "data": {
            "text/plain": [
              "torch.Size([1, 14, 14])"
            ]
          },
          "execution_count": 4,
          "metadata": {},
          "output_type": "execute_result"
        }
      ],
      "source": [
        "def degrade(x):\n",
        "  return transforms.Resize(size=(14,14))(x)\n",
        "im_down = degrade(im)\n",
        "im_down.shape"
      ]
    },
    {
      "cell_type": "code",
      "execution_count": 5,
      "metadata": {
        "colab": {
          "base_uri": "https://localhost:8080/"
        },
        "id": "tdO9Y9gCkeKc",
        "outputId": "529c8554-c35e-459b-85ce-d40abadc600a"
      },
      "outputs": [
        {
          "data": {
            "text/plain": [
              "torch.Size([1, 28, 28])"
            ]
          },
          "execution_count": 5,
          "metadata": {},
          "output_type": "execute_result"
        }
      ],
      "source": [
        "def linear_upgrade (x):\n",
        "  return transforms.Resize(size=(28,28))(x)\n",
        "im_up = linear_upgrade(im_down)\n",
        "im_up.shape"
      ]
    },
    {
      "cell_type": "code",
      "execution_count": 6,
      "metadata": {
        "colab": {
          "base_uri": "https://localhost:8080/",
          "height": 129
        },
        "id": "kP50ZlBQUipd",
        "outputId": "ea322190-b129-47f4-c697-5a484f05cd62"
      },
      "outputs": [
        {
          "data": {
            "image/png": "[encoded data removed]",
            "text/plain": [
              "<Figure size 640x480 with 3 Axes>"
            ]
          },
          "metadata": {},
          "output_type": "display_data"
        }
      ],
      "source": [
        "plt.subplot(1,3,1)\n",
        "plt.imshow(im[0],cmap='gray')\n",
        "plt.axis('off')\n",
        "plt.subplot(1,3,2)\n",
        "plt.imshow(im_down[0],cmap='gray')\n",
        "plt.axis('off')\n",
        "plt.subplot(1,3,3)\n",
        "plt.imshow(im_up[0],cmap='gray')\n",
        "plt.axis('off')\n",
        "plt.show()"
      ]
    },
    {
      "cell_type": "code",
      "execution_count": 7,
      "metadata": {
        "colab": {
          "base_uri": "https://localhost:8080/"
        },
        "id": "PG0M-5jDUisk",
        "outputId": "2ca74bfc-9bd1-4c38-8578-6e25b8e195ea"
      },
      "outputs": [
        {
          "data": {
            "text/plain": [
              "torch.Size([28, 28])"
            ]
          },
          "execution_count": 7,
          "metadata": {},
          "output_type": "execute_result"
        }
      ],
      "source": [
        "class Upscale(nn.Module):\n",
        "  def __init__(self, hidden_units1, hidden_units2):\n",
        "    super(Upscale, self).__init__()\n",
        "    self.fc1 = nn.Linear(14*14,hidden_units1)\n",
        "    self.fc2 = nn.Linear(hidden_units1,hidden_units2)\n",
        "    self.fc3 = nn.Linear(hidden_units2, 28*28)\n",
        "  def forward(self,x):\n",
        "    x = nn.ReLU()(self.fc1(x))\n",
        "    x = nn.ReLU()(self.fc2(x))\n",
        "    x = nn.Tanh()(self.fc3(x))\n",
        "    return x\n",
        "\n",
        "model = Upscale(256, 512)\n",
        "im_up_model = model(im_down.flatten()).reshape(28,28)\n",
        "im_up_model.shape"
      ]
    },
    {
      "cell_type": "code",
      "execution_count": 8,
      "metadata": {
        "colab": {
          "base_uri": "https://localhost:8080/",
          "height": 104
        },
        "id": "WldqQFyjlx6y",
        "outputId": "2f03f156-31a4-41a9-f7a9-b568e1456cdd"
      },
      "outputs": [
        {
          "data": {
            "image/png": "[encoded data removed]",
            "text/plain": [
              "<Figure size 640x480 with 4 Axes>"
            ]
          },
          "metadata": {},
          "output_type": "display_data"
        }
      ],
      "source": [
        "plt.subplot(1,4,1)\n",
        "plt.imshow(im[0],cmap='gray')\n",
        "plt.axis('off')\n",
        "plt.subplot(1,4,2)\n",
        "plt.imshow(im_down[0],cmap='gray')\n",
        "plt.axis('off')\n",
        "plt.subplot(1,4,3)\n",
        "plt.imshow(im_up[0],cmap='gray')\n",
        "plt.axis('off')\n",
        "plt.subplot(1,4,4)\n",
        "plt.imshow(im_up_model.detach(),cmap='gray')\n",
        "plt.axis('off')\n",
        "plt.show()"
      ]
    },
    {
      "cell_type": "code",
      "execution_count": 9,
      "metadata": {
        "colab": {
          "base_uri": "https://localhost:8080/"
        },
        "id": "5plyvTVApo6O",
        "outputId": "425c95fe-6510-47aa-cf12-ba3af6eb3ca5"
      },
      "outputs": [
        {
          "data": {
            "text/plain": [
              "(Adam (\n",
              " Parameter Group 0\n",
              "     amsgrad: False\n",
              "     betas: (0.9, 0.999)\n",
              "     capturable: False\n",
              "     differentiable: False\n",
              "     eps: 1e-08\n",
              "     foreach: None\n",
              "     fused: False\n",
              "     lr: 0.001\n",
              "     maximize: False\n",
              "     weight_decay: 0\n",
              " ),\n",
              " MSELoss())"
            ]
          },
          "execution_count": 9,
          "metadata": {},
          "output_type": "execute_result"
        }
      ],
      "source": [
        "lr = 1e-3\n",
        "optimizer = optim.Adam(model.parameters(), lr= lr)\n",
        "loss = nn.MSELoss()\n",
        "optimizer, loss"
      ]
    },
    {
      "cell_type": "code",
      "execution_count": 10,
      "metadata": {
        "colab": {
          "base_uri": "https://localhost:8080/",
          "height": 850
        },
        "id": "Z-4VJG0Tpo84",
        "outputId": "dd72c9a3-68c9-4943-c7f3-41ad1ed66a21"
      },
      "outputs": [
        {
          "name": "stdout",
          "output_type": "stream",
          "text": [
            " 1/10 loss: 0.00010572031140327454\n",
            " 2/10 loss: 5.939956232905388e-05\n",
            " 3/10 loss: 4.696717212597529e-05\n",
            " 4/10 loss: 3.897670259078344e-05\n",
            " 5/10 loss: 3.3293130621314046e-05\n",
            " 6/10 loss: 2.92199544608593e-05\n",
            " 7/10 loss: 2.5921713436643284e-05\n",
            " 8/10 loss: 2.331374337275823e-05\n",
            " 9/10 loss: 2.136096979180972e-05\n",
            "10/10 loss: 1.985477643708388e-05\n"
          ]
        }
      ],
      "source": [
        "model.train()\n",
        "N_epochs = 10\n",
        "tr_losses=[]\n",
        "for epoch in range(N_epochs):\n",
        "  training_loss = 0\n",
        "  for X, y in train_dl:\n",
        "    X_down = degrade(X)\n",
        "    X_up = model(X_down.flatten(start_dim=1))\n",
        "    loss_val = loss(X.flatten(start_dim=1),X_up)\n",
        "    training_loss += loss_val.item()\n",
        "    optimizer.zero_grad()\n",
        "    loss_val.backward()\n",
        "    optimizer.step()\n",
        "  training_loss /= len(train_dl.dataset)\n",
        "  tr_losses.append(training_loss)\n",
        "  print(f'{epoch+1:2d}/{N_epochs} loss: {training_loss}')\n"
      ]
    },
    {
      "cell_type": "code",
      "execution_count": 11,
      "metadata": {
        "colab": {
          "base_uri": "https://localhost:8080/",
          "height": 265
        },
        "id": "oI-yFEQ_tmGW",
        "outputId": "02b1cb73-a9e6-4ecd-cbc9-01cba9e80c2c"
      },
      "outputs": [
        {
          "data": {
            "image/png": "[encoded data removed]",
            "text/plain": [
              "<Figure size 640x480 with 1 Axes>"
            ]
          },
          "metadata": {},
          "output_type": "display_data"
        }
      ],
      "source": [
        "plt.semilogy(tr_losses)\n",
        "plt.show()"
      ]
    },
    {
      "cell_type": "code",
      "execution_count": 12,
      "metadata": {
        "colab": {
          "base_uri": "https://localhost:8080/"
        },
        "id": "ed_HSyO1po_F",
        "outputId": "71c894fe-3b88-45e7-ed75-7025cce6f589"
      },
      "outputs": [
        {
          "name": "stdout",
          "output_type": "stream",
          "text": [
            "2.250218912959099e-05\n"
          ]
        }
      ],
      "source": [
        "model.eval()\n",
        "test_loss = 0\n",
        "for X,y in test_dl:\n",
        "  X_down = degrade(X)\n",
        "  X_up = model(X_down.flatten(start_dim=1))\n",
        "  loss_val = loss(X.flatten(start_dim=1),X_up)\n",
        "  test_loss += loss_val.item()\n",
        "print(test_loss / len(test_dl.dataset))"
      ]
    },
    {
      "cell_type": "code",
      "execution_count": 13,
      "metadata": {
        "colab": {
          "base_uri": "https://localhost:8080/"
        },
        "id": "VHO8wkMUppBL",
        "outputId": "9473ac76-660d-48f4-ef23-8c1876e4a363"
      },
      "outputs": [
        {
          "data": {
            "text/plain": [
              "torch.Size([10, 1, 28, 28])"
            ]
          },
          "execution_count": 13,
          "metadata": {},
          "output_type": "execute_result"
        }
      ],
      "source": [
        "for X,y in test_dl:\n",
        "  break\n",
        "X = X[:10]\n",
        "X.shape"
      ]
    },
    {
      "cell_type": "code",
      "execution_count": 14,
      "metadata": {
        "colab": {
          "base_uri": "https://localhost:8080/",
          "height": 887
        },
        "id": "dMYkDQoJppDZ",
        "outputId": "e829c265-ff6d-49ef-83da-54801955abb5"
      },
      "outputs": [
        {
          "data": {
            "image/png": "[encoded data removed]",
            "text/plain": [
              "<Figure size 640x480 with 4 Axes>"
            ]
          },
          "metadata": {},
          "output_type": "display_data"
        },
        {
          "data": {
            "image/png": "[encoded data removed]",
            "text/plain": [
              "<Figure size 640x480 with 4 Axes>"
            ]
          },
          "metadata": {},
          "output_type": "display_data"
        },
        {
          "data": {
            "image/png": "[encoded data removed]",
            "text/plain": [
              "<Figure size 640x480 with 4 Axes>"
            ]
          },
          "metadata": {},
          "output_type": "display_data"
        },
        {
          "data": {
            "image/png": "[encoded data removed]",
            "text/plain": [
              "<Figure size 640x480 with 4 Axes>"
            ]
          },
          "metadata": {},
          "output_type": "display_data"
        },
        {
          "data": {
            "image/png": "[encoded data removed]",
            "text/plain": [
              "<Figure size 640x480 with 4 Axes>"
            ]
          },
          "metadata": {},
          "output_type": "display_data"
        },
        {
          "data": {
            "image/png": "[encoded data removed]",
            "text/plain": [
              "<Figure size 640x480 with 4 Axes>"
            ]
          },
          "metadata": {},
          "output_type": "display_data"
        },
        {
          "data": {
            "image/png": "[encoded data removed]",
            "text/plain": [
              "<Figure size 640x480 with 4 Axes>"
            ]
          },
          "metadata": {},
          "output_type": "display_data"
        },
        {
          "data": {
            "image/png": "[encoded data removed]",
            "text/plain": [
              "<Figure size 640x480 with 4 Axes>"
            ]
          },
          "metadata": {},
          "output_type": "display_data"
        },
        {
          "data": {
            "image/png": "[encoded data removed]",
            "text/plain": [
              "<Figure size 640x480 with 4 Axes>"
            ]
          },
          "metadata": {},
          "output_type": "display_data"
        },
        {
          "data": {
            "image/png": "[encoded data removed]",
            "text/plain": [
              "<Figure size 640x480 with 4 Axes>"
            ]
          },
          "metadata": {},
          "output_type": "display_data"
        }
      ],
      "source": [
        "for im in X:\n",
        "  im_down = degrade(im)\n",
        "  im_up_linear = linear_upgrade(im_down)\n",
        "  im_up_model = model(im_down.flatten(start_dim=1)).reshape(28, 28)\n",
        "  plt.subplot(1,4,1)\n",
        "  plt.imshow(im[0],cmap='gray')\n",
        "  plt.axis('off')\n",
        "  plt.subplot(1,4,2)\n",
        "  plt.imshow(im_down[0],cmap='gray')\n",
        "  plt.axis('off')\n",
        "  plt.subplot(1,4,3)\n",
        "  plt.imshow(im_up_linear[0],cmap='gray')\n",
        "  plt.axis('off')\n",
        "  plt.subplot(1,4,4)\n",
        "  plt.imshow(im_up_model.detach(),cmap='gray')\n",
        "  plt.axis('off')\n",
        "  plt.show()"
      ]
    },
    {
      "cell_type": "code",
      "execution_count": 15,
      "metadata": {
        "colab": {
          "base_uri": "https://localhost:8080/",
          "height": 479
        },
        "id": "HOe1lbv2ppGh",
        "outputId": "06539469-3009-4329-a502-34263fc9dd04"
      },
      "outputs": [
        {
          "data": {
            "image/png": "[encoded data removed]",
            "text/plain": [
              "<Figure size 640x480 with 1 Axes>"
            ]
          },
          "metadata": {},
          "output_type": "display_data"
        },
        {
          "data": {
            "image/png": "[encoded data removed]",
            "text/plain": [
              "<Figure size 640x480 with 1 Axes>"
            ]
          },
          "metadata": {},
          "output_type": "display_data"
        }
      ],
      "source": [
        "i = Image.open(\"data/one.png\")\n",
        "i = transform(i)\n",
        "i = torch.mean(i, 0)\n",
        "i = -i\n",
        "plt.imshow(i, cmap='gray')\n",
        "plt.axis('off')\n",
        "plt.show()\n",
        "output = model(i.flatten()).detach()\n",
        "output = output.view((28,28))\n",
        "plt.imshow(output, cmap='gray')\n",
        "plt.axis('off')\n",
        "plt.show()"
      ]
    },
    {
      "cell_type": "code",
      "execution_count": 17,
      "metadata": {
        "colab": {
          "base_uri": "https://localhost:8080/",
          "height": 479
        },
        "id": "x5yAsKVc5Cdz",
        "outputId": "548b25eb-d554-4681-d8ec-2a1a8c7224df"
      },
      "outputs": [
        {
          "data": {
            "image/png": "[encoded data removed]",
            "text/plain": [
              "<Figure size 640x480 with 1 Axes>"
            ]
          },
          "metadata": {},
          "output_type": "display_data"
        },
        {
          "data": {
            "image/png": "[encoded data removed]",
            "text/plain": [
              "<Figure size 640x480 with 1 Axes>"
            ]
          },
          "metadata": {},
          "output_type": "display_data"
        }
      ],
      "source": [
        "i = Image.open(\"data/seven.png\")\n",
        "i = transform(i)\n",
        "i = torch.mean(i, 0)\n",
        "i = -i\n",
        "plt.imshow(i, cmap='gray')\n",
        "plt.axis('off')\n",
        "plt.show()\n",
        "output = model(i.flatten()).detach()\n",
        "output = output.view((28,28))\n",
        "plt.imshow(output, cmap='gray')\n",
        "plt.axis('off')\n",
        "plt.show()"
      ]
    }
  ],
  "metadata": {
    "colab": {
      "provenance": []
    },
    "kernelspec": {
      "display_name": "Python 3",
      "name": "python3"
    },
    "language_info": {
      "codemirror_mode": {
        "name": "ipython",
        "version": 3
      },
      "file_extension": ".py",
      "mimetype": "text/x-python",
      "name": "python",
      "nbconvert_exporter": "python",
      "pygments_lexer": "ipython3",
      "version": "3.10.7"
    }
  },
  "nbformat": 4,
  "nbformat_minor": 0
}
