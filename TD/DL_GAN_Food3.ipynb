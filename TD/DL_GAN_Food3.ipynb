{
 "cells": [
  {
   "cell_type": "code",
   "execution_count": null,
   "metadata": {},
   "outputs": [],
   "source": [
    "import torch\n",
    "import torch.nn as nn\n",
    "from torchvision import datasets, transforms\n",
    "from torch.utils.data import DataLoader\n",
    "from torchvision import transforms\n",
    "import matplotlib.pyplot as plt\n",
    "import numpy as np"
   ]
  },
  {
   "cell_type": "code",
   "execution_count": null,
   "metadata": {},
   "outputs": [],
   "source": [
    "\n",
    "# Setup train and testing paths\n",
    "train_dir = \"data/Food-3/train\"\n",
    "test_dir = \"data/Food-3/test\"\n",
    "\n",
    "data_transform = transforms.Compose(\n",
    "    [transforms.Resize(size=(64, 64)), transforms.ToTensor()]  # Resize the images to 64x64*\n",
    ")\n",
    "\n",
    "\n",
    "train_data = datasets.ImageFolder(root=train_dir,  # target folder of images\n",
    "                                  transform=data_transform,  # transforms to perform on data (images)\n",
    "                                  target_transform=None)  # transforms to perform on labels (if necessary)\n",
    "\n",
    "test_data = datasets.ImageFolder(root=test_dir,\n",
    "                                 transform=data_transform)\n",
    "dataset = torch.utils.data.ConcatDataset([train_data, test_data])\n"
   ]
  },
  {
   "cell_type": "code",
   "execution_count": null,
   "metadata": {},
   "outputs": [],
   "source": [
    "class Generator(nn.Module):\n",
    "    def __init__(self):\n",
    "        super(Generator, self).__init__()\n",
    "        self.fc1 = nn.Linear(128, 256)\n",
    "        self.fc2 = nn.Linear(256, 512)\n",
    "        self.fc3 = nn.Linear(512, 1024)\n",
    "        self.fc4 = nn.Linear(1024, 3072)\n",
    "\n",
    "    def forward(self, x):\n",
    "        x = torch.relu(self.fc1(x))\n",
    "        x = torch.relu(self.fc2(x))\n",
    "        x = torch.relu(self.fc3(x))\n",
    "        x = torch.tanh(self.fc4(x))\n",
    "        return x.view(-1, 3, 64, 64)\n",
    "\n",
    "class Discriminator(nn.Module):\n",
    "    def __init__(self):\n",
    "        super(Discriminator, self).__init__()\n",
    "        self.conv1 = nn.Conv2d(3, 64, kernel_size=3, stride=2, padding=1)\n",
    "        self.conv2 = nn.Conv2d(64, 128, kernel_size=3, stride=2, padding=1)\n",
    "        self.fc1 = nn.Linear(128 * 16 * 16, 1)\n",
    "\n",
    "    def forward(self, x):\n",
    "        x = torch.relu(self.conv1(x))\n",
    "        x = torch.relu(self.conv2(x))\n",
    "        x = x.view(-1, 128 * 16 * 16)\n",
    "        x = torch.sigmoid(self.fc1(x))\n",
    "        return x\n",
    "\n",
    "\n",
    "# Define the generator and discriminator\n",
    "generator = Generator()\n",
    "discriminator = Discriminator()\n",
    "\n",
    "# Define the loss function and optimizers\n",
    "loss_fn = nn.BCELoss()\n",
    "gen_optimizer = torch.optim.Adam(generator.parameters())\n",
    "dis_optimizer = torch.optim.Adam(discriminator.parameters())\n",
    "\n",
    "dataloader = DataLoader(dataset, batch_size=64, shuffle=True)"
   ]
  },
  {
   "cell_type": "code",
   "execution_count": null,
   "metadata": {},
   "outputs": [],
   "source": [
    "# Train the GAN\n",
    "for epoch in range(100):\n",
    "    for i, (real_images, _) in enumerate(dataloader):\n",
    "        # Generate fake images\n",
    "        noise = torch.randn(real_images.shape[0], 128)\n",
    "        fake_images = generator(noise)\n",
    "        \n",
    "        # Train the discriminator\n",
    "        if i%2 == 0:\n",
    "            dis_optimizer.zero_grad()\n",
    "            real_output = discriminator(real_images)\n",
    "            fake_output = discriminator(fake_images.detach())\n",
    "            real_loss = loss_fn(real_output, torch.ones_like(real_output))\n",
    "            fake_loss = loss_fn(fake_output, torch.zeros_like(fake_output))\n",
    "            dis_loss = real_loss + fake_loss\n",
    "            dis_loss.backward()\n",
    "            dis_optimizer.step()\n",
    "            \n",
    "        # Train the generator\n",
    "        gen_optimizer.zero_grad()\n",
    "        fake_output = discriminator(fake_images)\n",
    "        gen_loss = loss_fn(fake_output, torch.ones_like(fake_output))\n",
    "        gen_loss.backward()\n",
    "        gen_optimizer.step()\n",
    "    print(f\"Epoch {epoch+1} of {100}, Generator Loss: {gen_loss.item():.4f}, Discriminator Loss: {dis_loss.item():.4f}\")\n"
   ]
  },
  {
   "cell_type": "code",
   "execution_count": null,
   "metadata": {},
   "outputs": [],
   "source": [
    "# generate new images\n",
    "noise = torch.randn(64, 128)\n",
    "gen_images = generator(noise)\n",
    "\n",
    "# plot the images\n",
    "fig, axes = plt.subplots(nrows=4, ncols=4, figsize=(10, 10))\n",
    "for i, ax in enumerate(axes.flatten()):\n",
    "    gen_images = gen_images.clip(0, 1)\n",
    "    ax.imshow(gen_images[i,:,:,:].permute(1, 2, 0).detach().numpy())\n",
    "    ax.axis(\"off\")"
   ]
  }
 ],
 "metadata": {
  "kernelspec": {
   "display_name": "Python 3",
   "language": "python",
   "name": "python3"
  },
  "language_info": {
   "codemirror_mode": {
    "name": "ipython",
    "version": 3
   },
   "file_extension": ".py",
   "mimetype": "text/x-python",
   "name": "python",
   "nbconvert_exporter": "python",
   "pygments_lexer": "ipython3",
   "version": "3.10.7 (tags/v3.10.7:6cc6b13, Sep  5 2022, 14:08:36) [MSC v.1933 64 bit (AMD64)]"
  },
  "orig_nbformat": 4,
  "vscode": {
   "interpreter": {
    "hash": "689ffbb94fe8f58a5045b4f3f0726e738a118a8a590ae859861904a2cad8ac3d"
   }
  }
 },
 "nbformat": 4,
 "nbformat_minor": 2
}
