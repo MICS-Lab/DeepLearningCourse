{
  "cells": [
    {
      "attachments": {},
      "cell_type": "markdown",
      "metadata": {
        "id": "0QnY5MVW08Ea"
      },
      "source": [
        "![just torch it](../images/just_torch_it.svg)"
      ]
    },
    {
      "cell_type": "markdown",
      "metadata": {
        "id": "k5e4BjKq1B0D"
      },
      "source": [
        "# Deep Learning with PyTorch"
      ]
    },
    {
      "cell_type": "markdown",
      "metadata": {
        "id": "UnghrM6i1hZN"
      },
      "source": [
        "[use PyTorch for all questions]"
      ]
    },
    {
      "cell_type": "code",
      "execution_count": 1,
      "metadata": {
        "id": "Ka-VVFiCuOb5"
      },
      "outputs": [],
      "source": [
        "import torch\n",
        "import torch.nn as nn\n",
        "import numpy as np\n",
        "import matplotlib.pyplot as pqsdfqsdfdqsflt"
      ]
    },
    {
      "cell_type": "markdown",
      "metadata": {
        "id": "aythUwT31n-p"
      },
      "source": [
        "## $XOR$\n",
        "**Fitting the $XOR$ function (again!)**"
      ]
    },
    {
      "cell_type": "markdown",
      "metadata": {
        "id": "4EWFDHbs2STt"
      },
      "source": [
        "Define the $XOR$ function & generate training data"
      ]
    },
    {
      "cell_type": "code",
      "execution_count": 1,
      "metadata": {
        "id": "UnnBGrp21nax"
      },
      "outputs": [],
      "source": []
    },
    {
      "cell_type": "markdown",
      "metadata": {
        "id": "PAGBIn0m2bEH"
      },
      "source": [
        "Convert training data to tensors"
      ]
    },
    {
      "cell_type": "code",
      "execution_count": 1,
      "metadata": {
        "id": "FsGk_lSu2ZPt"
      },
      "outputs": [],
      "source": []
    },
    {
      "cell_type": "markdown",
      "metadata": {
        "id": "2kZWGBW-2gJ_"
      },
      "source": [
        "Define the neural network using the nn.Module class with:\n",
        "- two fully connected layers\n",
        "- relu activation for the hidden layer; no activation for the output layer\n",
        "- the number of hidden units as a parameter, set to $6$ by default"
      ]
    },
    {
      "cell_type": "code",
      "execution_count": 1,
      "metadata": {
        "id": "piIat5Fi2mxY"
      },
      "outputs": [],
      "source": []
    },
    {
      "cell_type": "markdown",
      "metadata": {
        "id": "QUMin_Wv2oXH"
      },
      "source": [
        "Create an instance of the neural network and test its outputs (should be random noise)"
      ]
    },
    {
      "cell_type": "code",
      "execution_count": 1,
      "metadata": {
        "id": "s-sEWe-92o1R"
      },
      "outputs": [],
      "source": []
    },
    {
      "cell_type": "markdown",
      "metadata": {
        "id": "mhSbWwZ-4a0m"
      },
      "source": [
        "Define the loss function (MSE) and optimizer (SGD) with learning rate $0.01$"
      ]
    },
    {
      "cell_type": "code",
      "execution_count": 1,
      "metadata": {
        "id": "uNXPzwjV2pdY"
      },
      "outputs": [],
      "source": []
    },
    {
      "cell_type": "markdown",
      "metadata": {
        "id": "5D9k2CNC5CJU"
      },
      "source": [
        "Train the neural network for $5000$ epochs;\n",
        "in addition:\n",
        "- print the loss every $500$ epochs\n",
        "- save the losses and plot them in a semilogy"
      ]
    },
    {
      "cell_type": "code",
      "execution_count": 1,
      "metadata": {
        "id": "0izoD6Qb2pgp"
      },
      "outputs": [],
      "source": []
    },
    {
      "cell_type": "markdown",
      "metadata": {
        "id": "-ZAMfSjK7G93"
      },
      "source": [
        "Test your model & plot its outputs"
      ]
    },
    {
      "cell_type": "code",
      "execution_count": 1,
      "metadata": {
        "id": "slUWPGN22pja"
      },
      "outputs": [],
      "source": []
    },
    {
      "cell_type": "markdown",
      "metadata": {
        "id": "P8n46Kl5PMxi"
      },
      "source": [
        "-----"
      ]
    },
    {
      "cell_type": "markdown",
      "metadata": {
        "id": "OAgSJ1jiPNHp"
      },
      "source": [
        "## $\\sin(x)$\n",
        "**Fitting $\\sin(x)$ on $[-2\\pi, 2\\pi]$**"
      ]
    },
    {
      "cell_type": "markdown",
      "metadata": {
        "id": "SbQlxmUDQdhU"
      },
      "source": [
        "Define the function we want to fit"
      ]
    },
    {
      "cell_type": "code",
      "execution_count": 1,
      "metadata": {
        "id": "AQo88pR0Qfhw"
      },
      "outputs": [],
      "source": []
    },
    {
      "cell_type": "markdown",
      "metadata": {
        "id": "oo6IHZidQg_L"
      },
      "source": [
        "Define the bounds of the interval"
      ]
    },
    {
      "cell_type": "code",
      "execution_count": 1,
      "metadata": {
        "id": "LkVNakSCQhJt"
      },
      "outputs": [],
      "source": []
    },
    {
      "cell_type": "markdown",
      "metadata": {
        "id": "nq29oNYrQsCt"
      },
      "source": [
        "Generate some training data: $1000$ equispaced points on our interval."
      ]
    },
    {
      "cell_type": "code",
      "execution_count": 1,
      "metadata": {
        "id": "7V7TLsMTQsIu"
      },
      "outputs": [],
      "source": []
    },
    {
      "cell_type": "markdown",
      "metadata": {
        "id": "wxfASrp4Qwu4"
      },
      "source": [
        "Define the neural network with:\n",
        "- two dense layers\n",
        "- $ReLU$ activation for the hidden layer (no activation for the output)\n",
        "- sizes of input, hidden and output layers as parameters (default to $1$, $10$, $1$)"
      ]
    },
    {
      "cell_type": "code",
      "execution_count": 1,
      "metadata": {
        "id": "GkXxP7MBQxF-"
      },
      "outputs": [],
      "source": []
    },
    {
      "cell_type": "markdown",
      "metadata": {
        "id": "n3_gzSNuS6Y_"
      },
      "source": [
        "Create the nework to fit the $\\sin$ function with a hidden layer of $100$ neurons; plot its current output on the interval"
      ]
    },
    {
      "cell_type": "code",
      "execution_count": 1,
      "metadata": {
        "id": "l_dGW4enS6fw"
      },
      "outputs": [],
      "source": []
    },
    {
      "cell_type": "markdown",
      "metadata": {
        "id": "tkyMqR1xS7Jn"
      },
      "source": [
        "Define the loss function (MSE) and optimizer (SGD) with learning rate of $0.005$"
      ]
    },
    {
      "cell_type": "code",
      "execution_count": 1,
      "metadata": {
        "id": "r9aIL2YZS7Th"
      },
      "outputs": [],
      "source": []
    },
    {
      "cell_type": "markdown",
      "metadata": {
        "id": "e8bdJJWeTfLV"
      },
      "source": [
        "Train the network on $25000$ epochs printing the loss every $2500$ epochs & plot the loss in a semilogy"
      ]
    },
    {
      "cell_type": "code",
      "execution_count": 1,
      "metadata": {
        "id": "tUT-pmgbPNU5"
      },
      "outputs": [],
      "source": []
    },
    {
      "cell_type": "markdown",
      "metadata": {
        "id": "krgt2wVWTshS"
      },
      "source": [
        "Test the network on some unseen data (generate points on $[-2\\pi, 2\\pi]$ that are different of your training ones) & plot the result\n"
      ]
    },
    {
      "cell_type": "code",
      "execution_count": 1,
      "metadata": {
        "id": "e5eRJLMITqPl"
      },
      "outputs": [],
      "source": []
    },
    {
      "cell_type": "markdown",
      "metadata": {
        "id": "m2isnSDzZ05y"
      },
      "source": [
        "Start over on $[-\\pi, \\pi]$ with learning rate of $0.01$, it should converge faster; explain the differences"
      ]
    },
    {
      "cell_type": "code",
      "execution_count": 1,
      "metadata": {
        "id": "E--5iVRvZ1J0"
      },
      "outputs": [],
      "source": []
    },
    {
      "attachments": {},
      "cell_type": "markdown",
      "metadata": {},
      "source": [
        "Start over on $[-\\pi, \\pi]$ with learning rate of $0.1$, what is happening?\n",
        "explain the differences"
      ]
    },
    {
      "cell_type": "code",
      "execution_count": null,
      "metadata": {},
      "outputs": [],
      "source": []
    },
    {
      "cell_type": "markdown",
      "metadata": {
        "id": "CaV6gfygfTKP"
      },
      "source": [
        "Experiment other intervals/functions/architectures/learning rates on your own."
      ]
    }
  ],
  "metadata": {
    "colab": {
      "provenance": []
    },
    "kernelspec": {
      "display_name": "Python 3",
      "language": "python",
      "name": "python3"
    },
    "language_info": {
      "name": "python",
      "version": "3.10.7 (tags/v3.10.7:6cc6b13, Sep  5 2022, 14:08:36) [MSC v.1933 64 bit (AMD64)]"
    },
    "vscode": {
      "interpreter": {
        "hash": "689ffbb94fe8f58a5045b4f3f0726e738a118a8a590ae859861904a2cad8ac3d"
      }
    }
  },
  "nbformat": 4,
  "nbformat_minor": 0
}
