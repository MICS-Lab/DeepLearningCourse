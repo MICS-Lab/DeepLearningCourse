{
  "nbformat": 4,
  "nbformat_minor": 0,
  "metadata": {
    "colab": {
      "provenance": []
    },
    "kernelspec": {
      "name": "python3",
      "display_name": "Python 3"
    },
    "language_info": {
      "name": "python"
    }
  },
  "cells": [
    {
      "cell_type": "markdown",
      "source": [
        "![just_torch_it.svg](data:image/svg+xml;base64,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)"
      ],
      "metadata": {
        "id": "0QnY5MVW08Ea"
      }
    },
    {
      "cell_type": "markdown",
      "source": [
        "# Deep Learning with PyTorch"
      ],
      "metadata": {
        "id": "k5e4BjKq1B0D"
      }
    },
    {
      "cell_type": "markdown",
      "source": [
        "[use PyTorch for all questions]"
      ],
      "metadata": {
        "id": "UnghrM6i1hZN"
      }
    },
    {
      "cell_type": "code",
      "execution_count": 1,
      "metadata": {
        "id": "Ka-VVFiCuOb5"
      },
      "outputs": [],
      "source": [
        "import torch\n",
        "import torch.nn as nn\n",
        "import numpy as np\n",
        "import matplotlib.pyplot as pqsdfqsdfdqsflt"
      ]
    },
    {
      "cell_type": "markdown",
      "source": [
        "## $XOR$\n",
        "**Fitting the $XOR$ function (again!)**"
      ],
      "metadata": {
        "id": "aythUwT31n-p"
      }
    },
    {
      "cell_type": "markdown",
      "source": [
        "Define the $XOR$ function & generate training data"
      ],
      "metadata": {
        "id": "4EWFDHbs2STt"
      }
    },
    {
      "cell_type": "code",
      "source": [],
      "metadata": {
        "id": "UnnBGrp21nax"
      },
      "execution_count": 1,
      "outputs": []
    },
    {
      "cell_type": "markdown",
      "source": [
        "Convert training data to tensors"
      ],
      "metadata": {
        "id": "PAGBIn0m2bEH"
      }
    },
    {
      "cell_type": "code",
      "source": [],
      "metadata": {
        "id": "FsGk_lSu2ZPt"
      },
      "execution_count": 1,
      "outputs": []
    },
    {
      "cell_type": "markdown",
      "source": [
        "Define the neural network using the nn.Module class with:\n",
        "- two fully connected layers\n",
        "- relu activation for the hidden layer; no activation for the output layer\n",
        "- the number of hidden units as a parameter, set to $6$ by default"
      ],
      "metadata": {
        "id": "2kZWGBW-2gJ_"
      }
    },
    {
      "cell_type": "code",
      "source": [],
      "metadata": {
        "id": "piIat5Fi2mxY"
      },
      "execution_count": 1,
      "outputs": []
    },
    {
      "cell_type": "markdown",
      "source": [
        "Create an instance of the neural network and test its outputs (should be random noise)"
      ],
      "metadata": {
        "id": "QUMin_Wv2oXH"
      }
    },
    {
      "cell_type": "code",
      "source": [],
      "metadata": {
        "id": "s-sEWe-92o1R"
      },
      "execution_count": 1,
      "outputs": []
    },
    {
      "cell_type": "markdown",
      "source": [
        "Define the loss function (MSE) and optimizer (SGD) with learning rate $0.01$"
      ],
      "metadata": {
        "id": "mhSbWwZ-4a0m"
      }
    },
    {
      "cell_type": "code",
      "source": [],
      "metadata": {
        "id": "uNXPzwjV2pdY"
      },
      "execution_count": 1,
      "outputs": []
    },
    {
      "cell_type": "markdown",
      "source": [
        "Train the neural network for $5000$ epochs;\n",
        "in addition:\n",
        "- print the loss every $500$ epochs\n",
        "- save the losses and plot them in a semilogy"
      ],
      "metadata": {
        "id": "5D9k2CNC5CJU"
      }
    },
    {
      "cell_type": "code",
      "source": [],
      "metadata": {
        "id": "0izoD6Qb2pgp"
      },
      "execution_count": 1,
      "outputs": []
    },
    {
      "cell_type": "markdown",
      "source": [
        "Test your model & plot its outputs"
      ],
      "metadata": {
        "id": "-ZAMfSjK7G93"
      }
    },
    {
      "cell_type": "code",
      "source": [],
      "metadata": {
        "id": "slUWPGN22pja"
      },
      "execution_count": 1,
      "outputs": []
    },
    {
      "cell_type": "markdown",
      "source": [
        "-----"
      ],
      "metadata": {
        "id": "P8n46Kl5PMxi"
      }
    },
    {
      "cell_type": "markdown",
      "source": [
        "## $\\sin(x)$\n",
        "**Fitting $\\sin(x)$ on $[-2\\pi, 2\\pi]$**"
      ],
      "metadata": {
        "id": "OAgSJ1jiPNHp"
      }
    },
    {
      "cell_type": "markdown",
      "source": [
        "Define the function we want to fit"
      ],
      "metadata": {
        "id": "SbQlxmUDQdhU"
      }
    },
    {
      "cell_type": "code",
      "source": [],
      "metadata": {
        "id": "AQo88pR0Qfhw"
      },
      "execution_count": 1,
      "outputs": []
    },
    {
      "cell_type": "markdown",
      "source": [
        "Define the bounds of the interval"
      ],
      "metadata": {
        "id": "oo6IHZidQg_L"
      }
    },
    {
      "cell_type": "code",
      "source": [],
      "metadata": {
        "id": "LkVNakSCQhJt"
      },
      "execution_count": 1,
      "outputs": []
    },
    {
      "cell_type": "markdown",
      "source": [
        "Generate some training data: $1000$ equispaced points on our interval."
      ],
      "metadata": {
        "id": "nq29oNYrQsCt"
      }
    },
    {
      "cell_type": "code",
      "source": [],
      "metadata": {
        "id": "7V7TLsMTQsIu"
      },
      "execution_count": 1,
      "outputs": []
    },
    {
      "cell_type": "markdown",
      "source": [
        "Define the neural network with:\n",
        "- two dense layers\n",
        "- $ReLU$ activation for the hidden layer (no activation for the output)\n",
        "- sizes of input, hidden and output layers as parameters (default to $1$, $10$, $1$)"
      ],
      "metadata": {
        "id": "wxfASrp4Qwu4"
      }
    },
    {
      "cell_type": "code",
      "source": [],
      "metadata": {
        "id": "GkXxP7MBQxF-"
      },
      "execution_count": 1,
      "outputs": []
    },
    {
      "cell_type": "markdown",
      "source": [
        "Create the nework to fit the $\\sin$ function with a hidden layer of $100$ neurons; plot its current output on the interval"
      ],
      "metadata": {
        "id": "n3_gzSNuS6Y_"
      }
    },
    {
      "cell_type": "code",
      "source": [],
      "metadata": {
        "id": "l_dGW4enS6fw"
      },
      "execution_count": 1,
      "outputs": []
    },
    {
      "cell_type": "markdown",
      "source": [
        "Define the loss function (MSE) and optimizer (SGD) with learning rate of $0.005$"
      ],
      "metadata": {
        "id": "tkyMqR1xS7Jn"
      }
    },
    {
      "cell_type": "code",
      "source": [],
      "metadata": {
        "id": "r9aIL2YZS7Th"
      },
      "execution_count": 1,
      "outputs": []
    },
    {
      "cell_type": "markdown",
      "source": [
        "Train the network on $25000$ epochs printing the loss every $2500$ epochs & plot the loss in a semilogy"
      ],
      "metadata": {
        "id": "e8bdJJWeTfLV"
      }
    },
    {
      "cell_type": "code",
      "source": [],
      "metadata": {
        "id": "tUT-pmgbPNU5"
      },
      "execution_count": 1,
      "outputs": []
    },
    {
      "cell_type": "markdown",
      "source": [
        "Test the network on some unseen data (generate points on $[-2\\pi, 2\\pi]$ that are different of your training ones) & plot the result\n"
      ],
      "metadata": {
        "id": "krgt2wVWTshS"
      }
    },
    {
      "cell_type": "code",
      "source": [],
      "metadata": {
        "id": "e5eRJLMITqPl"
      },
      "execution_count": 1,
      "outputs": []
    },
    {
      "cell_type": "markdown",
      "source": [
        "Start over on $[-\\pi, \\pi]$ with learning rate of $0.01$, it should converge faster; explain the differences"
      ],
      "metadata": {
        "id": "m2isnSDzZ05y"
      }
    },
    {
      "cell_type": "code",
      "source": [],
      "metadata": {
        "id": "E--5iVRvZ1J0"
      },
      "execution_count": 1,
      "outputs": []
    },
    {
      "cell_type": "markdown",
      "source": [
        "Experiment other intervals/functions/architectures/learning rates on your own."
      ],
      "metadata": {
        "id": "CaV6gfygfTKP"
      }
    }
  ]
}