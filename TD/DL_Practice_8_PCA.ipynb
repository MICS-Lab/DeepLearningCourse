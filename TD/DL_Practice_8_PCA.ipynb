{
 "cells": [
  {
   "cell_type": "code",
   "execution_count": 71,
   "metadata": {},
   "outputs": [],
   "source": [
    "import numpy as np\n",
    "from sklearn.decomposition import PCA"
   ]
  },
  {
   "cell_type": "code",
   "execution_count": 72,
   "metadata": {},
   "outputs": [
    {
     "data": {
      "text/plain": [
       "array([[ 1.76,  0.4 ,  0.98,  2.24,  1.87],\n",
       "       [-0.98,  0.95, -0.15, -0.1 ,  0.41],\n",
       "       [ 0.14,  1.45,  0.76,  0.12,  0.44],\n",
       "       [ 0.33,  1.49, -0.21,  0.31, -0.85],\n",
       "       [-2.55,  0.65,  0.86, -0.74,  2.27],\n",
       "       [-1.45,  0.05, -0.19,  1.53,  1.47],\n",
       "       [ 0.15,  0.38, -0.89, -1.98, -0.35],\n",
       "       [ 0.16,  1.23,  1.2 , -0.39, -0.3 ],\n",
       "       [-1.05, -1.42, -1.71,  1.95, -0.51],\n",
       "       [-0.44, -1.25,  0.78, -1.61, -0.21],\n",
       "       [-0.9 ,  0.39, -0.51, -1.18, -0.03],\n",
       "       [ 0.43,  0.07,  0.3 , -0.63, -0.36],\n",
       "       [-0.67, -0.36, -0.81, -1.73,  0.18],\n",
       "       [-0.4 , -1.63,  0.46, -0.91,  0.05],\n",
       "       [ 0.73,  0.13,  1.14, -1.23,  0.4 ]])"
      ]
     },
     "execution_count": 72,
     "metadata": {},
     "output_type": "execute_result"
    }
   ],
   "source": [
    "# generate random data\n",
    "np.random.seed(0)\n",
    "X_data = np.round(np.random.randn(15, 5), 2)\n",
    "X_data"
   ]
  },
  {
   "cell_type": "code",
   "execution_count": 73,
   "metadata": {},
   "outputs": [
    {
     "data": {
      "text/plain": [
       "array([[ 3.21928229, -1.27531524],\n",
       "       [ 0.23322856,  0.21326981],\n",
       "       [ 0.75013107, -1.18465437],\n",
       "       [ 0.45722842, -0.85572944],\n",
       "       [ 0.07424026,  0.824976  ],\n",
       "       [ 1.85440262,  1.41411254],\n",
       "       [-1.73816085, -0.30136739],\n",
       "       [ 0.03662805, -1.44631654],\n",
       "       [ 1.27228649,  2.69300441],\n",
       "       [-1.58758653,  0.18699988],\n",
       "       [-1.01256071,  0.3777244 ],\n",
       "       [-0.4323018 , -0.62056989],\n",
       "       [-1.56608462,  0.65763372],\n",
       "       [-0.94471058,  0.68504597],\n",
       "       [-0.61602267, -1.36881385]])"
      ]
     },
     "execution_count": 73,
     "metadata": {},
     "output_type": "execute_result"
    }
   ],
   "source": [
    "# perform PCA\n",
    "pca = PCA(n_components=2)\n",
    "pca.fit(X_data)\n",
    "X_pca = pca.transform(X_data)\n",
    "# transformed data\n",
    "X_pca"
   ]
  },
  {
   "cell_type": "code",
   "execution_count": 74,
   "metadata": {},
   "outputs": [
    {
     "data": {
      "text/plain": [
       "(array([0.358819  , 0.25853032]), 0.6173493128005983)"
      ]
     },
     "execution_count": 74,
     "metadata": {},
     "output_type": "execute_result"
    }
   ],
   "source": [
    "# explained variance ratio\n",
    "pca.explained_variance_ratio_, sum(pca.explained_variance_ratio_)"
   ]
  },
  {
   "cell_type": "code",
   "execution_count": 75,
   "metadata": {},
   "outputs": [
    {
     "data": {
      "text/plain": [
       "array([[ 0.13562921,  0.17132699,  0.07484863,  0.91498716,  0.33082921],\n",
       "       [-0.65225968, -0.52292827, -0.50075286,  0.22047095,  0.04174291]])"
      ]
     },
     "execution_count": 75,
     "metadata": {},
     "output_type": "execute_result"
    }
   ],
   "source": [
    "# basis vectors\n",
    "pca.components_"
   ]
  },
  {
   "cell_type": "code",
   "execution_count": 76,
   "metadata": {},
   "outputs": [
    {
     "data": {
      "text/plain": [
       "array([[-0.80753457,  0.987115  ,  0.03357662,  0.134432  , -0.55953609],\n",
       "       [ 0.55652531, -0.8528998 ,  0.19466137,  0.07042093, -0.02527201],\n",
       "       [ 0.41844197, -0.53332638,  0.02336535,  0.01517843,  0.05738102],\n",
       "       [-0.02582866, -0.79551265,  0.80673188, -0.37030535,  1.26421055],\n",
       "       [ 1.70597056, -0.90001724, -1.13355231,  0.69981212, -1.91233559],\n",
       "       [ 0.46314257, -0.30310353, -0.24532141,  0.18852531, -0.49881362],\n",
       "       [-0.50517559, -0.35153367,  1.04481162,  0.03316239,  0.06105234],\n",
       "       [ 0.4723418 , -0.29873816, -0.3390113 , -0.18535658,  0.55041084],\n",
       "       [-0.84997898,  0.39839555,  0.59069924, -0.48214497,  1.34199003],\n",
       "       [-0.21329559,  1.04888272, -0.8584694 , -0.09139325, -0.00874741],\n",
       "       [ 0.2002928 , -0.59233507,  0.37906465,  0.04679721,  0.00944933],\n",
       "       [-0.39986003,  0.34911524,  0.11239495, -0.19236823,  0.48974421],\n",
       "       [-0.28735478, -0.08354116,  0.49746875,  0.15204181, -0.37198832],\n",
       "       [-0.49095822,  1.27858235, -0.73974902, -0.09336532, -0.03527537],\n",
       "       [-0.23672858,  0.64891681, -0.366671  ,  0.07456348, -0.36226989]])"
      ]
     },
     "execution_count": 76,
     "metadata": {},
     "output_type": "execute_result"
    }
   ],
   "source": [
    "# transform back to original space\n",
    "X_ipca = pca.inverse_transform(X_pca)\n",
    "X_ipca - X_data"
   ]
  },
  {
   "cell_type": "code",
   "execution_count": 77,
   "metadata": {},
   "outputs": [
    {
     "data": {
      "text/plain": [
       "28.50819047763819"
      ]
     },
     "execution_count": 77,
     "metadata": {},
     "output_type": "execute_result"
    }
   ],
   "source": [
    "np.sum((X_ipca - X_data)**2)"
   ]
  },
  {
   "cell_type": "code",
   "execution_count": null,
   "metadata": {},
   "outputs": [],
   "source": []
  }
 ],
 "metadata": {
  "kernelspec": {
   "display_name": "Python 3",
   "language": "python",
   "name": "python3"
  },
  "language_info": {
   "codemirror_mode": {
    "name": "ipython",
    "version": 3
   },
   "file_extension": ".py",
   "mimetype": "text/x-python",
   "name": "python",
   "nbconvert_exporter": "python",
   "pygments_lexer": "ipython3",
   "version": "3.10.7"
  },
  "orig_nbformat": 4
 },
 "nbformat": 4,
 "nbformat_minor": 2
}
