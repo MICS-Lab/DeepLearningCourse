{
 "cells": [
  {
   "attachments": {},
   "cell_type": "markdown",
   "metadata": {},
   "source": [
    "Let $\\varepsilon >0$ and $f \\in \\mathcal{C}(\\left[ a,b \\right])$ with $a,b \\in \\mathbb{R}$, we want $N \\in \\mathbb{N}$ and $p \\in \\mathcal{P}(N,1)$ such that $\\|p-f\\|_\\infty < \\varepsilon$"
   ]
  },
  {
   "attachments": {},
   "cell_type": "markdown",
   "metadata": {},
   "source": [
    "If $p \\in \\mathcal{P}(N,1)$, then \n",
    "$$p(x) = \\xi + \\sum_{k=0}^{N-1} \\gamma_k (\\alpha_k x + \\beta_k)_+$$\n",
    "where $(x)_+$ is $\\text{ReLU}(x)$."
   ]
  },
  {
   "attachments": {},
   "cell_type": "markdown",
   "metadata": {},
   "source": [
    "All we need to do is to find the right coefficients $\\xi, \\alpha_k, \\beta_k, \\gamma_k (0 \\leq k < N)$ such that $|f(x)-p(x)| < \\varepsilon \\quad (\\forall x \\in \\left[ a,b \\right])$."
   ]
  }
 ],
 "metadata": {
  "kernelspec": {
   "display_name": "Python 3",
   "language": "python",
   "name": "python3"
  },
  "language_info": {
   "name": "python",
   "version": "3.10.7 (tags/v3.10.7:6cc6b13, Sep  5 2022, 14:08:36) [MSC v.1933 64 bit (AMD64)]"
  },
  "orig_nbformat": 4,
  "vscode": {
   "interpreter": {
    "hash": "689ffbb94fe8f58a5045b4f3f0726e738a118a8a590ae859861904a2cad8ac3d"
   }
  }
 },
 "nbformat": 4,
 "nbformat_minor": 2
}
