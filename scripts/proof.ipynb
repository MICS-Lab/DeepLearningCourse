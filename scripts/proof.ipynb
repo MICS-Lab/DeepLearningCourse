{
 "cells": [
  {
   "attachments": {},
   "cell_type": "markdown",
   "metadata": {},
   "source": [
    "Let $\\varepsilon >0$ and $f \\in \\mathcal{C}(\\left[ a,b \\right])$ with $a,b \\in \\mathbb{R}$, we want $N \\in \\mathbb{N}$ and $p \\in \\mathcal{P}(N,1)$ such that $\\|p-f\\|_\\infty < \\varepsilon$"
   ]
  },
  {
   "attachments": {},
   "cell_type": "markdown",
   "metadata": {},
   "source": [
    "If $p \\in \\mathcal{P}(N,1)$, then \n",
    "$$p(x) = \\xi + \\sum_{k=0}^{N-1} \\gamma_k (\\alpha_k x + \\beta_k)_+$$\n",
    "where $(x)_+$ is $\\text{ReLU}(x)$."
   ]
  },
  {
   "attachments": {},
   "cell_type": "markdown",
   "metadata": {},
   "source": [
    "All we need to do is to find the right coefficients $\\xi, \\alpha_k, \\beta_k, \\gamma_k (0 \\leq k < N)$ such that $|f(x)-p(x)| < \\varepsilon \\quad (\\forall x \\in \\left[ a,b \\right])$."
   ]
  },
  {
   "attachments": {},
   "cell_type": "markdown",
   "metadata": {},
   "source": [
    "---"
   ]
  },
  {
   "attachments": {},
   "cell_type": "markdown",
   "metadata": {},
   "source": [
    "Since $f$ is continuous on a compact set, so $f$ is uniformly continuous.\n",
    "Thus, $\\forall x_1,x_2 \\in \\left[ a,b \\right]$, $\\exists \\delta>0$ such that \n",
    "$$|x_1-x_2| < \\delta \\implies |f(x_1) - f(x_2)| < \\varepsilon$$"
   ]
  },
  {
   "attachments": {},
   "cell_type": "markdown",
   "metadata": {},
   "source": [
    "Let $c_0 = a$ and $c_{i+1} = c_i + \\delta$. Let $N \\in \\mathbb{N}$ be such that $c_N \\geq b$ and redefine $c_N = b$."
   ]
  },
  {
   "attachments": {},
   "cell_type": "markdown",
   "metadata": {},
   "source": [
    "Take:\n",
    "- $\\alpha_k = 1 \\quad (0 \\leq k < N)$\n",
    "- $\\beta_k = -c_k \\quad (0 \\leq k < N)$\n",
    "- $\\tilde{\\gamma_k} = \\frac{f(c_{k+1})-f(c_k)}{c_{k+1}-c_k} \\quad (0 \\leq k < N)$\n",
    "- $\\gamma_0 = \\tilde{\\gamma0}$\n",
    "- $\\gamma_k = \\tilde{\\gamma_{k+1}} - \\tilde{\\gamma_k}  \\quad (0 < k < N)$\n",
    "- $\\xi = f(a)$"
   ]
  },
  {
   "cell_type": "markdown",
   "metadata": {},
   "source": []
  },
  {
   "cell_type": "markdown",
   "metadata": {},
   "source": []
  }
 ],
 "metadata": {
  "kernelspec": {
   "display_name": "Python 3",
   "language": "python",
   "name": "python3"
  },
  "language_info": {
   "name": "python",
   "version": "3.10.7 (tags/v3.10.7:6cc6b13, Sep  5 2022, 14:08:36) [MSC v.1933 64 bit (AMD64)]"
  },
  "orig_nbformat": 4,
  "vscode": {
   "interpreter": {
    "hash": "689ffbb94fe8f58a5045b4f3f0726e738a118a8a590ae859861904a2cad8ac3d"
   }
  }
 },
 "nbformat": 4,
 "nbformat_minor": 2
}
