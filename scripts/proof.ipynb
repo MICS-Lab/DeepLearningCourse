{
 "cells": [
  {
   "attachments": {},
   "cell_type": "markdown",
   "metadata": {},
   "source": [
    "Let $\\varepsilon >0$ and $f \\in \\mathcal{C}(\\left[ a,b \\right])$ with $a,b \\in \\mathbb{R}$, we want $N \\in \\mathbb{N}$ and $p \\in \\mathcal{P}(N,1)$ such that $\\|p-f\\|_\\infty < \\varepsilon$"
   ]
  },
  {
   "attachments": {},
   "cell_type": "markdown",
   "metadata": {},
   "source": [
    "If $p \\in \\mathcal{P}(N,1)$, then \n",
    "$$p(x) = \\xi + \\sum_{k=0}^{N-1} \\gamma_k (\\alpha_k x + \\beta_k)_+$$\n",
    "where $(x)_+$ is $\\text{ReLU}(x)$."
   ]
  },
  {
   "attachments": {},
   "cell_type": "markdown",
   "metadata": {},
   "source": [
    "All we need to do is to find the right coefficients $\\xi, \\alpha_k, \\beta_k, \\gamma_k (0 \\leq k < N)$ such that $|f(x)-p(x)| < \\varepsilon \\quad (\\forall x \\in \\left[ a,b \\right])$."
   ]
  },
  {
   "attachments": {},
   "cell_type": "markdown",
   "metadata": {},
   "source": [
    "---"
   ]
  },
  {
   "attachments": {},
   "cell_type": "markdown",
   "metadata": {},
   "source": [
    "Since $f$ is continuous on a compact set, so $f$ is uniformly continuous.\n",
    "Thus, $\\forall x_1,x_2 \\in \\left[ a,b \\right]$, $\\exists \\delta>0$ such that \n",
    "$$|x_1-x_2| < \\delta \\implies |f(x_1) - f(x_2)| < \\varepsilon$$"
   ]
  },
  {
   "attachments": {},
   "cell_type": "markdown",
   "metadata": {},
   "source": [
    "Let $c_0 = a$ and $c_{i+1} = c_i + \\delta$. Let $N \\in \\mathbb{N}$ be such that $c_N \\geq b$ and redefine $c_N = b$."
   ]
  },
  {
   "attachments": {},
   "cell_type": "markdown",
   "metadata": {},
   "source": [
    "Take:\n",
    "- $\\alpha_k = 1 \\quad (0 \\leq k < N)$\n",
    "- $\\beta_k = -c_k \\quad (0 \\leq k < N)$\n",
    "- $\\tilde{\\gamma_k} = \\frac{f(c_{k+1})-f(c_k)}{c_{k+1}-c_k} \\quad (0 \\leq k < N)$\n",
    "- $\\gamma_0 = \\tilde{\\gamma0}$\n",
    "- $\\gamma_k = \\tilde{\\gamma_{k+1}} - \\tilde{\\gamma_k}  \\quad (0 < k < N)$\n",
    "- $\\xi = f(a)$"
   ]
  },
  {
   "attachments": {},
   "cell_type": "markdown",
   "metadata": {},
   "source": [
    "Thus, $$p(x) = \\xi + \\sum_{k=0}^{N-1} \\gamma_k (\\alpha_k x + \\beta_k)_+$$\n",
    "becomes $$p(x) = f(a) + \\sum_{k=0}^{N-1} \\gamma_k (x - c_k)_+$$"
   ]
  },
  {
   "attachments": {},
   "cell_type": "markdown",
   "metadata": {},
   "source": [
    "---"
   ]
  },
  {
   "attachments": {},
   "cell_type": "markdown",
   "metadata": {},
   "source": [
    "*Claim:* If $x \\in \\left[ c_n, c_{n+1} \\right]$, then $p(x) = f(c_n) + \\tilde{\\gamma_n}(x-c_n)$."
   ]
  },
  {
   "attachments": {},
   "cell_type": "markdown",
   "metadata": {},
   "source": [
    "*Proof:*"
   ]
  },
  {
   "attachments": {},
   "cell_type": "markdown",
   "metadata": {},
   "source": [
    "_Case $k=0$:_\n",
    "\n",
    "Let $x \\in \\left[ c_0, c_1 \\right]$, then:\n",
    "$$p(x) = f(a) + \\sum_{k=0}^{N-1} \\gamma_k (x - c_k)_+$$\n",
    "since $x \\leq c_1$, $(x - c_k)_+ = 0 \\quad \\forall k>0$, and $(x - c_k)_+ = x - c_k$: \n",
    "$$p(x) = f(a) + \\gamma_0 (x - c_0)$$\n",
    "as $\\tilde{\\gamma_0} =\\gamma_0$ and $a = c_0$, we finally have $p(x) = f(a) + \\tilde{\\gamma_0}(x - c_0)$, as expected."
   ]
  },
  {
   "attachments": {},
   "cell_type": "markdown",
   "metadata": {},
   "source": [
    "_Recursion:_\n",
    "- Suppose that if $x \\in \\left[ c_n, c_{n+1} \\right]$, then $p(x) = f(c_n) + \\tilde{\\gamma_n}(x-c_n)$.\n",
    "- We want to show that if $x \\in \\left[ c_{n+1}, c_{n+2} \\right]$, then $p(x) = f(c_{n+1}) + \\tilde{\\gamma_{n+1}}(x-c_{n+1})$.\n",
    "\n",
    "Let $x \\in \\left[ c_{n+1}, c_{n+2} \\right]$, let's calculate $p(x)$:\n",
    "$$p(x) = f(a) + \\sum_{k=0}^{N-1} \\gamma_k (x - c_k)_+$$\n",
    "if $k > n+1$, then $c_k \\geq x$, so $(x - c_k)_+ = 0$; similarly, \n",
    "if $k \\leq n+1$, then $c_k < x$, so $(x - c_k)_+ = x - c_k$ thus:\n",
    "$$p(x) = f(a) + \\sum_{k=0}^{n+1} \\gamma_k (x - c_k)$$\n",
    "Now, let's split $(x - c_k)$ to $(x - c_{n+1}) + (c_{n+1} - c_k)$:\n",
    "$$p(x) = f(a) + \\sum_{k=0}^{n+1} \\gamma_k (x - c_{n+1}) + \\sum_{k=0}^{n+1} \\gamma_k (c_{n+1} - c_k)$$\n",
    "We can add again $(c_{n+1} - c_k)_+$ for $n+1 < k < N$ (this is just adding zeros) to the second sum to make $p(c_{n+1})$ appear:\n",
    "$$p(x) = f(a) + \\sum_{k=0}^{N-1} \\gamma_k (c_{n+1} - c_k) + \\sum_{k=0}^{n+1} \\gamma_k (x - c_{n+1})$$\n",
    "$$= f(c_{n+1}) + \\sum_{k=0}^{n+1} \\gamma_k (x - c_{n+1})$$\n",
    "Now, $\\gamma_k = \\tilde{\\gamma_k} - \\tilde{\\gamma_{k-1}} \\quad 0 < k <N$ and $\\tilde{\\gamma_0} = \\gamma_0$, so:\n",
    "$$p(x) = f(c_{n+1}) + \\gamma_0 (x - c_{n+1}) + \\sum_{k=1}^{n+1} (\\tilde{\\gamma_k} - \\tilde{\\gamma_{k-1}}) (x - c_{n+1})$$\n",
    "This is a telescoping series, after simplification, we have:\n",
    "$$p(x) = f(c_{n+1}) + \\tilde{\\gamma_{n+1}} (x - c_{n+1})$$\n",
    "Which is what we expected."
   ]
  },
  {
   "attachments": {},
   "cell_type": "markdown",
   "metadata": {},
   "source": [
    "_Conclusion:_\n",
    "\n",
    "$\\forall\\, 0 \\leq n < N$, if $x \\in \\left[ c_n, c_{n+1} \\right]$, then $p(x) = f(c_n) + \\tilde{\\gamma_n}(x-c_n)$"
   ]
  },
  {
   "attachments": {},
   "cell_type": "markdown",
   "metadata": {},
   "source": [
    "---"
   ]
  },
  {
   "attachments": {},
   "cell_type": "markdown",
   "metadata": {},
   "source": [
    "Take $x \\in \\left[ c_n, c_{n+1} \\right)$, then we have:\n",
    "- $|c_n - x| < \\delta$, so $|f(x) - f(c_n)| < \\varepsilon$\n",
    "\n",
    "WLOG, take $f(c_n) \\leq f(c_{n+1})$:\n",
    "- $f(c_n) \\leq p(x) \\leq f(c_{n+1})$ and $|f(c_{n+1}) - f(c_n)| \\leq \\varepsilon$ so $|p(x) - f(c_n)| \\leq \\varepsilon$"
   ]
  },
  {
   "cell_type": "markdown",
   "metadata": {},
   "source": []
  },
  {
   "cell_type": "markdown",
   "metadata": {},
   "source": []
  }
 ],
 "metadata": {
  "kernelspec": {
   "display_name": "Python 3",
   "language": "python",
   "name": "python3"
  },
  "language_info": {
   "name": "python",
   "version": "3.10.7 (tags/v3.10.7:6cc6b13, Sep  5 2022, 14:08:36) [MSC v.1933 64 bit (AMD64)]"
  },
  "orig_nbformat": 4,
  "vscode": {
   "interpreter": {
    "hash": "689ffbb94fe8f58a5045b4f3f0726e738a118a8a590ae859861904a2cad8ac3d"
   }
  }
 },
 "nbformat": 4,
 "nbformat_minor": 2
}
